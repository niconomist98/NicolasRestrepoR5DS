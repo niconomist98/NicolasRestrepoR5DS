{
  "cells": [
    {
      "cell_type": "markdown",
      "metadata": {},
      "source": [
        "**Notebook de modelos de machine learning para la clasificacion de reclamaciones fraudulentas**"
      ]
    },
    {
      "cell_type": "markdown",
      "metadata": {},
      "source": [
        "El objetivo de este notebook es procesar los datos y desarollar todo el proceso necesario para entrenar y testear distintos modelos de machine learning que ayuden a identificar aquellas reclamaciones de seguros que son fraudulentas, ayudando a los tomadores de desciciones de la empresa a mejorar las politicas de venta de seguros,  asi como tambien identificar de manera mas precisa a los impostores y evitar hacer desembolsos de reclamaciones que no son autenticas basandose en tecnicas de descubrimiento automatico de conocimiento que permiten identificar caracteristicas y combinaciones de caracteristicas que no son evidentes a simple vista, pero que mediante tecnicas de minería de datos permiten tener una nocion mas clara de cuales son las señales de alerta y los indicios mas relevantes que  se relacionan con casos de fraude del pasado, para prevenirlos en el futuro."
      ]
    },
    {
      "cell_type": "markdown",
      "metadata": {},
      "source": [
        "La variable que intentaremos clasificar o predecir mediante los modelos será fraudfound_p que indica si la reclamación de seguro fue fraudulenta o no."
      ]
    },
    {
      "cell_type": "markdown",
      "metadata": {},
      "source": [
        "Importando las librerias necesarias"
      ]
    },
    {
      "cell_type": "code",
      "execution_count": 4,
      "metadata": {
        "colab": {
          "base_uri": "https://localhost:8080/"
        },
        "id": "b0Yv7MFJnhkB",
        "outputId": "f437db2a-d7f0-410d-e247-e429bb5de2f3"
      },
      "outputs": [
        {
          "name": "stdout",
          "output_type": "stream",
          "text": [
            "Collecting plotly\n",
            "  Downloading plotly-5.15.0-py2.py3-none-any.whl (15.5 MB)\n",
            "     --------------------------------------- 15.5/15.5 MB 10.7 MB/s eta 0:00:00\n",
            "Requirement already satisfied: packaging in c:\\users\\user\\anaconda3\\envs\\axial\\lib\\site-packages (from plotly) (22.0)\n",
            "Collecting tenacity>=6.2.0\n",
            "  Downloading tenacity-8.2.2-py3-none-any.whl (24 kB)\n",
            "Installing collected packages: tenacity, plotly\n",
            "Successfully installed plotly-5.15.0 tenacity-8.2.2\n"
          ]
        }
      ],
      "source": [
        "#Notebook de modelamiento.\n",
        "#Importando las librerias necesarias\n",
        "#! pip install scikit-learn\n",
        "#! pip install numpy\n",
        "#! pip install imblearn\n",
        "! pip install plotly\n",
        "import numpy as np\n",
        "from sklearn.preprocessing import LabelEncoder\n",
        "import scipy.stats as stats\n",
        "from scipy.stats import chi2_contingency\n",
        "\n",
        "#Importando las librerias necesarias\n",
        "from matplotlib import cm\n",
        "import pandas as pd\n",
        "from sklearn.preprocessing import LabelEncoder,OneHotEncoder,OrdinalEncoder\n",
        "from sklearn.model_selection import train_test_split\n",
        "from sklearn import model_selection\n",
        "import scipy.stats as stats\n",
        "from scipy.stats import chi2_contingency\n",
        "from sklearn.metrics import accuracy_score\n",
        "from sklearn.metrics import precision_score\n",
        "from sklearn.metrics import recall_score\n",
        "from collections import Counter\n",
        "from imblearn.under_sampling import RandomUnderSampler\n",
        "from imblearn.over_sampling import SMOTE\n",
        "from sklearn.preprocessing import StandardScaler\n",
        "from sklearn.feature_selection import SelectKBest\n",
        "from sklearn.feature_selection import f_classif\n",
        "from imblearn.over_sampling import RandomOverSampler\n",
        "\n",
        "\n",
        "# algorithms\n",
        "from sklearn.linear_model import LogisticRegression\n",
        "from sklearn.svm import SVC\n",
        "from sklearn.naive_bayes import GaussianNB\n",
        "from sklearn.tree import DecisionTreeClassifier\n",
        "from sklearn.pipeline import make_pipeline\n",
        "from sklearn.preprocessing import StandardScaler\n",
        "from sklearn.model_selection import GridSearchCV\n",
        "from sklearn.metrics import classification_report\n",
        "from sklearn.metrics import confusion_matrix\n",
        "from sklearn.feature_selection import SelectKBest\n",
        "from sklearn.feature_selection import chi2\n",
        "from joblib import dump\n",
        "import plotly.express as px\n",
        "import matplotlib as plt\n",
        "from sklearn.inspection import permutation_importance\n",
        "from imblearn.over_sampling import SMOTE\n",
        "import re\n"
      ]
    },
    {
      "cell_type": "markdown",
      "metadata": {},
      "source": [
        "Leyendo datos"
      ]
    },
    {
      "cell_type": "code",
      "execution_count": 7,
      "metadata": {
        "id": "m7NdOJ1foT6Z"
      },
      "outputs": [],
      "source": [
        "df=pd.read_csv(\"C:/Users/USER/OneDrive/Escritorio/DSJRR5/r5-ds-challenge/data/datoseda.csv\")"
      ]
    },
    {
      "cell_type": "markdown",
      "metadata": {},
      "source": [
        "Obteniendo nombre de las columnas del dataset"
      ]
    },
    {
      "cell_type": "code",
      "execution_count": 8,
      "metadata": {
        "colab": {
          "base_uri": "https://localhost:8080/"
        },
        "id": "xmY714B3oX6T",
        "outputId": "31f7d59e-f488-4690-eb69-2828ff945349"
      },
      "outputs": [
        {
          "data": {
            "text/plain": [
              "Index(['monthh', 'weekofmonth', 'dayofweek', 'make', 'accidentarea',\n",
              "       'dayofweekclaimed', 'monthclaimed', 'weekofmonthclaimed', 'sex',\n",
              "       'maritalstatus', 'age', 'fault', 'policytype', 'vehiclecategory',\n",
              "       'vehicleprice', 'fraudfound_p', 'policynumber', 'repnumber',\n",
              "       'deductible', 'driverrating', 'days_policy_accident',\n",
              "       'days_policy_claim', 'pastnumberofclaims', 'ageofvehicle',\n",
              "       'ageofpolicyholder', 'policereportfiled', 'witnesspresent', 'agenttype',\n",
              "       'numberofsuppliments', 'addresschange_claim', 'numberofcars', 'yearr',\n",
              "       'basepolicy'],\n",
              "      dtype='object')"
            ]
          },
          "execution_count": 8,
          "metadata": {},
          "output_type": "execute_result"
        }
      ],
      "source": [
        "df.columns"
      ]
    },
    {
      "cell_type": "markdown",
      "metadata": {},
      "source": [
        "La columna policy number contiene valores consecutivos que no nos sirven para la prediccion, por este motivo la eliminamos."
      ]
    },
    {
      "cell_type": "code",
      "execution_count": 9,
      "metadata": {
        "id": "jx_3qIcy0KYu"
      },
      "outputs": [],
      "source": [
        "df = df.drop(\"policynumber\", axis =1 )"
      ]
    },
    {
      "cell_type": "markdown",
      "metadata": {},
      "source": [
        "Convirtiendo las columnas  que deben ser categoricas a tipo object"
      ]
    },
    {
      "cell_type": "code",
      "execution_count": 10,
      "metadata": {
        "id": "uglW179MrTHX"
      },
      "outputs": [],
      "source": [
        "df['weekofmonth'] = df['weekofmonth'].astype(object)\n",
        "df['weekofmonthclaimed'] = df['weekofmonthclaimed'].astype(object)\n",
        "df['repnumber'] = df['repnumber'].astype(object)\n",
        "df['deductible'] = df['deductible'].astype(object)\n",
        "df['driverrating'] = df['driverrating'].astype(object)\n",
        "df['policereportfiled'] = df['policereportfiled'].astype(object)\n",
        "df['witnesspresent'] = df['witnesspresent'].astype(object)\n",
        "df['yearr'] = df['yearr'].astype(object)"
      ]
    },
    {
      "cell_type": "code",
      "execution_count": 11,
      "metadata": {
        "colab": {
          "base_uri": "https://localhost:8080/"
        },
        "id": "uIk4YgNvqhB6",
        "outputId": "d17c8b0c-a8d3-45a5-8338-79b66db973a0"
      },
      "outputs": [
        {
          "data": {
            "text/plain": [
              "monthh                   object\n",
              "weekofmonth              object\n",
              "dayofweek                object\n",
              "make                     object\n",
              "accidentarea             object\n",
              "dayofweekclaimed         object\n",
              "monthclaimed             object\n",
              "weekofmonthclaimed       object\n",
              "sex                      object\n",
              "maritalstatus            object\n",
              "age                     float64\n",
              "fault                    object\n",
              "policytype               object\n",
              "vehiclecategory          object\n",
              "vehicleprice             object\n",
              "fraudfound_p              int64\n",
              "repnumber                object\n",
              "deductible               object\n",
              "driverrating             object\n",
              "days_policy_accident     object\n",
              "days_policy_claim        object\n",
              "pastnumberofclaims       object\n",
              "ageofvehicle             object\n",
              "ageofpolicyholder        object\n",
              "policereportfiled        object\n",
              "witnesspresent           object\n",
              "agenttype                object\n",
              "numberofsuppliments      object\n",
              "addresschange_claim      object\n",
              "numberofcars             object\n",
              "yearr                    object\n",
              "basepolicy               object\n",
              "dtype: object"
            ]
          },
          "execution_count": 11,
          "metadata": {},
          "output_type": "execute_result"
        }
      ],
      "source": [
        "df.dtypes"
      ]
    },
    {
      "cell_type": "code",
      "execution_count": 12,
      "metadata": {
        "colab": {
          "base_uri": "https://localhost:8080/"
        },
        "id": "yk_eKT1Rp-Se",
        "outputId": "a9668ec7-7c06-487d-ff96-9533ec4dcffb"
      },
      "outputs": [
        {
          "data": {
            "text/plain": [
              "['monthh',\n",
              " 'weekofmonth',\n",
              " 'dayofweek',\n",
              " 'make',\n",
              " 'accidentarea',\n",
              " 'dayofweekclaimed',\n",
              " 'monthclaimed',\n",
              " 'weekofmonthclaimed',\n",
              " 'sex',\n",
              " 'maritalstatus',\n",
              " 'fault',\n",
              " 'policytype',\n",
              " 'vehiclecategory',\n",
              " 'vehicleprice',\n",
              " 'repnumber',\n",
              " 'deductible',\n",
              " 'driverrating',\n",
              " 'days_policy_accident',\n",
              " 'days_policy_claim',\n",
              " 'pastnumberofclaims',\n",
              " 'ageofvehicle',\n",
              " 'ageofpolicyholder',\n",
              " 'policereportfiled',\n",
              " 'witnesspresent',\n",
              " 'agenttype',\n",
              " 'numberofsuppliments',\n",
              " 'addresschange_claim',\n",
              " 'numberofcars',\n",
              " 'yearr',\n",
              " 'basepolicy']"
            ]
          },
          "execution_count": 12,
          "metadata": {},
          "output_type": "execute_result"
        }
      ],
      "source": [
        "categoricas = df.select_dtypes(include='object').columns.tolist()\n",
        "categoricas\n"
      ]
    },
    {
      "cell_type": "code",
      "execution_count": 13,
      "metadata": {
        "id": "9PUNsaeFqge3"
      },
      "outputs": [],
      "source": [
        "numericas = df[\"age\"]"
      ]
    },
    {
      "cell_type": "markdown",
      "metadata": {},
      "source": [
        "Creando  X y Y para almacenar los features y el target"
      ]
    },
    {
      "cell_type": "code",
      "execution_count": 14,
      "metadata": {
        "id": "cHpmLhZCpkzj"
      },
      "outputs": [],
      "source": [
        "X = df.drop(\"fraudfound_p\",axis= 1)\n",
        "y = df[\"fraudfound_p\"]"
      ]
    },
    {
      "cell_type": "code",
      "execution_count": 15,
      "metadata": {
        "colab": {
          "base_uri": "https://localhost:8080/",
          "height": 488
        },
        "id": "ZQrblT-DGFNn",
        "outputId": "7db25133-f155-4e21-c3fd-6ded54088260"
      },
      "outputs": [
        {
          "data": {
            "text/html": [
              "<div>\n",
              "<style scoped>\n",
              "    .dataframe tbody tr th:only-of-type {\n",
              "        vertical-align: middle;\n",
              "    }\n",
              "\n",
              "    .dataframe tbody tr th {\n",
              "        vertical-align: top;\n",
              "    }\n",
              "\n",
              "    .dataframe thead th {\n",
              "        text-align: right;\n",
              "    }\n",
              "</style>\n",
              "<table border=\"1\" class=\"dataframe\">\n",
              "  <thead>\n",
              "    <tr style=\"text-align: right;\">\n",
              "      <th></th>\n",
              "      <th>monthh</th>\n",
              "      <th>weekofmonth</th>\n",
              "      <th>dayofweek</th>\n",
              "      <th>make</th>\n",
              "      <th>accidentarea</th>\n",
              "      <th>dayofweekclaimed</th>\n",
              "      <th>monthclaimed</th>\n",
              "      <th>weekofmonthclaimed</th>\n",
              "      <th>sex</th>\n",
              "      <th>maritalstatus</th>\n",
              "      <th>...</th>\n",
              "      <th>ageofvehicle</th>\n",
              "      <th>ageofpolicyholder</th>\n",
              "      <th>policereportfiled</th>\n",
              "      <th>witnesspresent</th>\n",
              "      <th>agenttype</th>\n",
              "      <th>numberofsuppliments</th>\n",
              "      <th>addresschange_claim</th>\n",
              "      <th>numberofcars</th>\n",
              "      <th>yearr</th>\n",
              "      <th>basepolicy</th>\n",
              "    </tr>\n",
              "  </thead>\n",
              "  <tbody>\n",
              "    <tr>\n",
              "      <th>0</th>\n",
              "      <td>Jul</td>\n",
              "      <td>2</td>\n",
              "      <td>Friday</td>\n",
              "      <td>Toyota</td>\n",
              "      <td>Urban</td>\n",
              "      <td>Thursday</td>\n",
              "      <td>Jul</td>\n",
              "      <td>3</td>\n",
              "      <td>Male</td>\n",
              "      <td>Married</td>\n",
              "      <td>...</td>\n",
              "      <td>7 years</td>\n",
              "      <td>36 to 40</td>\n",
              "      <td>0</td>\n",
              "      <td>0</td>\n",
              "      <td>External</td>\n",
              "      <td>0</td>\n",
              "      <td>no change</td>\n",
              "      <td>1 vehicle</td>\n",
              "      <td>1994</td>\n",
              "      <td>All Perils</td>\n",
              "    </tr>\n",
              "    <tr>\n",
              "      <th>1</th>\n",
              "      <td>May</td>\n",
              "      <td>4</td>\n",
              "      <td>Tuesday</td>\n",
              "      <td>Pontiac</td>\n",
              "      <td>Urban</td>\n",
              "      <td>Wednesday</td>\n",
              "      <td>May</td>\n",
              "      <td>5</td>\n",
              "      <td>Female</td>\n",
              "      <td>Single</td>\n",
              "      <td>...</td>\n",
              "      <td>7 years</td>\n",
              "      <td>36 to 40</td>\n",
              "      <td>0</td>\n",
              "      <td>0</td>\n",
              "      <td>External</td>\n",
              "      <td>0</td>\n",
              "      <td>no change</td>\n",
              "      <td>1 vehicle</td>\n",
              "      <td>1994</td>\n",
              "      <td>All Perils</td>\n",
              "    </tr>\n",
              "    <tr>\n",
              "      <th>2</th>\n",
              "      <td>Jan</td>\n",
              "      <td>2</td>\n",
              "      <td>Thursday</td>\n",
              "      <td>Toyota</td>\n",
              "      <td>Urban</td>\n",
              "      <td>Thursday</td>\n",
              "      <td>Jan</td>\n",
              "      <td>2</td>\n",
              "      <td>Male</td>\n",
              "      <td>Married</td>\n",
              "      <td>...</td>\n",
              "      <td>more than 7</td>\n",
              "      <td>51 to 65</td>\n",
              "      <td>0</td>\n",
              "      <td>0</td>\n",
              "      <td>External</td>\n",
              "      <td>3 to 5</td>\n",
              "      <td>no change</td>\n",
              "      <td>1 vehicle</td>\n",
              "      <td>1994</td>\n",
              "      <td>Liability</td>\n",
              "    </tr>\n",
              "    <tr>\n",
              "      <th>3</th>\n",
              "      <td>Oct</td>\n",
              "      <td>3</td>\n",
              "      <td>Thursday</td>\n",
              "      <td>Pontiac</td>\n",
              "      <td>Urban</td>\n",
              "      <td>Monday</td>\n",
              "      <td>Oct</td>\n",
              "      <td>4</td>\n",
              "      <td>Male</td>\n",
              "      <td>Married</td>\n",
              "      <td>...</td>\n",
              "      <td>7 years</td>\n",
              "      <td>31 to 35</td>\n",
              "      <td>0</td>\n",
              "      <td>0</td>\n",
              "      <td>External</td>\n",
              "      <td>0</td>\n",
              "      <td>no change</td>\n",
              "      <td>1 vehicle</td>\n",
              "      <td>1996</td>\n",
              "      <td>All Perils</td>\n",
              "    </tr>\n",
              "    <tr>\n",
              "      <th>4</th>\n",
              "      <td>Aug</td>\n",
              "      <td>2</td>\n",
              "      <td>Monday</td>\n",
              "      <td>Pontiac</td>\n",
              "      <td>Urban</td>\n",
              "      <td>Tuesday</td>\n",
              "      <td>Aug</td>\n",
              "      <td>2</td>\n",
              "      <td>Male</td>\n",
              "      <td>Married</td>\n",
              "      <td>...</td>\n",
              "      <td>6 years</td>\n",
              "      <td>31 to 35</td>\n",
              "      <td>0</td>\n",
              "      <td>0</td>\n",
              "      <td>External</td>\n",
              "      <td>3 to 5</td>\n",
              "      <td>no change</td>\n",
              "      <td>1 vehicle</td>\n",
              "      <td>1996</td>\n",
              "      <td>All Perils</td>\n",
              "    </tr>\n",
              "    <tr>\n",
              "      <th>...</th>\n",
              "      <td>...</td>\n",
              "      <td>...</td>\n",
              "      <td>...</td>\n",
              "      <td>...</td>\n",
              "      <td>...</td>\n",
              "      <td>...</td>\n",
              "      <td>...</td>\n",
              "      <td>...</td>\n",
              "      <td>...</td>\n",
              "      <td>...</td>\n",
              "      <td>...</td>\n",
              "      <td>...</td>\n",
              "      <td>...</td>\n",
              "      <td>...</td>\n",
              "      <td>...</td>\n",
              "      <td>...</td>\n",
              "      <td>...</td>\n",
              "      <td>...</td>\n",
              "      <td>...</td>\n",
              "      <td>...</td>\n",
              "      <td>...</td>\n",
              "    </tr>\n",
              "    <tr>\n",
              "      <th>15415</th>\n",
              "      <td>Aug</td>\n",
              "      <td>4</td>\n",
              "      <td>Tuesday</td>\n",
              "      <td>Toyota</td>\n",
              "      <td>Urban</td>\n",
              "      <td>Tuesday</td>\n",
              "      <td>Aug</td>\n",
              "      <td>4</td>\n",
              "      <td>Male</td>\n",
              "      <td>Married</td>\n",
              "      <td>...</td>\n",
              "      <td>more than 7</td>\n",
              "      <td>51 to 65</td>\n",
              "      <td>0</td>\n",
              "      <td>0</td>\n",
              "      <td>External</td>\n",
              "      <td>more than 5</td>\n",
              "      <td>no change</td>\n",
              "      <td>1 vehicle</td>\n",
              "      <td>1996</td>\n",
              "      <td>Liability</td>\n",
              "    </tr>\n",
              "    <tr>\n",
              "      <th>15416</th>\n",
              "      <td>Nov</td>\n",
              "      <td>2</td>\n",
              "      <td>Saturday</td>\n",
              "      <td>Ford</td>\n",
              "      <td>Urban</td>\n",
              "      <td>Thursday</td>\n",
              "      <td>Nov</td>\n",
              "      <td>3</td>\n",
              "      <td>Female</td>\n",
              "      <td>Single</td>\n",
              "      <td>...</td>\n",
              "      <td>4 years</td>\n",
              "      <td>26 to 30</td>\n",
              "      <td>0</td>\n",
              "      <td>0</td>\n",
              "      <td>External</td>\n",
              "      <td>3 to 5</td>\n",
              "      <td>no change</td>\n",
              "      <td>1 vehicle</td>\n",
              "      <td>1996</td>\n",
              "      <td>Liability</td>\n",
              "    </tr>\n",
              "    <tr>\n",
              "      <th>15417</th>\n",
              "      <td>Sep</td>\n",
              "      <td>1</td>\n",
              "      <td>Thursday</td>\n",
              "      <td>Pontiac</td>\n",
              "      <td>Urban</td>\n",
              "      <td>Thursday</td>\n",
              "      <td>Sep</td>\n",
              "      <td>1</td>\n",
              "      <td>Male</td>\n",
              "      <td>Married</td>\n",
              "      <td>...</td>\n",
              "      <td>7 years</td>\n",
              "      <td>31 to 35</td>\n",
              "      <td>0</td>\n",
              "      <td>0</td>\n",
              "      <td>External</td>\n",
              "      <td>0</td>\n",
              "      <td>no change</td>\n",
              "      <td>1 vehicle</td>\n",
              "      <td>1996</td>\n",
              "      <td>Liability</td>\n",
              "    </tr>\n",
              "    <tr>\n",
              "      <th>15418</th>\n",
              "      <td>Sep</td>\n",
              "      <td>1</td>\n",
              "      <td>Saturday</td>\n",
              "      <td>Mazda</td>\n",
              "      <td>Urban</td>\n",
              "      <td>Thursday</td>\n",
              "      <td>Sep</td>\n",
              "      <td>2</td>\n",
              "      <td>Male</td>\n",
              "      <td>Married</td>\n",
              "      <td>...</td>\n",
              "      <td>7 years</td>\n",
              "      <td>36 to 40</td>\n",
              "      <td>0</td>\n",
              "      <td>0</td>\n",
              "      <td>External</td>\n",
              "      <td>1 to 2</td>\n",
              "      <td>no change</td>\n",
              "      <td>1 vehicle</td>\n",
              "      <td>1996</td>\n",
              "      <td>Collision</td>\n",
              "    </tr>\n",
              "    <tr>\n",
              "      <th>15419</th>\n",
              "      <td>Jul</td>\n",
              "      <td>3</td>\n",
              "      <td>Tuesday</td>\n",
              "      <td>Saturn</td>\n",
              "      <td>Urban</td>\n",
              "      <td>Tuesday</td>\n",
              "      <td>Jul</td>\n",
              "      <td>3</td>\n",
              "      <td>Male</td>\n",
              "      <td>Single</td>\n",
              "      <td>...</td>\n",
              "      <td>7 years</td>\n",
              "      <td>31 to 35</td>\n",
              "      <td>0</td>\n",
              "      <td>0</td>\n",
              "      <td>External</td>\n",
              "      <td>1 to 2</td>\n",
              "      <td>no change</td>\n",
              "      <td>1 vehicle</td>\n",
              "      <td>1996</td>\n",
              "      <td>All Perils</td>\n",
              "    </tr>\n",
              "  </tbody>\n",
              "</table>\n",
              "<p>15420 rows × 31 columns</p>\n",
              "</div>"
            ],
            "text/plain": [
              "      monthh weekofmonth dayofweek     make accidentarea dayofweekclaimed  \\\n",
              "0        Jul           2    Friday   Toyota        Urban         Thursday   \n",
              "1        May           4   Tuesday  Pontiac        Urban        Wednesday   \n",
              "2        Jan           2  Thursday   Toyota        Urban         Thursday   \n",
              "3        Oct           3  Thursday  Pontiac        Urban           Monday   \n",
              "4        Aug           2    Monday  Pontiac        Urban          Tuesday   \n",
              "...      ...         ...       ...      ...          ...              ...   \n",
              "15415    Aug           4   Tuesday   Toyota        Urban          Tuesday   \n",
              "15416    Nov           2  Saturday     Ford        Urban         Thursday   \n",
              "15417    Sep           1  Thursday  Pontiac        Urban         Thursday   \n",
              "15418    Sep           1  Saturday    Mazda        Urban         Thursday   \n",
              "15419    Jul           3   Tuesday   Saturn        Urban          Tuesday   \n",
              "\n",
              "      monthclaimed weekofmonthclaimed     sex maritalstatus  ...  \\\n",
              "0              Jul                  3    Male       Married  ...   \n",
              "1              May                  5  Female        Single  ...   \n",
              "2              Jan                  2    Male       Married  ...   \n",
              "3              Oct                  4    Male       Married  ...   \n",
              "4              Aug                  2    Male       Married  ...   \n",
              "...            ...                ...     ...           ...  ...   \n",
              "15415          Aug                  4    Male       Married  ...   \n",
              "15416          Nov                  3  Female        Single  ...   \n",
              "15417          Sep                  1    Male       Married  ...   \n",
              "15418          Sep                  2    Male       Married  ...   \n",
              "15419          Jul                  3    Male        Single  ...   \n",
              "\n",
              "       ageofvehicle ageofpolicyholder policereportfiled witnesspresent  \\\n",
              "0           7 years          36 to 40                 0              0   \n",
              "1           7 years          36 to 40                 0              0   \n",
              "2       more than 7          51 to 65                 0              0   \n",
              "3           7 years          31 to 35                 0              0   \n",
              "4           6 years          31 to 35                 0              0   \n",
              "...             ...               ...               ...            ...   \n",
              "15415   more than 7          51 to 65                 0              0   \n",
              "15416       4 years          26 to 30                 0              0   \n",
              "15417       7 years          31 to 35                 0              0   \n",
              "15418       7 years          36 to 40                 0              0   \n",
              "15419       7 years          31 to 35                 0              0   \n",
              "\n",
              "      agenttype numberofsuppliments addresschange_claim numberofcars yearr  \\\n",
              "0      External                   0           no change    1 vehicle  1994   \n",
              "1      External                   0           no change    1 vehicle  1994   \n",
              "2      External              3 to 5           no change    1 vehicle  1994   \n",
              "3      External                   0           no change    1 vehicle  1996   \n",
              "4      External              3 to 5           no change    1 vehicle  1996   \n",
              "...         ...                 ...                 ...          ...   ...   \n",
              "15415  External         more than 5           no change    1 vehicle  1996   \n",
              "15416  External              3 to 5           no change    1 vehicle  1996   \n",
              "15417  External                   0           no change    1 vehicle  1996   \n",
              "15418  External              1 to 2           no change    1 vehicle  1996   \n",
              "15419  External              1 to 2           no change    1 vehicle  1996   \n",
              "\n",
              "       basepolicy  \n",
              "0      All Perils  \n",
              "1      All Perils  \n",
              "2       Liability  \n",
              "3      All Perils  \n",
              "4      All Perils  \n",
              "...           ...  \n",
              "15415   Liability  \n",
              "15416   Liability  \n",
              "15417   Liability  \n",
              "15418   Collision  \n",
              "15419  All Perils  \n",
              "\n",
              "[15420 rows x 31 columns]"
            ]
          },
          "execution_count": 15,
          "metadata": {},
          "output_type": "execute_result"
        }
      ],
      "source": [
        "X"
      ]
    },
    {
      "cell_type": "code",
      "execution_count": 16,
      "metadata": {
        "colab": {
          "base_uri": "https://localhost:8080/"
        },
        "id": "5gkUS4mzGHRW",
        "outputId": "17398a85-53a0-4dc4-f934-3bfdd089d3a1"
      },
      "outputs": [
        {
          "data": {
            "text/plain": [
              "0        0\n",
              "1        0\n",
              "2        0\n",
              "3        0\n",
              "4        0\n",
              "        ..\n",
              "15415    0\n",
              "15416    0\n",
              "15417    0\n",
              "15418    1\n",
              "15419    0\n",
              "Name: fraudfound_p, Length: 15420, dtype: int64"
            ]
          },
          "execution_count": 16,
          "metadata": {},
          "output_type": "execute_result"
        }
      ],
      "source": [
        "y"
      ]
    },
    {
      "cell_type": "markdown",
      "metadata": {
        "id": "gF0IfyFGt-fX"
      },
      "source": [
        "comportamiento de las clases sin subsampling o oversampling"
      ]
    },
    {
      "cell_type": "code",
      "execution_count": 17,
      "metadata": {
        "colab": {
          "base_uri": "https://localhost:8080/"
        },
        "id": "3CWC6VkutU5s",
        "outputId": "9cea6021-a88b-481d-b5d8-f536062f1a00"
      },
      "outputs": [
        {
          "name": "stdout",
          "output_type": "stream",
          "text": [
            "Distribución original de clases:    fraudfound_p\n",
            "0    14497\n",
            "1      923\n",
            "Name: count, dtype: int64\n"
          ]
        }
      ],
      "source": [
        "print('Distribución original de clases:   ', y.value_counts())"
      ]
    },
    {
      "cell_type": "code",
      "execution_count": 18,
      "metadata": {
        "id": "efNmbipMEuCH"
      },
      "outputs": [],
      "source": [
        "categorical_features = X.select_dtypes(include=\"object\").columns.tolist()\n",
        "numeric_features = X.select_dtypes(include='float64').columns.tolist()"
      ]
    },
    {
      "cell_type": "markdown",
      "metadata": {},
      "source": [
        "Es necesario usar alguna tecnica para corregir el  desbalance de la clase objetivo. Si entrenamos un modelo dejando las clases de la variable objetivo tal y como estan, el modelo aprendera mucho mas de los casos no fraudulentos y no estara en buena capacidad de identificar las instancias de la clase minoritaria que es la que nos interesa encontrar ya que es la que nos permite identificar los casos de fraude. Por este motivo se usa el random over sampler para crear de manera sintetica un balance de clases para que a la hora de entrenar el modelo este mejore su capacidad predictiva de la clase minoritaria."
      ]
    },
    {
      "cell_type": "code",
      "execution_count": 19,
      "metadata": {
        "id": "wV8C_kYoDkK5"
      },
      "outputs": [],
      "source": [
        "ros = RandomOverSampler(sampling_strategy='minority', random_state=42)\n",
        "X_resampled, y_resampled = ros.fit_resample(X, y)"
      ]
    },
    {
      "cell_type": "code",
      "execution_count": 20,
      "metadata": {
        "colab": {
          "base_uri": "https://localhost:8080/"
        },
        "id": "xJo9Fs3eFyJ9",
        "outputId": "2f920907-d62e-450c-95cb-d174f7dfbc38"
      },
      "outputs": [
        {
          "name": "stdout",
          "output_type": "stream",
          "text": [
            "Distribución nueva de clases:    fraudfound_p\n",
            "0    14497\n",
            "1    14497\n",
            "Name: count, dtype: int64\n"
          ]
        }
      ],
      "source": [
        "print('Distribución nueva de clases:   ', y_resampled.value_counts())"
      ]
    },
    {
      "cell_type": "code",
      "execution_count": 21,
      "metadata": {
        "id": "sCLdyjiQvfnK"
      },
      "outputs": [],
      "source": [
        "#random_state generates random seed\n",
        "X_train, X_test, y_train, y_test = train_test_split(X_resampled, y_resampled, test_size=0.3, random_state=1,shuffle=True, stratify =y_resampled) # 70% training and 30% test"
      ]
    },
    {
      "cell_type": "code",
      "execution_count": 22,
      "metadata": {
        "colab": {
          "base_uri": "https://localhost:8080/"
        },
        "id": "wVjUhhOkBH3S",
        "outputId": "d95059b4-c842-46b2-9354-ddfa3847b0cd"
      },
      "outputs": [
        {
          "data": {
            "text/plain": [
              "(8699, 31)"
            ]
          },
          "execution_count": 22,
          "metadata": {},
          "output_type": "execute_result"
        }
      ],
      "source": [
        "X_test.shape"
      ]
    },
    {
      "cell_type": "code",
      "execution_count": 23,
      "metadata": {
        "colab": {
          "base_uri": "https://localhost:8080/"
        },
        "id": "DVD_kYi9BMAX",
        "outputId": "1cbae42a-062e-4254-9963-320d23f15ea5"
      },
      "outputs": [
        {
          "data": {
            "text/plain": [
              "(8699,)"
            ]
          },
          "execution_count": 23,
          "metadata": {},
          "output_type": "execute_result"
        }
      ],
      "source": [
        "y_test.shape"
      ]
    },
    {
      "cell_type": "markdown",
      "metadata": {},
      "source": [
        "Imputando valores faltantes, por motivos de simplicidad y para un primer experimento se imputa los valores faltantes de las variables categoricas con la moda del set de datos y enc caso de que la variable sea numerica se imputa con la media. Esta aproximacion tiene sus limitaciones , sin embargo por motivos de simplicidad optaremos por esta alternativa la cual puede ser mejorada en un futuro."
      ]
    },
    {
      "cell_type": "code",
      "execution_count": 24,
      "metadata": {
        "id": "icnRlSGRvo5g"
      },
      "outputs": [],
      "source": [
        "def imputacion(X_train):\n",
        "    for col in X_train.columns:\n",
        "        if X_train[col].dtype == 'object':\n",
        "            # Si la columna es categórica, imputar con la moda\n",
        "            X_train[col] = X_train[col].fillna(df[col].mode()[0])\n",
        "        else:\n",
        "            # Si la columna es numérica, imputar con el promedio\n",
        "            X_train[col] = X_train[col].fillna(X_train[col].mean())\n",
        "    return X_train"
      ]
    },
    {
      "cell_type": "code",
      "execution_count": 25,
      "metadata": {
        "colab": {
          "base_uri": "https://localhost:8080/"
        },
        "id": "JLXe6u4EHt3c",
        "outputId": "a57815a3-2262-4f29-c53d-8e63659b73b6"
      },
      "outputs": [
        {
          "data": {
            "text/plain": [
              "monthh                   object\n",
              "weekofmonth              object\n",
              "dayofweek                object\n",
              "make                     object\n",
              "accidentarea             object\n",
              "dayofweekclaimed         object\n",
              "monthclaimed             object\n",
              "weekofmonthclaimed       object\n",
              "sex                      object\n",
              "maritalstatus            object\n",
              "age                     float64\n",
              "fault                    object\n",
              "policytype               object\n",
              "vehiclecategory          object\n",
              "vehicleprice             object\n",
              "repnumber                object\n",
              "deductible               object\n",
              "driverrating             object\n",
              "days_policy_accident     object\n",
              "days_policy_claim        object\n",
              "pastnumberofclaims       object\n",
              "ageofvehicle             object\n",
              "ageofpolicyholder        object\n",
              "policereportfiled        object\n",
              "witnesspresent           object\n",
              "agenttype                object\n",
              "numberofsuppliments      object\n",
              "addresschange_claim      object\n",
              "numberofcars             object\n",
              "yearr                    object\n",
              "basepolicy               object\n",
              "dtype: object"
            ]
          },
          "execution_count": 25,
          "metadata": {},
          "output_type": "execute_result"
        }
      ],
      "source": [
        "X_train.dtypes"
      ]
    },
    {
      "cell_type": "code",
      "execution_count": 26,
      "metadata": {
        "colab": {
          "base_uri": "https://localhost:8080/",
          "height": 488
        },
        "id": "6ZNvOAYTvpAc",
        "outputId": "b5591d05-4930-442a-f8c6-567ae6acfc92"
      },
      "outputs": [
        {
          "data": {
            "text/html": [
              "<div>\n",
              "<style scoped>\n",
              "    .dataframe tbody tr th:only-of-type {\n",
              "        vertical-align: middle;\n",
              "    }\n",
              "\n",
              "    .dataframe tbody tr th {\n",
              "        vertical-align: top;\n",
              "    }\n",
              "\n",
              "    .dataframe thead th {\n",
              "        text-align: right;\n",
              "    }\n",
              "</style>\n",
              "<table border=\"1\" class=\"dataframe\">\n",
              "  <thead>\n",
              "    <tr style=\"text-align: right;\">\n",
              "      <th></th>\n",
              "      <th>monthh</th>\n",
              "      <th>weekofmonth</th>\n",
              "      <th>dayofweek</th>\n",
              "      <th>make</th>\n",
              "      <th>accidentarea</th>\n",
              "      <th>dayofweekclaimed</th>\n",
              "      <th>monthclaimed</th>\n",
              "      <th>weekofmonthclaimed</th>\n",
              "      <th>sex</th>\n",
              "      <th>maritalstatus</th>\n",
              "      <th>...</th>\n",
              "      <th>ageofvehicle</th>\n",
              "      <th>ageofpolicyholder</th>\n",
              "      <th>policereportfiled</th>\n",
              "      <th>witnesspresent</th>\n",
              "      <th>agenttype</th>\n",
              "      <th>numberofsuppliments</th>\n",
              "      <th>addresschange_claim</th>\n",
              "      <th>numberofcars</th>\n",
              "      <th>yearr</th>\n",
              "      <th>basepolicy</th>\n",
              "    </tr>\n",
              "  </thead>\n",
              "  <tbody>\n",
              "    <tr>\n",
              "      <th>18488</th>\n",
              "      <td>Aug</td>\n",
              "      <td>1</td>\n",
              "      <td>Monday</td>\n",
              "      <td>Accura</td>\n",
              "      <td>Urban</td>\n",
              "      <td>Wednesday</td>\n",
              "      <td>Aug</td>\n",
              "      <td>5</td>\n",
              "      <td>Male</td>\n",
              "      <td>Married</td>\n",
              "      <td>...</td>\n",
              "      <td>7 years</td>\n",
              "      <td>31 to 35</td>\n",
              "      <td>0</td>\n",
              "      <td>0</td>\n",
              "      <td>External</td>\n",
              "      <td>0</td>\n",
              "      <td>no change</td>\n",
              "      <td>1 vehicle</td>\n",
              "      <td>1994</td>\n",
              "      <td>All Perils</td>\n",
              "    </tr>\n",
              "    <tr>\n",
              "      <th>9309</th>\n",
              "      <td>Nov</td>\n",
              "      <td>1</td>\n",
              "      <td>Thursday</td>\n",
              "      <td>Toyota</td>\n",
              "      <td>Urban</td>\n",
              "      <td>Monday</td>\n",
              "      <td>Dec</td>\n",
              "      <td>2</td>\n",
              "      <td>Male</td>\n",
              "      <td>Married</td>\n",
              "      <td>...</td>\n",
              "      <td>7 years</td>\n",
              "      <td>41 to 50</td>\n",
              "      <td>0</td>\n",
              "      <td>0</td>\n",
              "      <td>External</td>\n",
              "      <td>1 to 2</td>\n",
              "      <td>no change</td>\n",
              "      <td>1 vehicle</td>\n",
              "      <td>1994</td>\n",
              "      <td>Collision</td>\n",
              "    </tr>\n",
              "    <tr>\n",
              "      <th>25377</th>\n",
              "      <td>Mar</td>\n",
              "      <td>2</td>\n",
              "      <td>Thursday</td>\n",
              "      <td>Honda</td>\n",
              "      <td>Urban</td>\n",
              "      <td>Monday</td>\n",
              "      <td>Jul</td>\n",
              "      <td>3</td>\n",
              "      <td>Male</td>\n",
              "      <td>Single</td>\n",
              "      <td>...</td>\n",
              "      <td>5 years</td>\n",
              "      <td>31 to 35</td>\n",
              "      <td>0</td>\n",
              "      <td>0</td>\n",
              "      <td>External</td>\n",
              "      <td>0</td>\n",
              "      <td>no change</td>\n",
              "      <td>1 vehicle</td>\n",
              "      <td>1995</td>\n",
              "      <td>Collision</td>\n",
              "    </tr>\n",
              "    <tr>\n",
              "      <th>23687</th>\n",
              "      <td>Jan</td>\n",
              "      <td>4</td>\n",
              "      <td>Monday</td>\n",
              "      <td>Chevrolet</td>\n",
              "      <td>Urban</td>\n",
              "      <td>Wednesday</td>\n",
              "      <td>Feb</td>\n",
              "      <td>1</td>\n",
              "      <td>Female</td>\n",
              "      <td>Single</td>\n",
              "      <td>...</td>\n",
              "      <td>7 years</td>\n",
              "      <td>31 to 35</td>\n",
              "      <td>0</td>\n",
              "      <td>0</td>\n",
              "      <td>External</td>\n",
              "      <td>1 to 2</td>\n",
              "      <td>4 to 8 years</td>\n",
              "      <td>2 vehicles</td>\n",
              "      <td>1994</td>\n",
              "      <td>All Perils</td>\n",
              "    </tr>\n",
              "    <tr>\n",
              "      <th>18228</th>\n",
              "      <td>Apr</td>\n",
              "      <td>2</td>\n",
              "      <td>Monday</td>\n",
              "      <td>Pontiac</td>\n",
              "      <td>Urban</td>\n",
              "      <td>Friday</td>\n",
              "      <td>Apr</td>\n",
              "      <td>3</td>\n",
              "      <td>Male</td>\n",
              "      <td>Married</td>\n",
              "      <td>...</td>\n",
              "      <td>7 years</td>\n",
              "      <td>36 to 40</td>\n",
              "      <td>0</td>\n",
              "      <td>0</td>\n",
              "      <td>External</td>\n",
              "      <td>0</td>\n",
              "      <td>2 to 3 years</td>\n",
              "      <td>2 vehicles</td>\n",
              "      <td>1994</td>\n",
              "      <td>All Perils</td>\n",
              "    </tr>\n",
              "    <tr>\n",
              "      <th>...</th>\n",
              "      <td>...</td>\n",
              "      <td>...</td>\n",
              "      <td>...</td>\n",
              "      <td>...</td>\n",
              "      <td>...</td>\n",
              "      <td>...</td>\n",
              "      <td>...</td>\n",
              "      <td>...</td>\n",
              "      <td>...</td>\n",
              "      <td>...</td>\n",
              "      <td>...</td>\n",
              "      <td>...</td>\n",
              "      <td>...</td>\n",
              "      <td>...</td>\n",
              "      <td>...</td>\n",
              "      <td>...</td>\n",
              "      <td>...</td>\n",
              "      <td>...</td>\n",
              "      <td>...</td>\n",
              "      <td>...</td>\n",
              "      <td>...</td>\n",
              "    </tr>\n",
              "    <tr>\n",
              "      <th>16268</th>\n",
              "      <td>Aug</td>\n",
              "      <td>5</td>\n",
              "      <td>Wednesday</td>\n",
              "      <td>Toyota</td>\n",
              "      <td>Urban</td>\n",
              "      <td>Wednesday</td>\n",
              "      <td>Sep</td>\n",
              "      <td>4</td>\n",
              "      <td>Male</td>\n",
              "      <td>Married</td>\n",
              "      <td>...</td>\n",
              "      <td>6 years</td>\n",
              "      <td>31 to 35</td>\n",
              "      <td>0</td>\n",
              "      <td>0</td>\n",
              "      <td>External</td>\n",
              "      <td>more than 5</td>\n",
              "      <td>no change</td>\n",
              "      <td>1 vehicle</td>\n",
              "      <td>1994</td>\n",
              "      <td>All Perils</td>\n",
              "    </tr>\n",
              "    <tr>\n",
              "      <th>20571</th>\n",
              "      <td>Dec</td>\n",
              "      <td>3</td>\n",
              "      <td>Monday</td>\n",
              "      <td>Accura</td>\n",
              "      <td>Urban</td>\n",
              "      <td>Wednesday</td>\n",
              "      <td>Dec</td>\n",
              "      <td>5</td>\n",
              "      <td>Male</td>\n",
              "      <td>Single</td>\n",
              "      <td>...</td>\n",
              "      <td>7 years</td>\n",
              "      <td>36 to 40</td>\n",
              "      <td>0</td>\n",
              "      <td>0</td>\n",
              "      <td>External</td>\n",
              "      <td>0</td>\n",
              "      <td>no change</td>\n",
              "      <td>1 vehicle</td>\n",
              "      <td>1995</td>\n",
              "      <td>All Perils</td>\n",
              "    </tr>\n",
              "    <tr>\n",
              "      <th>16170</th>\n",
              "      <td>Feb</td>\n",
              "      <td>2</td>\n",
              "      <td>Friday</td>\n",
              "      <td>Toyota</td>\n",
              "      <td>Urban</td>\n",
              "      <td>Saturday</td>\n",
              "      <td>Feb</td>\n",
              "      <td>2</td>\n",
              "      <td>Male</td>\n",
              "      <td>Single</td>\n",
              "      <td>...</td>\n",
              "      <td>6 years</td>\n",
              "      <td>31 to 35</td>\n",
              "      <td>0</td>\n",
              "      <td>0</td>\n",
              "      <td>External</td>\n",
              "      <td>0</td>\n",
              "      <td>no change</td>\n",
              "      <td>1 vehicle</td>\n",
              "      <td>1995</td>\n",
              "      <td>All Perils</td>\n",
              "    </tr>\n",
              "    <tr>\n",
              "      <th>15343</th>\n",
              "      <td>Jul</td>\n",
              "      <td>5</td>\n",
              "      <td>Saturday</td>\n",
              "      <td>Chevrolet</td>\n",
              "      <td>Urban</td>\n",
              "      <td>Monday</td>\n",
              "      <td>Aug</td>\n",
              "      <td>1</td>\n",
              "      <td>Male</td>\n",
              "      <td>Married</td>\n",
              "      <td>...</td>\n",
              "      <td>more than 7</td>\n",
              "      <td>51 to 65</td>\n",
              "      <td>0</td>\n",
              "      <td>0</td>\n",
              "      <td>External</td>\n",
              "      <td>more than 5</td>\n",
              "      <td>no change</td>\n",
              "      <td>1 vehicle</td>\n",
              "      <td>1996</td>\n",
              "      <td>Liability</td>\n",
              "    </tr>\n",
              "    <tr>\n",
              "      <th>12372</th>\n",
              "      <td>Aug</td>\n",
              "      <td>2</td>\n",
              "      <td>Monday</td>\n",
              "      <td>Honda</td>\n",
              "      <td>Urban</td>\n",
              "      <td>Friday</td>\n",
              "      <td>Aug</td>\n",
              "      <td>2</td>\n",
              "      <td>Male</td>\n",
              "      <td>Single</td>\n",
              "      <td>...</td>\n",
              "      <td>more than 7</td>\n",
              "      <td>51 to 65</td>\n",
              "      <td>0</td>\n",
              "      <td>0</td>\n",
              "      <td>External</td>\n",
              "      <td>more than 5</td>\n",
              "      <td>no change</td>\n",
              "      <td>1 vehicle</td>\n",
              "      <td>1995</td>\n",
              "      <td>All Perils</td>\n",
              "    </tr>\n",
              "  </tbody>\n",
              "</table>\n",
              "<p>20295 rows × 31 columns</p>\n",
              "</div>"
            ],
            "text/plain": [
              "      monthh  weekofmonth  dayofweek       make accidentarea dayofweekclaimed  \\\n",
              "18488    Aug            1     Monday     Accura        Urban        Wednesday   \n",
              "9309     Nov            1   Thursday     Toyota        Urban           Monday   \n",
              "25377    Mar            2   Thursday      Honda        Urban           Monday   \n",
              "23687    Jan            4     Monday  Chevrolet        Urban        Wednesday   \n",
              "18228    Apr            2     Monday    Pontiac        Urban           Friday   \n",
              "...      ...          ...        ...        ...          ...              ...   \n",
              "16268    Aug            5  Wednesday     Toyota        Urban        Wednesday   \n",
              "20571    Dec            3     Monday     Accura        Urban        Wednesday   \n",
              "16170    Feb            2     Friday     Toyota        Urban         Saturday   \n",
              "15343    Jul            5   Saturday  Chevrolet        Urban           Monday   \n",
              "12372    Aug            2     Monday      Honda        Urban           Friday   \n",
              "\n",
              "      monthclaimed  weekofmonthclaimed     sex maritalstatus  ...  \\\n",
              "18488          Aug                   5    Male       Married  ...   \n",
              "9309           Dec                   2    Male       Married  ...   \n",
              "25377          Jul                   3    Male        Single  ...   \n",
              "23687          Feb                   1  Female        Single  ...   \n",
              "18228          Apr                   3    Male       Married  ...   \n",
              "...            ...                 ...     ...           ...  ...   \n",
              "16268          Sep                   4    Male       Married  ...   \n",
              "20571          Dec                   5    Male        Single  ...   \n",
              "16170          Feb                   2    Male        Single  ...   \n",
              "15343          Aug                   1    Male       Married  ...   \n",
              "12372          Aug                   2    Male        Single  ...   \n",
              "\n",
              "       ageofvehicle ageofpolicyholder policereportfiled witnesspresent  \\\n",
              "18488       7 years          31 to 35                 0              0   \n",
              "9309        7 years          41 to 50                 0              0   \n",
              "25377       5 years          31 to 35                 0              0   \n",
              "23687       7 years          31 to 35                 0              0   \n",
              "18228       7 years          36 to 40                 0              0   \n",
              "...             ...               ...               ...            ...   \n",
              "16268       6 years          31 to 35                 0              0   \n",
              "20571       7 years          36 to 40                 0              0   \n",
              "16170       6 years          31 to 35                 0              0   \n",
              "15343   more than 7          51 to 65                 0              0   \n",
              "12372   more than 7          51 to 65                 0              0   \n",
              "\n",
              "      agenttype  numberofsuppliments  addresschange_claim  numberofcars yearr  \\\n",
              "18488  External                    0            no change     1 vehicle  1994   \n",
              "9309   External               1 to 2            no change     1 vehicle  1994   \n",
              "25377  External                    0            no change     1 vehicle  1995   \n",
              "23687  External               1 to 2         4 to 8 years    2 vehicles  1994   \n",
              "18228  External                    0         2 to 3 years    2 vehicles  1994   \n",
              "...         ...                  ...                  ...           ...   ...   \n",
              "16268  External          more than 5            no change     1 vehicle  1994   \n",
              "20571  External                    0            no change     1 vehicle  1995   \n",
              "16170  External                    0            no change     1 vehicle  1995   \n",
              "15343  External          more than 5            no change     1 vehicle  1996   \n",
              "12372  External          more than 5            no change     1 vehicle  1995   \n",
              "\n",
              "       basepolicy  \n",
              "18488  All Perils  \n",
              "9309    Collision  \n",
              "25377   Collision  \n",
              "23687  All Perils  \n",
              "18228  All Perils  \n",
              "...           ...  \n",
              "16268  All Perils  \n",
              "20571  All Perils  \n",
              "16170  All Perils  \n",
              "15343   Liability  \n",
              "12372  All Perils  \n",
              "\n",
              "[20295 rows x 31 columns]"
            ]
          },
          "execution_count": 26,
          "metadata": {},
          "output_type": "execute_result"
        }
      ],
      "source": [
        "X_train_imputado = imputacion(X_train)\n",
        "X_train_imputado"
      ]
    },
    {
      "cell_type": "code",
      "execution_count": 27,
      "metadata": {
        "colab": {
          "base_uri": "https://localhost:8080/"
        },
        "id": "gCZeAx80z78C",
        "outputId": "8e52c143-18c6-4a18-ff41-bdc8aa054df3"
      },
      "outputs": [
        {
          "data": {
            "text/plain": [
              "monthh                  12\n",
              "weekofmonth              5\n",
              "dayofweek                7\n",
              "make                    18\n",
              "accidentarea             2\n",
              "dayofweekclaimed         7\n",
              "monthclaimed            12\n",
              "weekofmonthclaimed       5\n",
              "sex                      2\n",
              "maritalstatus            4\n",
              "age                     66\n",
              "fault                    2\n",
              "policytype               9\n",
              "vehiclecategory          3\n",
              "vehicleprice             6\n",
              "repnumber               16\n",
              "deductible               4\n",
              "driverrating             4\n",
              "days_policy_accident     5\n",
              "days_policy_claim        4\n",
              "pastnumberofclaims       4\n",
              "ageofvehicle             8\n",
              "ageofpolicyholder        9\n",
              "policereportfiled        2\n",
              "witnesspresent           2\n",
              "agenttype                2\n",
              "numberofsuppliments      4\n",
              "addresschange_claim      5\n",
              "numberofcars             5\n",
              "yearr                    3\n",
              "basepolicy               3\n",
              "dtype: int64"
            ]
          },
          "execution_count": 27,
          "metadata": {},
          "output_type": "execute_result"
        }
      ],
      "source": [
        "X_train_imputado.nunique()\n"
      ]
    },
    {
      "cell_type": "code",
      "execution_count": 28,
      "metadata": {
        "colab": {
          "base_uri": "https://localhost:8080/"
        },
        "id": "Dugoq10uvpDT",
        "outputId": "1d237abd-3cae-451c-f3b3-d39586212707"
      },
      "outputs": [
        {
          "data": {
            "text/plain": [
              "monthh                  False\n",
              "weekofmonth             False\n",
              "dayofweek               False\n",
              "make                    False\n",
              "accidentarea            False\n",
              "dayofweekclaimed        False\n",
              "monthclaimed            False\n",
              "weekofmonthclaimed      False\n",
              "sex                     False\n",
              "maritalstatus           False\n",
              "age                     False\n",
              "fault                   False\n",
              "policytype              False\n",
              "vehiclecategory         False\n",
              "vehicleprice            False\n",
              "repnumber               False\n",
              "deductible              False\n",
              "driverrating            False\n",
              "days_policy_accident    False\n",
              "days_policy_claim       False\n",
              "pastnumberofclaims      False\n",
              "ageofvehicle            False\n",
              "ageofpolicyholder       False\n",
              "policereportfiled       False\n",
              "witnesspresent          False\n",
              "agenttype               False\n",
              "numberofsuppliments     False\n",
              "addresschange_claim     False\n",
              "numberofcars            False\n",
              "yearr                   False\n",
              "basepolicy              False\n",
              "dtype: bool"
            ]
          },
          "execution_count": 28,
          "metadata": {},
          "output_type": "execute_result"
        }
      ],
      "source": [
        "X_train_imputado.isnull().any()"
      ]
    },
    {
      "cell_type": "code",
      "execution_count": 29,
      "metadata": {
        "colab": {
          "base_uri": "https://localhost:8080/"
        },
        "id": "mwoAiStovpGL",
        "outputId": "a5b3cfd9-09a0-40fd-854f-81d9aeda940b"
      },
      "outputs": [
        {
          "data": {
            "text/plain": [
              "False"
            ]
          },
          "execution_count": 29,
          "metadata": {},
          "output_type": "execute_result"
        }
      ],
      "source": [
        "y_train.isnull().any()"
      ]
    },
    {
      "cell_type": "code",
      "execution_count": 30,
      "metadata": {
        "id": "2uni5ih4yE_t"
      },
      "outputs": [],
      "source": [
        "X_train_imputado['weekofmonth'] = X_train_imputado['weekofmonth'].astype(object)\n",
        "X_train_imputado['weekofmonthclaimed'] = X_train_imputado['weekofmonthclaimed'].astype(object)\n",
        "X_train_imputado['repnumber'] = X_train_imputado['repnumber'].astype(object)\n",
        "X_train_imputado['deductible'] = X_train_imputado['deductible'].astype(object)\n",
        "X_train_imputado['driverrating'] = X_train_imputado['driverrating'].astype(object)\n",
        "X_train_imputado['policereportfiled'] = X_train_imputado['policereportfiled'].astype(object)\n",
        "X_train_imputado['witnesspresent'] = X_train_imputado['witnesspresent'].astype(object)\n",
        "X_train_imputado['yearr'] = X_train_imputado['yearr'].astype(object)\n"
      ]
    },
    {
      "cell_type": "code",
      "execution_count": 31,
      "metadata": {
        "colab": {
          "base_uri": "https://localhost:8080/"
        },
        "id": "zk0MOXg8x5ci",
        "outputId": "0135da26-233c-44ce-8b29-af0e6edd63c6"
      },
      "outputs": [
        {
          "data": {
            "text/plain": [
              "monthh                   object\n",
              "weekofmonth              object\n",
              "dayofweek                object\n",
              "make                     object\n",
              "accidentarea             object\n",
              "dayofweekclaimed         object\n",
              "monthclaimed             object\n",
              "weekofmonthclaimed       object\n",
              "sex                      object\n",
              "maritalstatus            object\n",
              "age                     float64\n",
              "fault                    object\n",
              "policytype               object\n",
              "vehiclecategory          object\n",
              "vehicleprice             object\n",
              "repnumber                object\n",
              "deductible               object\n",
              "driverrating             object\n",
              "days_policy_accident     object\n",
              "days_policy_claim        object\n",
              "pastnumberofclaims       object\n",
              "ageofvehicle             object\n",
              "ageofpolicyholder        object\n",
              "policereportfiled        object\n",
              "witnesspresent           object\n",
              "agenttype                object\n",
              "numberofsuppliments      object\n",
              "addresschange_claim      object\n",
              "numberofcars             object\n",
              "yearr                    object\n",
              "basepolicy               object\n",
              "dtype: object"
            ]
          },
          "execution_count": 31,
          "metadata": {},
          "output_type": "execute_result"
        }
      ],
      "source": [
        "X_train_imputado.dtypes"
      ]
    },
    {
      "cell_type": "code",
      "execution_count": 32,
      "metadata": {
        "colab": {
          "base_uri": "https://localhost:8080/"
        },
        "id": "yUjRzyKkw1ne",
        "outputId": "d1354af8-ca39-4530-a7a7-a1071bc1ac79"
      },
      "outputs": [
        {
          "data": {
            "text/plain": [
              "['monthh',\n",
              " 'weekofmonth',\n",
              " 'dayofweek',\n",
              " 'make',\n",
              " 'accidentarea',\n",
              " 'dayofweekclaimed',\n",
              " 'monthclaimed',\n",
              " 'weekofmonthclaimed',\n",
              " 'sex',\n",
              " 'maritalstatus',\n",
              " 'fault',\n",
              " 'policytype',\n",
              " 'vehiclecategory',\n",
              " 'vehicleprice',\n",
              " 'repnumber',\n",
              " 'deductible',\n",
              " 'driverrating',\n",
              " 'days_policy_accident',\n",
              " 'days_policy_claim',\n",
              " 'pastnumberofclaims',\n",
              " 'ageofvehicle',\n",
              " 'ageofpolicyholder',\n",
              " 'policereportfiled',\n",
              " 'witnesspresent',\n",
              " 'agenttype',\n",
              " 'numberofsuppliments',\n",
              " 'addresschange_claim',\n",
              " 'numberofcars',\n",
              " 'yearr',\n",
              " 'basepolicy']"
            ]
          },
          "execution_count": 32,
          "metadata": {},
          "output_type": "execute_result"
        }
      ],
      "source": [
        "categorical_features"
      ]
    },
    {
      "cell_type": "code",
      "execution_count": 33,
      "metadata": {
        "colab": {
          "base_uri": "https://localhost:8080/"
        },
        "id": "mEfJNtdSxREh",
        "outputId": "b41d4ee3-f853-46e2-eed0-2fc0fcb6e6e0"
      },
      "outputs": [
        {
          "data": {
            "text/plain": [
              "['age']"
            ]
          },
          "execution_count": 33,
          "metadata": {},
          "output_type": "execute_result"
        }
      ],
      "source": [
        "numeric_features"
      ]
    },
    {
      "cell_type": "code",
      "execution_count": 34,
      "metadata": {
        "id": "yX2MAr5CDMkX"
      },
      "outputs": [
        {
          "name": "stdout",
          "output_type": "stream",
          "text": [
            "Distribución de clases después de aplicar undersampling: Counter({0: 10148, 1: 10147})\n"
          ]
        }
      ],
      "source": [
        "print('Distribución de clases después de aplicar undersampling:', Counter(y_train))"
      ]
    },
    {
      "cell_type": "markdown",
      "metadata": {},
      "source": [
        "Escalar la columna age para que quede en un rango suceptible de ser procesado por el modelo, para este objetivo se usa el standar escaler que emplea una estandarizacion al rededor de la media y la desviacion standard para comprimir los valores en un rango menor sin perder la explicabilidad de la varianza."
      ]
    },
    {
      "cell_type": "code",
      "execution_count": 35,
      "metadata": {
        "colab": {
          "base_uri": "https://localhost:8080/"
        },
        "id": "K6hiGdTJq2ew",
        "outputId": "e83c7977-0dfa-4c5b-a6d6-b453cb740295"
      },
      "outputs": [
        {
          "data": {
            "text/plain": [
              "18488   -1.005944\n",
              "9309     0.563581\n",
              "25377   -0.592911\n",
              "23687   -1.088551\n",
              "18228    0.067942\n",
              "           ...   \n",
              "16268   -1.088551\n",
              "20571   -0.345091\n",
              "16170   -1.088551\n",
              "15343    1.554861\n",
              "12372    1.472254\n",
              "Name: age, Length: 20295, dtype: float64"
            ]
          },
          "execution_count": 35,
          "metadata": {},
          "output_type": "execute_result"
        }
      ],
      "source": [
        "scaler = StandardScaler()\n",
        "\n",
        "X_train_imputado['age'] = scaler.fit_transform(X_train_imputado[['age']])\n",
        "\n",
        "X_train_imputado['age']\n"
      ]
    },
    {
      "cell_type": "code",
      "execution_count": 36,
      "metadata": {
        "id": "Fbn_J28qIEEz"
      },
      "outputs": [],
      "source": [
        "# Convertir las columnas categóricas a tipo de datos categóricos y asignarles los valores originales\n",
        "for col in categorical_features:\n",
        "    X_train_imputado[col] = pd.Categorical(X_train_imputado[col])\n",
        "\n",
        "# Codificar las columnas categóricas utilizando pd.get_dummies\n",
        "encoded_cols_df = pd.get_dummies(X_train_imputado[categorical_features], columns=categorical_features)\n",
        "\n",
        "# Reemplazar las columnas originales con las nuevas columnas codificadas en el DataFrame\n",
        "X_train_imputado = pd.concat([X_train_imputado.drop(categorical_features, axis=1), encoded_cols_df], axis=1)"
      ]
    },
    {
      "cell_type": "code",
      "execution_count": 37,
      "metadata": {
        "colab": {
          "base_uri": "https://localhost:8080/",
          "height": 505
        },
        "id": "0aq-jgTqJQ_f",
        "outputId": "ae0f749e-f025-421d-d4f3-5acb5f0c7758"
      },
      "outputs": [
        {
          "data": {
            "text/html": [
              "<div>\n",
              "<style scoped>\n",
              "    .dataframe tbody tr th:only-of-type {\n",
              "        vertical-align: middle;\n",
              "    }\n",
              "\n",
              "    .dataframe tbody tr th {\n",
              "        vertical-align: top;\n",
              "    }\n",
              "\n",
              "    .dataframe thead th {\n",
              "        text-align: right;\n",
              "    }\n",
              "</style>\n",
              "<table border=\"1\" class=\"dataframe\">\n",
              "  <thead>\n",
              "    <tr style=\"text-align: right;\">\n",
              "      <th></th>\n",
              "      <th>age</th>\n",
              "      <th>monthh_Apr</th>\n",
              "      <th>monthh_Aug</th>\n",
              "      <th>monthh_Dec</th>\n",
              "      <th>monthh_Feb</th>\n",
              "      <th>monthh_Jan</th>\n",
              "      <th>monthh_Jul</th>\n",
              "      <th>monthh_Jun</th>\n",
              "      <th>monthh_Mar</th>\n",
              "      <th>monthh_May</th>\n",
              "      <th>...</th>\n",
              "      <th>numberofcars_2 vehicles</th>\n",
              "      <th>numberofcars_3 to 4</th>\n",
              "      <th>numberofcars_5 to 8</th>\n",
              "      <th>numberofcars_more than 8</th>\n",
              "      <th>yearr_1994</th>\n",
              "      <th>yearr_1995</th>\n",
              "      <th>yearr_1996</th>\n",
              "      <th>basepolicy_All Perils</th>\n",
              "      <th>basepolicy_Collision</th>\n",
              "      <th>basepolicy_Liability</th>\n",
              "    </tr>\n",
              "  </thead>\n",
              "  <tbody>\n",
              "    <tr>\n",
              "      <th>18488</th>\n",
              "      <td>-1.005944</td>\n",
              "      <td>False</td>\n",
              "      <td>True</td>\n",
              "      <td>False</td>\n",
              "      <td>False</td>\n",
              "      <td>False</td>\n",
              "      <td>False</td>\n",
              "      <td>False</td>\n",
              "      <td>False</td>\n",
              "      <td>False</td>\n",
              "      <td>...</td>\n",
              "      <td>False</td>\n",
              "      <td>False</td>\n",
              "      <td>False</td>\n",
              "      <td>False</td>\n",
              "      <td>True</td>\n",
              "      <td>False</td>\n",
              "      <td>False</td>\n",
              "      <td>True</td>\n",
              "      <td>False</td>\n",
              "      <td>False</td>\n",
              "    </tr>\n",
              "    <tr>\n",
              "      <th>9309</th>\n",
              "      <td>0.563581</td>\n",
              "      <td>False</td>\n",
              "      <td>False</td>\n",
              "      <td>False</td>\n",
              "      <td>False</td>\n",
              "      <td>False</td>\n",
              "      <td>False</td>\n",
              "      <td>False</td>\n",
              "      <td>False</td>\n",
              "      <td>False</td>\n",
              "      <td>...</td>\n",
              "      <td>False</td>\n",
              "      <td>False</td>\n",
              "      <td>False</td>\n",
              "      <td>False</td>\n",
              "      <td>True</td>\n",
              "      <td>False</td>\n",
              "      <td>False</td>\n",
              "      <td>False</td>\n",
              "      <td>True</td>\n",
              "      <td>False</td>\n",
              "    </tr>\n",
              "    <tr>\n",
              "      <th>25377</th>\n",
              "      <td>-0.592911</td>\n",
              "      <td>False</td>\n",
              "      <td>False</td>\n",
              "      <td>False</td>\n",
              "      <td>False</td>\n",
              "      <td>False</td>\n",
              "      <td>False</td>\n",
              "      <td>False</td>\n",
              "      <td>True</td>\n",
              "      <td>False</td>\n",
              "      <td>...</td>\n",
              "      <td>False</td>\n",
              "      <td>False</td>\n",
              "      <td>False</td>\n",
              "      <td>False</td>\n",
              "      <td>False</td>\n",
              "      <td>True</td>\n",
              "      <td>False</td>\n",
              "      <td>False</td>\n",
              "      <td>True</td>\n",
              "      <td>False</td>\n",
              "    </tr>\n",
              "    <tr>\n",
              "      <th>23687</th>\n",
              "      <td>-1.088551</td>\n",
              "      <td>False</td>\n",
              "      <td>False</td>\n",
              "      <td>False</td>\n",
              "      <td>False</td>\n",
              "      <td>True</td>\n",
              "      <td>False</td>\n",
              "      <td>False</td>\n",
              "      <td>False</td>\n",
              "      <td>False</td>\n",
              "      <td>...</td>\n",
              "      <td>True</td>\n",
              "      <td>False</td>\n",
              "      <td>False</td>\n",
              "      <td>False</td>\n",
              "      <td>True</td>\n",
              "      <td>False</td>\n",
              "      <td>False</td>\n",
              "      <td>True</td>\n",
              "      <td>False</td>\n",
              "      <td>False</td>\n",
              "    </tr>\n",
              "    <tr>\n",
              "      <th>18228</th>\n",
              "      <td>0.067942</td>\n",
              "      <td>True</td>\n",
              "      <td>False</td>\n",
              "      <td>False</td>\n",
              "      <td>False</td>\n",
              "      <td>False</td>\n",
              "      <td>False</td>\n",
              "      <td>False</td>\n",
              "      <td>False</td>\n",
              "      <td>False</td>\n",
              "      <td>...</td>\n",
              "      <td>True</td>\n",
              "      <td>False</td>\n",
              "      <td>False</td>\n",
              "      <td>False</td>\n",
              "      <td>True</td>\n",
              "      <td>False</td>\n",
              "      <td>False</td>\n",
              "      <td>True</td>\n",
              "      <td>False</td>\n",
              "      <td>False</td>\n",
              "    </tr>\n",
              "    <tr>\n",
              "      <th>...</th>\n",
              "      <td>...</td>\n",
              "      <td>...</td>\n",
              "      <td>...</td>\n",
              "      <td>...</td>\n",
              "      <td>...</td>\n",
              "      <td>...</td>\n",
              "      <td>...</td>\n",
              "      <td>...</td>\n",
              "      <td>...</td>\n",
              "      <td>...</td>\n",
              "      <td>...</td>\n",
              "      <td>...</td>\n",
              "      <td>...</td>\n",
              "      <td>...</td>\n",
              "      <td>...</td>\n",
              "      <td>...</td>\n",
              "      <td>...</td>\n",
              "      <td>...</td>\n",
              "      <td>...</td>\n",
              "      <td>...</td>\n",
              "      <td>...</td>\n",
              "    </tr>\n",
              "    <tr>\n",
              "      <th>16268</th>\n",
              "      <td>-1.088551</td>\n",
              "      <td>False</td>\n",
              "      <td>True</td>\n",
              "      <td>False</td>\n",
              "      <td>False</td>\n",
              "      <td>False</td>\n",
              "      <td>False</td>\n",
              "      <td>False</td>\n",
              "      <td>False</td>\n",
              "      <td>False</td>\n",
              "      <td>...</td>\n",
              "      <td>False</td>\n",
              "      <td>False</td>\n",
              "      <td>False</td>\n",
              "      <td>False</td>\n",
              "      <td>True</td>\n",
              "      <td>False</td>\n",
              "      <td>False</td>\n",
              "      <td>True</td>\n",
              "      <td>False</td>\n",
              "      <td>False</td>\n",
              "    </tr>\n",
              "    <tr>\n",
              "      <th>20571</th>\n",
              "      <td>-0.345091</td>\n",
              "      <td>False</td>\n",
              "      <td>False</td>\n",
              "      <td>True</td>\n",
              "      <td>False</td>\n",
              "      <td>False</td>\n",
              "      <td>False</td>\n",
              "      <td>False</td>\n",
              "      <td>False</td>\n",
              "      <td>False</td>\n",
              "      <td>...</td>\n",
              "      <td>False</td>\n",
              "      <td>False</td>\n",
              "      <td>False</td>\n",
              "      <td>False</td>\n",
              "      <td>False</td>\n",
              "      <td>True</td>\n",
              "      <td>False</td>\n",
              "      <td>True</td>\n",
              "      <td>False</td>\n",
              "      <td>False</td>\n",
              "    </tr>\n",
              "    <tr>\n",
              "      <th>16170</th>\n",
              "      <td>-1.088551</td>\n",
              "      <td>False</td>\n",
              "      <td>False</td>\n",
              "      <td>False</td>\n",
              "      <td>True</td>\n",
              "      <td>False</td>\n",
              "      <td>False</td>\n",
              "      <td>False</td>\n",
              "      <td>False</td>\n",
              "      <td>False</td>\n",
              "      <td>...</td>\n",
              "      <td>False</td>\n",
              "      <td>False</td>\n",
              "      <td>False</td>\n",
              "      <td>False</td>\n",
              "      <td>False</td>\n",
              "      <td>True</td>\n",
              "      <td>False</td>\n",
              "      <td>True</td>\n",
              "      <td>False</td>\n",
              "      <td>False</td>\n",
              "    </tr>\n",
              "    <tr>\n",
              "      <th>15343</th>\n",
              "      <td>1.554861</td>\n",
              "      <td>False</td>\n",
              "      <td>False</td>\n",
              "      <td>False</td>\n",
              "      <td>False</td>\n",
              "      <td>False</td>\n",
              "      <td>True</td>\n",
              "      <td>False</td>\n",
              "      <td>False</td>\n",
              "      <td>False</td>\n",
              "      <td>...</td>\n",
              "      <td>False</td>\n",
              "      <td>False</td>\n",
              "      <td>False</td>\n",
              "      <td>False</td>\n",
              "      <td>False</td>\n",
              "      <td>False</td>\n",
              "      <td>True</td>\n",
              "      <td>False</td>\n",
              "      <td>False</td>\n",
              "      <td>True</td>\n",
              "    </tr>\n",
              "    <tr>\n",
              "      <th>12372</th>\n",
              "      <td>1.472254</td>\n",
              "      <td>False</td>\n",
              "      <td>True</td>\n",
              "      <td>False</td>\n",
              "      <td>False</td>\n",
              "      <td>False</td>\n",
              "      <td>False</td>\n",
              "      <td>False</td>\n",
              "      <td>False</td>\n",
              "      <td>False</td>\n",
              "      <td>...</td>\n",
              "      <td>False</td>\n",
              "      <td>False</td>\n",
              "      <td>False</td>\n",
              "      <td>False</td>\n",
              "      <td>False</td>\n",
              "      <td>True</td>\n",
              "      <td>False</td>\n",
              "      <td>True</td>\n",
              "      <td>False</td>\n",
              "      <td>False</td>\n",
              "    </tr>\n",
              "  </tbody>\n",
              "</table>\n",
              "<p>20295 rows × 175 columns</p>\n",
              "</div>"
            ],
            "text/plain": [
              "            age  monthh_Apr  monthh_Aug  monthh_Dec  monthh_Feb  monthh_Jan  \\\n",
              "18488 -1.005944       False        True       False       False       False   \n",
              "9309   0.563581       False       False       False       False       False   \n",
              "25377 -0.592911       False       False       False       False       False   \n",
              "23687 -1.088551       False       False       False       False        True   \n",
              "18228  0.067942        True       False       False       False       False   \n",
              "...         ...         ...         ...         ...         ...         ...   \n",
              "16268 -1.088551       False        True       False       False       False   \n",
              "20571 -0.345091       False       False        True       False       False   \n",
              "16170 -1.088551       False       False       False        True       False   \n",
              "15343  1.554861       False       False       False       False       False   \n",
              "12372  1.472254       False        True       False       False       False   \n",
              "\n",
              "       monthh_Jul  monthh_Jun  monthh_Mar  monthh_May  ...  \\\n",
              "18488       False       False       False       False  ...   \n",
              "9309        False       False       False       False  ...   \n",
              "25377       False       False        True       False  ...   \n",
              "23687       False       False       False       False  ...   \n",
              "18228       False       False       False       False  ...   \n",
              "...           ...         ...         ...         ...  ...   \n",
              "16268       False       False       False       False  ...   \n",
              "20571       False       False       False       False  ...   \n",
              "16170       False       False       False       False  ...   \n",
              "15343        True       False       False       False  ...   \n",
              "12372       False       False       False       False  ...   \n",
              "\n",
              "       numberofcars_2 vehicles  numberofcars_3 to 4  numberofcars_5 to 8  \\\n",
              "18488                    False                False                False   \n",
              "9309                     False                False                False   \n",
              "25377                    False                False                False   \n",
              "23687                     True                False                False   \n",
              "18228                     True                False                False   \n",
              "...                        ...                  ...                  ...   \n",
              "16268                    False                False                False   \n",
              "20571                    False                False                False   \n",
              "16170                    False                False                False   \n",
              "15343                    False                False                False   \n",
              "12372                    False                False                False   \n",
              "\n",
              "       numberofcars_more than 8  yearr_1994  yearr_1995  yearr_1996  \\\n",
              "18488                     False        True       False       False   \n",
              "9309                      False        True       False       False   \n",
              "25377                     False       False        True       False   \n",
              "23687                     False        True       False       False   \n",
              "18228                     False        True       False       False   \n",
              "...                         ...         ...         ...         ...   \n",
              "16268                     False        True       False       False   \n",
              "20571                     False       False        True       False   \n",
              "16170                     False       False        True       False   \n",
              "15343                     False       False       False        True   \n",
              "12372                     False       False        True       False   \n",
              "\n",
              "       basepolicy_All Perils  basepolicy_Collision  basepolicy_Liability  \n",
              "18488                   True                 False                 False  \n",
              "9309                   False                  True                 False  \n",
              "25377                  False                  True                 False  \n",
              "23687                   True                 False                 False  \n",
              "18228                   True                 False                 False  \n",
              "...                      ...                   ...                   ...  \n",
              "16268                   True                 False                 False  \n",
              "20571                   True                 False                 False  \n",
              "16170                   True                 False                 False  \n",
              "15343                  False                 False                  True  \n",
              "12372                   True                 False                 False  \n",
              "\n",
              "[20295 rows x 175 columns]"
            ]
          },
          "execution_count": 37,
          "metadata": {},
          "output_type": "execute_result"
        }
      ],
      "source": [
        "X_train_imputado"
      ]
    },
    {
      "cell_type": "markdown",
      "metadata": {},
      "source": [
        "Seleccionando el mejor modelo usando cross validation para testear los modelos en distintas submuestras de los datos y observar el tradeoff sesgo varianza."
      ]
    },
    {
      "cell_type": "code",
      "execution_count": 38,
      "metadata": {
        "colab": {
          "base_uri": "https://localhost:8080/"
        },
        "id": "ujgYN5yN2fR4",
        "outputId": "38b4cae8-d3df-435d-f261-57cff23c1f90"
      },
      "outputs": [
        {
          "name": "stdout",
          "output_type": "stream",
          "text": [
            "(LR, 0.9047951679849096, 0.010186105626521214\n",
            "(CART, 1.0, 0.0\n",
            "(NB, 0.9820709245736948, 0.0040174899139510485\n",
            "(dt_hyper, 1.0, 0.0\n"
          ]
        },
        {
          "name": "stderr",
          "output_type": "stream",
          "text": [
            "c:\\Users\\USER\\anaconda3\\envs\\Axial\\lib\\site-packages\\sklearn\\svm\\_base.py:297: ConvergenceWarning: Solver terminated early (max_iter=1000).  Consider pre-processing your data with StandardScaler or MinMaxScaler.\n",
            "  warnings.warn(\n",
            "c:\\Users\\USER\\anaconda3\\envs\\Axial\\lib\\site-packages\\sklearn\\svm\\_base.py:297: ConvergenceWarning: Solver terminated early (max_iter=1000).  Consider pre-processing your data with StandardScaler or MinMaxScaler.\n",
            "  warnings.warn(\n",
            "c:\\Users\\USER\\anaconda3\\envs\\Axial\\lib\\site-packages\\sklearn\\svm\\_base.py:297: ConvergenceWarning: Solver terminated early (max_iter=1000).  Consider pre-processing your data with StandardScaler or MinMaxScaler.\n",
            "  warnings.warn(\n",
            "c:\\Users\\USER\\anaconda3\\envs\\Axial\\lib\\site-packages\\sklearn\\svm\\_base.py:297: ConvergenceWarning: Solver terminated early (max_iter=1000).  Consider pre-processing your data with StandardScaler or MinMaxScaler.\n",
            "  warnings.warn(\n",
            "c:\\Users\\USER\\anaconda3\\envs\\Axial\\lib\\site-packages\\sklearn\\svm\\_base.py:297: ConvergenceWarning: Solver terminated early (max_iter=1000).  Consider pre-processing your data with StandardScaler or MinMaxScaler.\n",
            "  warnings.warn(\n",
            "c:\\Users\\USER\\anaconda3\\envs\\Axial\\lib\\site-packages\\sklearn\\svm\\_base.py:297: ConvergenceWarning: Solver terminated early (max_iter=1000).  Consider pre-processing your data with StandardScaler or MinMaxScaler.\n",
            "  warnings.warn(\n",
            "c:\\Users\\USER\\anaconda3\\envs\\Axial\\lib\\site-packages\\sklearn\\svm\\_base.py:297: ConvergenceWarning: Solver terminated early (max_iter=1000).  Consider pre-processing your data with StandardScaler or MinMaxScaler.\n",
            "  warnings.warn(\n",
            "c:\\Users\\USER\\anaconda3\\envs\\Axial\\lib\\site-packages\\sklearn\\svm\\_base.py:297: ConvergenceWarning: Solver terminated early (max_iter=1000).  Consider pre-processing your data with StandardScaler or MinMaxScaler.\n",
            "  warnings.warn(\n",
            "c:\\Users\\USER\\anaconda3\\envs\\Axial\\lib\\site-packages\\sklearn\\svm\\_base.py:297: ConvergenceWarning: Solver terminated early (max_iter=1000).  Consider pre-processing your data with StandardScaler or MinMaxScaler.\n",
            "  warnings.warn(\n",
            "c:\\Users\\USER\\anaconda3\\envs\\Axial\\lib\\site-packages\\sklearn\\svm\\_base.py:297: ConvergenceWarning: Solver terminated early (max_iter=1000).  Consider pre-processing your data with StandardScaler or MinMaxScaler.\n",
            "  warnings.warn(\n"
          ]
        },
        {
          "name": "stdout",
          "output_type": "stream",
          "text": [
            "(SVM, 0.8315141969004154, 0.050132592262142735\n"
          ]
        }
      ],
      "source": [
        "seed =2\n",
        "models = []\n",
        "\n",
        "#logistic Regression\n",
        "models.append(('LR', LogisticRegression(solver='liblinear')))\n",
        "\n",
        "# Decision Tree classifier\n",
        "models.append(('CART', DecisionTreeClassifier()))\n",
        "\n",
        "# Naïve Bayes\n",
        "models.append(('NB', GaussianNB()))\n",
        "\n",
        "#Decision tree\n",
        "models.append(('dt_hyper', DecisionTreeClassifier(criterion= \"gini\")))\n",
        "# SVM\n",
        "models.append(('SVM', SVC(C=1.0, kernel='rbf', max_iter=1000, tol=1e-3)))\n",
        "# evaluate each model in turn\n",
        "results = []\n",
        "names = []\n",
        "scoring = 'recall'\n",
        "for name, model in models:\n",
        "\t# Kfol cross validation for model selection\n",
        "\tkfold = model_selection.KFold(n_splits=10, random_state=seed,shuffle=True)\n",
        "\t#X train , y train\n",
        "\tcv_results = model_selection.cross_val_score(model, X_train_imputado, y_train, cv=kfold, scoring=scoring)\n",
        "\tresults.append(cv_results)\n",
        "\tnames.append(name)\n",
        "\tmsg = f\"({name}, {cv_results.mean()}, {cv_results.std()}\"\n",
        "\tprint(msg)"
      ]
    },
    {
      "cell_type": "code",
      "execution_count": 39,
      "metadata": {
        "colab": {
          "base_uri": "https://localhost:8080/",
          "height": 542
        },
        "id": "5fH_PmJB2zMt",
        "outputId": "3e66c221-7196-49ab-d92d-5a342e6c77a2"
      },
      "outputs": [
        {
          "data": {
            "application/vnd.plotly.v1+json": {
              "config": {
                "plotlyServerURL": "https://plot.ly"
              },
              "data": [
                {
                  "alignmentgroup": "True",
                  "hovertemplate": "variable=%{x}<br>value=%{y}<extra></extra>",
                  "legendgroup": "",
                  "marker": {
                    "color": "#636efa"
                  },
                  "name": "",
                  "notched": false,
                  "offsetgroup": "",
                  "orientation": "v",
                  "showlegend": false,
                  "type": "box",
                  "x": [
                    "LR",
                    "LR",
                    "LR",
                    "LR",
                    "LR",
                    "LR",
                    "LR",
                    "LR",
                    "LR",
                    "LR",
                    "CART",
                    "CART",
                    "CART",
                    "CART",
                    "CART",
                    "CART",
                    "CART",
                    "CART",
                    "CART",
                    "CART",
                    "NB",
                    "NB",
                    "NB",
                    "NB",
                    "NB",
                    "NB",
                    "NB",
                    "NB",
                    "NB",
                    "NB",
                    "dt_hyper",
                    "dt_hyper",
                    "dt_hyper",
                    "dt_hyper",
                    "dt_hyper",
                    "dt_hyper",
                    "dt_hyper",
                    "dt_hyper",
                    "dt_hyper",
                    "dt_hyper",
                    "SVM",
                    "SVM",
                    "SVM",
                    "SVM",
                    "SVM",
                    "SVM",
                    "SVM",
                    "SVM",
                    "SVM",
                    "SVM"
                  ],
                  "x0": " ",
                  "xaxis": "x",
                  "y": [
                    0.8966535433070866,
                    0.9034749034749034,
                    0.9151398264223722,
                    0.9051383399209486,
                    0.8994974874371859,
                    0.9117647058823529,
                    0.8819938962360122,
                    0.9025341130604289,
                    0.9186274509803921,
                    0.9131274131274131,
                    1,
                    1,
                    1,
                    1,
                    1,
                    1,
                    1,
                    1,
                    1,
                    1,
                    0.984251968503937,
                    0.9739382239382239,
                    0.9845708775313404,
                    0.9772727272727273,
                    0.9849246231155779,
                    0.9837728194726166,
                    0.9806714140386572,
                    0.9883040935672515,
                    0.9794117647058823,
                    0.9835907335907336,
                    1,
                    1,
                    1,
                    1,
                    1,
                    1,
                    1,
                    1,
                    1,
                    1,
                    0.7057086614173228,
                    0.8117760617760618,
                    0.7974927675988428,
                    0.8458498023715415,
                    0.871356783919598,
                    0.8529411764705882,
                    0.8911495422177009,
                    0.8713450292397661,
                    0.8470588235294118,
                    0.8204633204633205
                  ],
                  "y0": " ",
                  "yaxis": "y"
                }
              ],
              "layout": {
                "boxmode": "group",
                "legend": {
                  "tracegroupgap": 0
                },
                "template": {
                  "data": {
                    "bar": [
                      {
                        "error_x": {
                          "color": "#2a3f5f"
                        },
                        "error_y": {
                          "color": "#2a3f5f"
                        },
                        "marker": {
                          "line": {
                            "color": "#E5ECF6",
                            "width": 0.5
                          },
                          "pattern": {
                            "fillmode": "overlay",
                            "size": 10,
                            "solidity": 0.2
                          }
                        },
                        "type": "bar"
                      }
                    ],
                    "barpolar": [
                      {
                        "marker": {
                          "line": {
                            "color": "#E5ECF6",
                            "width": 0.5
                          },
                          "pattern": {
                            "fillmode": "overlay",
                            "size": 10,
                            "solidity": 0.2
                          }
                        },
                        "type": "barpolar"
                      }
                    ],
                    "carpet": [
                      {
                        "aaxis": {
                          "endlinecolor": "#2a3f5f",
                          "gridcolor": "white",
                          "linecolor": "white",
                          "minorgridcolor": "white",
                          "startlinecolor": "#2a3f5f"
                        },
                        "baxis": {
                          "endlinecolor": "#2a3f5f",
                          "gridcolor": "white",
                          "linecolor": "white",
                          "minorgridcolor": "white",
                          "startlinecolor": "#2a3f5f"
                        },
                        "type": "carpet"
                      }
                    ],
                    "choropleth": [
                      {
                        "colorbar": {
                          "outlinewidth": 0,
                          "ticks": ""
                        },
                        "type": "choropleth"
                      }
                    ],
                    "contour": [
                      {
                        "colorbar": {
                          "outlinewidth": 0,
                          "ticks": ""
                        },
                        "colorscale": [
                          [
                            0,
                            "#0d0887"
                          ],
                          [
                            0.1111111111111111,
                            "#46039f"
                          ],
                          [
                            0.2222222222222222,
                            "#7201a8"
                          ],
                          [
                            0.3333333333333333,
                            "#9c179e"
                          ],
                          [
                            0.4444444444444444,
                            "#bd3786"
                          ],
                          [
                            0.5555555555555556,
                            "#d8576b"
                          ],
                          [
                            0.6666666666666666,
                            "#ed7953"
                          ],
                          [
                            0.7777777777777778,
                            "#fb9f3a"
                          ],
                          [
                            0.8888888888888888,
                            "#fdca26"
                          ],
                          [
                            1,
                            "#f0f921"
                          ]
                        ],
                        "type": "contour"
                      }
                    ],
                    "contourcarpet": [
                      {
                        "colorbar": {
                          "outlinewidth": 0,
                          "ticks": ""
                        },
                        "type": "contourcarpet"
                      }
                    ],
                    "heatmap": [
                      {
                        "colorbar": {
                          "outlinewidth": 0,
                          "ticks": ""
                        },
                        "colorscale": [
                          [
                            0,
                            "#0d0887"
                          ],
                          [
                            0.1111111111111111,
                            "#46039f"
                          ],
                          [
                            0.2222222222222222,
                            "#7201a8"
                          ],
                          [
                            0.3333333333333333,
                            "#9c179e"
                          ],
                          [
                            0.4444444444444444,
                            "#bd3786"
                          ],
                          [
                            0.5555555555555556,
                            "#d8576b"
                          ],
                          [
                            0.6666666666666666,
                            "#ed7953"
                          ],
                          [
                            0.7777777777777778,
                            "#fb9f3a"
                          ],
                          [
                            0.8888888888888888,
                            "#fdca26"
                          ],
                          [
                            1,
                            "#f0f921"
                          ]
                        ],
                        "type": "heatmap"
                      }
                    ],
                    "heatmapgl": [
                      {
                        "colorbar": {
                          "outlinewidth": 0,
                          "ticks": ""
                        },
                        "colorscale": [
                          [
                            0,
                            "#0d0887"
                          ],
                          [
                            0.1111111111111111,
                            "#46039f"
                          ],
                          [
                            0.2222222222222222,
                            "#7201a8"
                          ],
                          [
                            0.3333333333333333,
                            "#9c179e"
                          ],
                          [
                            0.4444444444444444,
                            "#bd3786"
                          ],
                          [
                            0.5555555555555556,
                            "#d8576b"
                          ],
                          [
                            0.6666666666666666,
                            "#ed7953"
                          ],
                          [
                            0.7777777777777778,
                            "#fb9f3a"
                          ],
                          [
                            0.8888888888888888,
                            "#fdca26"
                          ],
                          [
                            1,
                            "#f0f921"
                          ]
                        ],
                        "type": "heatmapgl"
                      }
                    ],
                    "histogram": [
                      {
                        "marker": {
                          "pattern": {
                            "fillmode": "overlay",
                            "size": 10,
                            "solidity": 0.2
                          }
                        },
                        "type": "histogram"
                      }
                    ],
                    "histogram2d": [
                      {
                        "colorbar": {
                          "outlinewidth": 0,
                          "ticks": ""
                        },
                        "colorscale": [
                          [
                            0,
                            "#0d0887"
                          ],
                          [
                            0.1111111111111111,
                            "#46039f"
                          ],
                          [
                            0.2222222222222222,
                            "#7201a8"
                          ],
                          [
                            0.3333333333333333,
                            "#9c179e"
                          ],
                          [
                            0.4444444444444444,
                            "#bd3786"
                          ],
                          [
                            0.5555555555555556,
                            "#d8576b"
                          ],
                          [
                            0.6666666666666666,
                            "#ed7953"
                          ],
                          [
                            0.7777777777777778,
                            "#fb9f3a"
                          ],
                          [
                            0.8888888888888888,
                            "#fdca26"
                          ],
                          [
                            1,
                            "#f0f921"
                          ]
                        ],
                        "type": "histogram2d"
                      }
                    ],
                    "histogram2dcontour": [
                      {
                        "colorbar": {
                          "outlinewidth": 0,
                          "ticks": ""
                        },
                        "colorscale": [
                          [
                            0,
                            "#0d0887"
                          ],
                          [
                            0.1111111111111111,
                            "#46039f"
                          ],
                          [
                            0.2222222222222222,
                            "#7201a8"
                          ],
                          [
                            0.3333333333333333,
                            "#9c179e"
                          ],
                          [
                            0.4444444444444444,
                            "#bd3786"
                          ],
                          [
                            0.5555555555555556,
                            "#d8576b"
                          ],
                          [
                            0.6666666666666666,
                            "#ed7953"
                          ],
                          [
                            0.7777777777777778,
                            "#fb9f3a"
                          ],
                          [
                            0.8888888888888888,
                            "#fdca26"
                          ],
                          [
                            1,
                            "#f0f921"
                          ]
                        ],
                        "type": "histogram2dcontour"
                      }
                    ],
                    "mesh3d": [
                      {
                        "colorbar": {
                          "outlinewidth": 0,
                          "ticks": ""
                        },
                        "type": "mesh3d"
                      }
                    ],
                    "parcoords": [
                      {
                        "line": {
                          "colorbar": {
                            "outlinewidth": 0,
                            "ticks": ""
                          }
                        },
                        "type": "parcoords"
                      }
                    ],
                    "pie": [
                      {
                        "automargin": true,
                        "type": "pie"
                      }
                    ],
                    "scatter": [
                      {
                        "fillpattern": {
                          "fillmode": "overlay",
                          "size": 10,
                          "solidity": 0.2
                        },
                        "type": "scatter"
                      }
                    ],
                    "scatter3d": [
                      {
                        "line": {
                          "colorbar": {
                            "outlinewidth": 0,
                            "ticks": ""
                          }
                        },
                        "marker": {
                          "colorbar": {
                            "outlinewidth": 0,
                            "ticks": ""
                          }
                        },
                        "type": "scatter3d"
                      }
                    ],
                    "scattercarpet": [
                      {
                        "marker": {
                          "colorbar": {
                            "outlinewidth": 0,
                            "ticks": ""
                          }
                        },
                        "type": "scattercarpet"
                      }
                    ],
                    "scattergeo": [
                      {
                        "marker": {
                          "colorbar": {
                            "outlinewidth": 0,
                            "ticks": ""
                          }
                        },
                        "type": "scattergeo"
                      }
                    ],
                    "scattergl": [
                      {
                        "marker": {
                          "colorbar": {
                            "outlinewidth": 0,
                            "ticks": ""
                          }
                        },
                        "type": "scattergl"
                      }
                    ],
                    "scattermapbox": [
                      {
                        "marker": {
                          "colorbar": {
                            "outlinewidth": 0,
                            "ticks": ""
                          }
                        },
                        "type": "scattermapbox"
                      }
                    ],
                    "scatterpolar": [
                      {
                        "marker": {
                          "colorbar": {
                            "outlinewidth": 0,
                            "ticks": ""
                          }
                        },
                        "type": "scatterpolar"
                      }
                    ],
                    "scatterpolargl": [
                      {
                        "marker": {
                          "colorbar": {
                            "outlinewidth": 0,
                            "ticks": ""
                          }
                        },
                        "type": "scatterpolargl"
                      }
                    ],
                    "scatterternary": [
                      {
                        "marker": {
                          "colorbar": {
                            "outlinewidth": 0,
                            "ticks": ""
                          }
                        },
                        "type": "scatterternary"
                      }
                    ],
                    "surface": [
                      {
                        "colorbar": {
                          "outlinewidth": 0,
                          "ticks": ""
                        },
                        "colorscale": [
                          [
                            0,
                            "#0d0887"
                          ],
                          [
                            0.1111111111111111,
                            "#46039f"
                          ],
                          [
                            0.2222222222222222,
                            "#7201a8"
                          ],
                          [
                            0.3333333333333333,
                            "#9c179e"
                          ],
                          [
                            0.4444444444444444,
                            "#bd3786"
                          ],
                          [
                            0.5555555555555556,
                            "#d8576b"
                          ],
                          [
                            0.6666666666666666,
                            "#ed7953"
                          ],
                          [
                            0.7777777777777778,
                            "#fb9f3a"
                          ],
                          [
                            0.8888888888888888,
                            "#fdca26"
                          ],
                          [
                            1,
                            "#f0f921"
                          ]
                        ],
                        "type": "surface"
                      }
                    ],
                    "table": [
                      {
                        "cells": {
                          "fill": {
                            "color": "#EBF0F8"
                          },
                          "line": {
                            "color": "white"
                          }
                        },
                        "header": {
                          "fill": {
                            "color": "#C8D4E3"
                          },
                          "line": {
                            "color": "white"
                          }
                        },
                        "type": "table"
                      }
                    ]
                  },
                  "layout": {
                    "annotationdefaults": {
                      "arrowcolor": "#2a3f5f",
                      "arrowhead": 0,
                      "arrowwidth": 1
                    },
                    "autotypenumbers": "strict",
                    "coloraxis": {
                      "colorbar": {
                        "outlinewidth": 0,
                        "ticks": ""
                      }
                    },
                    "colorscale": {
                      "diverging": [
                        [
                          0,
                          "#8e0152"
                        ],
                        [
                          0.1,
                          "#c51b7d"
                        ],
                        [
                          0.2,
                          "#de77ae"
                        ],
                        [
                          0.3,
                          "#f1b6da"
                        ],
                        [
                          0.4,
                          "#fde0ef"
                        ],
                        [
                          0.5,
                          "#f7f7f7"
                        ],
                        [
                          0.6,
                          "#e6f5d0"
                        ],
                        [
                          0.7,
                          "#b8e186"
                        ],
                        [
                          0.8,
                          "#7fbc41"
                        ],
                        [
                          0.9,
                          "#4d9221"
                        ],
                        [
                          1,
                          "#276419"
                        ]
                      ],
                      "sequential": [
                        [
                          0,
                          "#0d0887"
                        ],
                        [
                          0.1111111111111111,
                          "#46039f"
                        ],
                        [
                          0.2222222222222222,
                          "#7201a8"
                        ],
                        [
                          0.3333333333333333,
                          "#9c179e"
                        ],
                        [
                          0.4444444444444444,
                          "#bd3786"
                        ],
                        [
                          0.5555555555555556,
                          "#d8576b"
                        ],
                        [
                          0.6666666666666666,
                          "#ed7953"
                        ],
                        [
                          0.7777777777777778,
                          "#fb9f3a"
                        ],
                        [
                          0.8888888888888888,
                          "#fdca26"
                        ],
                        [
                          1,
                          "#f0f921"
                        ]
                      ],
                      "sequentialminus": [
                        [
                          0,
                          "#0d0887"
                        ],
                        [
                          0.1111111111111111,
                          "#46039f"
                        ],
                        [
                          0.2222222222222222,
                          "#7201a8"
                        ],
                        [
                          0.3333333333333333,
                          "#9c179e"
                        ],
                        [
                          0.4444444444444444,
                          "#bd3786"
                        ],
                        [
                          0.5555555555555556,
                          "#d8576b"
                        ],
                        [
                          0.6666666666666666,
                          "#ed7953"
                        ],
                        [
                          0.7777777777777778,
                          "#fb9f3a"
                        ],
                        [
                          0.8888888888888888,
                          "#fdca26"
                        ],
                        [
                          1,
                          "#f0f921"
                        ]
                      ]
                    },
                    "colorway": [
                      "#636efa",
                      "#EF553B",
                      "#00cc96",
                      "#ab63fa",
                      "#FFA15A",
                      "#19d3f3",
                      "#FF6692",
                      "#B6E880",
                      "#FF97FF",
                      "#FECB52"
                    ],
                    "font": {
                      "color": "#2a3f5f"
                    },
                    "geo": {
                      "bgcolor": "white",
                      "lakecolor": "white",
                      "landcolor": "#E5ECF6",
                      "showlakes": true,
                      "showland": true,
                      "subunitcolor": "white"
                    },
                    "hoverlabel": {
                      "align": "left"
                    },
                    "hovermode": "closest",
                    "mapbox": {
                      "style": "light"
                    },
                    "paper_bgcolor": "white",
                    "plot_bgcolor": "#E5ECF6",
                    "polar": {
                      "angularaxis": {
                        "gridcolor": "white",
                        "linecolor": "white",
                        "ticks": ""
                      },
                      "bgcolor": "#E5ECF6",
                      "radialaxis": {
                        "gridcolor": "white",
                        "linecolor": "white",
                        "ticks": ""
                      }
                    },
                    "scene": {
                      "xaxis": {
                        "backgroundcolor": "#E5ECF6",
                        "gridcolor": "white",
                        "gridwidth": 2,
                        "linecolor": "white",
                        "showbackground": true,
                        "ticks": "",
                        "zerolinecolor": "white"
                      },
                      "yaxis": {
                        "backgroundcolor": "#E5ECF6",
                        "gridcolor": "white",
                        "gridwidth": 2,
                        "linecolor": "white",
                        "showbackground": true,
                        "ticks": "",
                        "zerolinecolor": "white"
                      },
                      "zaxis": {
                        "backgroundcolor": "#E5ECF6",
                        "gridcolor": "white",
                        "gridwidth": 2,
                        "linecolor": "white",
                        "showbackground": true,
                        "ticks": "",
                        "zerolinecolor": "white"
                      }
                    },
                    "shapedefaults": {
                      "line": {
                        "color": "#2a3f5f"
                      }
                    },
                    "ternary": {
                      "aaxis": {
                        "gridcolor": "white",
                        "linecolor": "white",
                        "ticks": ""
                      },
                      "baxis": {
                        "gridcolor": "white",
                        "linecolor": "white",
                        "ticks": ""
                      },
                      "bgcolor": "#E5ECF6",
                      "caxis": {
                        "gridcolor": "white",
                        "linecolor": "white",
                        "ticks": ""
                      }
                    },
                    "title": {
                      "x": 0.05
                    },
                    "xaxis": {
                      "automargin": true,
                      "gridcolor": "white",
                      "linecolor": "white",
                      "ticks": "",
                      "title": {
                        "standoff": 15
                      },
                      "zerolinecolor": "white",
                      "zerolinewidth": 2
                    },
                    "yaxis": {
                      "automargin": true,
                      "gridcolor": "white",
                      "linecolor": "white",
                      "ticks": "",
                      "title": {
                        "standoff": 15
                      },
                      "zerolinecolor": "white",
                      "zerolinewidth": 2
                    }
                  }
                },
                "title": {
                  "text": "Algorithm Comparison"
                },
                "xaxis": {
                  "anchor": "y",
                  "domain": [
                    0,
                    1
                  ],
                  "title": {
                    "text": "variable"
                  }
                },
                "yaxis": {
                  "anchor": "x",
                  "domain": [
                    0,
                    1
                  ],
                  "title": {
                    "text": "value"
                  }
                }
              }
            }
          },
          "metadata": {},
          "output_type": "display_data"
        }
      ],
      "source": [
        "results_df = pd.DataFrame(results, index=names).T\n",
        "px.box(results_df,title = 'Algorithm Comparison')"
      ]
    },
    {
      "cell_type": "markdown",
      "metadata": {},
      "source": [
        "Usando la funcion select k best para extraer las k caracteristicas mas importantes en terminos de explicabilidad y usarlas para entrenar el modelo de machine learning evitando sobreajuste por exceso de caracteristicas."
      ]
    },
    {
      "cell_type": "code",
      "execution_count": 40,
      "metadata": {
        "id": "D2YzRtYf3Xu6"
      },
      "outputs": [],
      "source": [
        "k_best = SelectKBest(f_classif, k=50)"
      ]
    },
    {
      "cell_type": "code",
      "execution_count": 41,
      "metadata": {
        "id": "FlWiC6tj3Eh3"
      },
      "outputs": [],
      "source": [
        "# Aplicar SelectKBest a los datos de entrenamiento\n",
        "X_train_imputado_kbest = k_best.fit_transform(X_train_imputado, y_train)"
      ]
    },
    {
      "cell_type": "code",
      "execution_count": 42,
      "metadata": {
        "id": "txzR0H4Z3hVO"
      },
      "outputs": [],
      "source": [
        "selected_bestfeature_names = X_train_imputado.columns[k_best.get_support()]"
      ]
    },
    {
      "cell_type": "code",
      "execution_count": 43,
      "metadata": {
        "colab": {
          "base_uri": "https://localhost:8080/"
        },
        "id": "sjSNErFX3p_H",
        "outputId": "50d36019-2316-4bc2-8a90-dbaf104d27e2"
      },
      "outputs": [
        {
          "data": {
            "text/plain": [
              "Index(['age', 'monthh_Mar', 'monthh_Nov', 'make_Accura', 'accidentarea_Rural',\n",
              "       'accidentarea_Urban', 'monthclaimed_Aug', 'monthclaimed_Dec',\n",
              "       'monthclaimed_Jul', 'monthclaimed_Nov', 'sex_Female', 'sex_Male',\n",
              "       'fault_Policy Holder', 'fault_Third Party',\n",
              "       'policytype_Sedan - All Perils', 'policytype_Sedan - Collision',\n",
              "       'policytype_Sedan - Liability', 'policytype_Sport - Collision',\n",
              "       'policytype_Utility - All Perils', 'vehiclecategory_Sedan',\n",
              "       'vehiclecategory_Sport', 'vehiclecategory_Utility',\n",
              "       'vehicleprice_20000 to 29000', 'vehicleprice_30000 to 39000',\n",
              "       'vehicleprice_less than 20000', 'vehicleprice_more than 69000',\n",
              "       'deductible_400', 'deductible_500', 'days_policy_accident_0',\n",
              "       'days_policy_accident_more than 30', 'pastnumberofclaims_0',\n",
              "       'pastnumberofclaims_2 to 4', 'pastnumberofclaims_more than 4',\n",
              "       'ageofvehicle_more than 7', 'ageofpolicyholder_16 to 17',\n",
              "       'ageofpolicyholder_21 to 25', 'policereportfiled_0',\n",
              "       'policereportfiled_1', 'agenttype_External', 'agenttype_Internal',\n",
              "       'numberofsuppliments_0', 'numberofsuppliments_3 to 5',\n",
              "       'numberofsuppliments_more than 5', 'addresschange_claim_2 to 3 years',\n",
              "       'addresschange_claim_no change', 'addresschange_claim_under 6 months',\n",
              "       'yearr_1994', 'basepolicy_All Perils', 'basepolicy_Collision',\n",
              "       'basepolicy_Liability'],\n",
              "      dtype='object')"
            ]
          },
          "execution_count": 43,
          "metadata": {},
          "output_type": "execute_result"
        }
      ],
      "source": [
        "selected_bestfeature_names"
      ]
    },
    {
      "cell_type": "code",
      "execution_count": 44,
      "metadata": {
        "id": "ev2wR_cP40sD"
      },
      "outputs": [],
      "source": [
        "X_train_best = X_train_imputado[['monthh_Dec', 'monthh_Jul', 'monthh_Nov', 'weekofmonth_1',\n",
        "       'weekofmonth_2', 'weekofmonth_3', 'weekofmonth_4', 'weekofmonth_5',\n",
        "       'dayofweek_Friday', 'dayofweek_Monday', 'dayofweek_Saturday',\n",
        "       'dayofweek_Thursday', 'dayofweek_Tuesday', 'dayofweek_Wednesday',\n",
        "       'make_Mazda', 'make_Pontiac', 'make_Toyota', 'dayofweekclaimed_Monday',\n",
        "       'dayofweekclaimed_Thursday', 'dayofweekclaimed_Tuesday',\n",
        "       'dayofweekclaimed_Wednesday', 'monthclaimed_Dec', 'monthclaimed_Jul',\n",
        "       'monthclaimed_Nov', 'weekofmonthclaimed_1', 'weekofmonthclaimed_2',\n",
        "       'weekofmonthclaimed_5', 'sex_Female', 'fault_Policy Holder',\n",
        "       'fault_Third Party', 'policytype_Sedan - Liability',\n",
        "       'vehiclecategory_Sedan', 'vehiclecategory_Sport',\n",
        "       'vehicleprice_20000 to 29000', 'vehicleprice_30000 to 39000',\n",
        "       'repnumber_11', 'driverrating_1', 'driverrating_2', 'driverrating_3',\n",
        "       'driverrating_4', 'pastnumberofclaims_1', 'pastnumberofclaims_2 to 4',\n",
        "       'pastnumberofclaims_more than 4', 'ageofvehicle_7 years',\n",
        "       'numberofsuppliments_1 to 2', 'numberofsuppliments_3 to 5',\n",
        "       'numberofsuppliments_more than 5', 'yearr_1995', 'yearr_1996',\n",
        "       'basepolicy_Liability']]"
      ]
    },
    {
      "cell_type": "markdown",
      "metadata": {},
      "source": [
        "Usando cross validation de nuevo para observar el comportamiento de los modelos entrenados con una submuestra de las caracteristicsa y evaluar si mejora su desempeño."
      ]
    },
    {
      "cell_type": "code",
      "execution_count": 45,
      "metadata": {
        "colab": {
          "base_uri": "https://localhost:8080/"
        },
        "id": "pqnOqHPr4fTB",
        "outputId": "b37bd2ca-178f-44a9-aacd-e31eada18e96"
      },
      "outputs": [
        {
          "name": "stdout",
          "output_type": "stream",
          "text": [
            "(LR, 0.9125279896761673, 0.011756061142552758\n",
            "(CART, 1.0, 0.0\n",
            "(NB, 0.8772087504893692, 0.014259544080449537\n",
            "(dt_hyper, 1.0, 0.0\n"
          ]
        },
        {
          "name": "stderr",
          "output_type": "stream",
          "text": [
            "c:\\Users\\USER\\anaconda3\\envs\\Axial\\lib\\site-packages\\sklearn\\svm\\_base.py:297: ConvergenceWarning:\n",
            "\n",
            "Solver terminated early (max_iter=1000).  Consider pre-processing your data with StandardScaler or MinMaxScaler.\n",
            "\n",
            "c:\\Users\\USER\\anaconda3\\envs\\Axial\\lib\\site-packages\\sklearn\\svm\\_base.py:297: ConvergenceWarning:\n",
            "\n",
            "Solver terminated early (max_iter=1000).  Consider pre-processing your data with StandardScaler or MinMaxScaler.\n",
            "\n",
            "c:\\Users\\USER\\anaconda3\\envs\\Axial\\lib\\site-packages\\sklearn\\svm\\_base.py:297: ConvergenceWarning:\n",
            "\n",
            "Solver terminated early (max_iter=1000).  Consider pre-processing your data with StandardScaler or MinMaxScaler.\n",
            "\n",
            "c:\\Users\\USER\\anaconda3\\envs\\Axial\\lib\\site-packages\\sklearn\\svm\\_base.py:297: ConvergenceWarning:\n",
            "\n",
            "Solver terminated early (max_iter=1000).  Consider pre-processing your data with StandardScaler or MinMaxScaler.\n",
            "\n",
            "c:\\Users\\USER\\anaconda3\\envs\\Axial\\lib\\site-packages\\sklearn\\svm\\_base.py:297: ConvergenceWarning:\n",
            "\n",
            "Solver terminated early (max_iter=1000).  Consider pre-processing your data with StandardScaler or MinMaxScaler.\n",
            "\n",
            "c:\\Users\\USER\\anaconda3\\envs\\Axial\\lib\\site-packages\\sklearn\\svm\\_base.py:297: ConvergenceWarning:\n",
            "\n",
            "Solver terminated early (max_iter=1000).  Consider pre-processing your data with StandardScaler or MinMaxScaler.\n",
            "\n",
            "c:\\Users\\USER\\anaconda3\\envs\\Axial\\lib\\site-packages\\sklearn\\svm\\_base.py:297: ConvergenceWarning:\n",
            "\n",
            "Solver terminated early (max_iter=1000).  Consider pre-processing your data with StandardScaler or MinMaxScaler.\n",
            "\n",
            "c:\\Users\\USER\\anaconda3\\envs\\Axial\\lib\\site-packages\\sklearn\\svm\\_base.py:297: ConvergenceWarning:\n",
            "\n",
            "Solver terminated early (max_iter=1000).  Consider pre-processing your data with StandardScaler or MinMaxScaler.\n",
            "\n",
            "c:\\Users\\USER\\anaconda3\\envs\\Axial\\lib\\site-packages\\sklearn\\svm\\_base.py:297: ConvergenceWarning:\n",
            "\n",
            "Solver terminated early (max_iter=1000).  Consider pre-processing your data with StandardScaler or MinMaxScaler.\n",
            "\n",
            "c:\\Users\\USER\\anaconda3\\envs\\Axial\\lib\\site-packages\\sklearn\\svm\\_base.py:297: ConvergenceWarning:\n",
            "\n",
            "Solver terminated early (max_iter=1000).  Consider pre-processing your data with StandardScaler or MinMaxScaler.\n",
            "\n"
          ]
        },
        {
          "name": "stdout",
          "output_type": "stream",
          "text": [
            "(SVM, 0.7542785511676207, 0.06835522454279293\n"
          ]
        }
      ],
      "source": [
        "seed =2\n",
        "models = []\n",
        "\n",
        "#logistic Regression\n",
        "models.append(('LR', LogisticRegression(solver='liblinear')))\n",
        "\n",
        "# Decision Tree classifier\n",
        "models.append(('CART', DecisionTreeClassifier()))\n",
        "\n",
        "# Naïve Bayes\n",
        "models.append(('NB', GaussianNB()))\n",
        "\n",
        "#Decision tree\n",
        "models.append(('dt_hyper', DecisionTreeClassifier(criterion= \"gini\")))\n",
        "# SVM\n",
        "models.append(('SVM', SVC(C=1.0, kernel='rbf', max_iter=1000, tol=1e-3)))\n",
        "# evaluate each model in turn\n",
        "results = []\n",
        "names = []\n",
        "scoring = 'recall'\n",
        "for name, model in models:\n",
        "\t# Kfol cross validation for model selection\n",
        "\tkfold = model_selection.KFold(n_splits=10, random_state=seed,shuffle=True)\n",
        "\t#X train , y train\n",
        "\tcv_results = model_selection.cross_val_score(model, X_train_best, y_train, cv=kfold, scoring=scoring)\n",
        "\tresults.append(cv_results)\n",
        "\tnames.append(name)\n",
        "\tmsg = f\"({name}, {cv_results.mean()}, {cv_results.std()}\"\n",
        "\tprint(msg)"
      ]
    },
    {
      "cell_type": "code",
      "execution_count": 46,
      "metadata": {
        "colab": {
          "base_uri": "https://localhost:8080/",
          "height": 542
        },
        "id": "oFI1nCDn5Vol",
        "outputId": "93460ef3-58d0-40bb-b098-0554553a7794"
      },
      "outputs": [
        {
          "data": {
            "application/vnd.plotly.v1+json": {
              "config": {
                "plotlyServerURL": "https://plot.ly"
              },
              "data": [
                {
                  "alignmentgroup": "True",
                  "hovertemplate": "variable=%{x}<br>value=%{y}<extra></extra>",
                  "legendgroup": "",
                  "marker": {
                    "color": "#636efa"
                  },
                  "name": "",
                  "notched": false,
                  "offsetgroup": "",
                  "orientation": "v",
                  "showlegend": false,
                  "type": "box",
                  "x": [
                    "LR",
                    "LR",
                    "LR",
                    "LR",
                    "LR",
                    "LR",
                    "LR",
                    "LR",
                    "LR",
                    "LR",
                    "CART",
                    "CART",
                    "CART",
                    "CART",
                    "CART",
                    "CART",
                    "CART",
                    "CART",
                    "CART",
                    "CART",
                    "NB",
                    "NB",
                    "NB",
                    "NB",
                    "NB",
                    "NB",
                    "NB",
                    "NB",
                    "NB",
                    "NB",
                    "dt_hyper",
                    "dt_hyper",
                    "dt_hyper",
                    "dt_hyper",
                    "dt_hyper",
                    "dt_hyper",
                    "dt_hyper",
                    "dt_hyper",
                    "dt_hyper",
                    "dt_hyper",
                    "SVM",
                    "SVM",
                    "SVM",
                    "SVM",
                    "SVM",
                    "SVM",
                    "SVM",
                    "SVM",
                    "SVM",
                    "SVM"
                  ],
                  "x0": " ",
                  "xaxis": "x",
                  "y": [
                    0.9173228346456693,
                    0.9111969111969112,
                    0.9074252651880425,
                    0.924901185770751,
                    0.9165829145728643,
                    0.9137931034482759,
                    0.884028484231943,
                    0.919103313840156,
                    0.9274509803921569,
                    0.9034749034749034,
                    1,
                    1,
                    1,
                    1,
                    1,
                    1,
                    1,
                    1,
                    1,
                    1,
                    0.8789370078740157,
                    0.8793436293436293,
                    0.8823529411764706,
                    0.8942687747035574,
                    0.8773869346733668,
                    0.8843813387423936,
                    0.8402848423194303,
                    0.8879142300194932,
                    0.8823529411764706,
                    0.8648648648648649,
                    1,
                    1,
                    1,
                    1,
                    1,
                    1,
                    1,
                    1,
                    1,
                    1,
                    0.7381889763779528,
                    0.7335907335907336,
                    0.7483124397299904,
                    0.6966403162055336,
                    0.7798994974874371,
                    0.845841784989858,
                    0.7761953204476093,
                    0.594541910331384,
                    0.8274509803921568,
                    0.8021235521235521
                  ],
                  "y0": " ",
                  "yaxis": "y"
                }
              ],
              "layout": {
                "boxmode": "group",
                "legend": {
                  "tracegroupgap": 0
                },
                "template": {
                  "data": {
                    "bar": [
                      {
                        "error_x": {
                          "color": "#2a3f5f"
                        },
                        "error_y": {
                          "color": "#2a3f5f"
                        },
                        "marker": {
                          "line": {
                            "color": "#E5ECF6",
                            "width": 0.5
                          },
                          "pattern": {
                            "fillmode": "overlay",
                            "size": 10,
                            "solidity": 0.2
                          }
                        },
                        "type": "bar"
                      }
                    ],
                    "barpolar": [
                      {
                        "marker": {
                          "line": {
                            "color": "#E5ECF6",
                            "width": 0.5
                          },
                          "pattern": {
                            "fillmode": "overlay",
                            "size": 10,
                            "solidity": 0.2
                          }
                        },
                        "type": "barpolar"
                      }
                    ],
                    "carpet": [
                      {
                        "aaxis": {
                          "endlinecolor": "#2a3f5f",
                          "gridcolor": "white",
                          "linecolor": "white",
                          "minorgridcolor": "white",
                          "startlinecolor": "#2a3f5f"
                        },
                        "baxis": {
                          "endlinecolor": "#2a3f5f",
                          "gridcolor": "white",
                          "linecolor": "white",
                          "minorgridcolor": "white",
                          "startlinecolor": "#2a3f5f"
                        },
                        "type": "carpet"
                      }
                    ],
                    "choropleth": [
                      {
                        "colorbar": {
                          "outlinewidth": 0,
                          "ticks": ""
                        },
                        "type": "choropleth"
                      }
                    ],
                    "contour": [
                      {
                        "colorbar": {
                          "outlinewidth": 0,
                          "ticks": ""
                        },
                        "colorscale": [
                          [
                            0,
                            "#0d0887"
                          ],
                          [
                            0.1111111111111111,
                            "#46039f"
                          ],
                          [
                            0.2222222222222222,
                            "#7201a8"
                          ],
                          [
                            0.3333333333333333,
                            "#9c179e"
                          ],
                          [
                            0.4444444444444444,
                            "#bd3786"
                          ],
                          [
                            0.5555555555555556,
                            "#d8576b"
                          ],
                          [
                            0.6666666666666666,
                            "#ed7953"
                          ],
                          [
                            0.7777777777777778,
                            "#fb9f3a"
                          ],
                          [
                            0.8888888888888888,
                            "#fdca26"
                          ],
                          [
                            1,
                            "#f0f921"
                          ]
                        ],
                        "type": "contour"
                      }
                    ],
                    "contourcarpet": [
                      {
                        "colorbar": {
                          "outlinewidth": 0,
                          "ticks": ""
                        },
                        "type": "contourcarpet"
                      }
                    ],
                    "heatmap": [
                      {
                        "colorbar": {
                          "outlinewidth": 0,
                          "ticks": ""
                        },
                        "colorscale": [
                          [
                            0,
                            "#0d0887"
                          ],
                          [
                            0.1111111111111111,
                            "#46039f"
                          ],
                          [
                            0.2222222222222222,
                            "#7201a8"
                          ],
                          [
                            0.3333333333333333,
                            "#9c179e"
                          ],
                          [
                            0.4444444444444444,
                            "#bd3786"
                          ],
                          [
                            0.5555555555555556,
                            "#d8576b"
                          ],
                          [
                            0.6666666666666666,
                            "#ed7953"
                          ],
                          [
                            0.7777777777777778,
                            "#fb9f3a"
                          ],
                          [
                            0.8888888888888888,
                            "#fdca26"
                          ],
                          [
                            1,
                            "#f0f921"
                          ]
                        ],
                        "type": "heatmap"
                      }
                    ],
                    "heatmapgl": [
                      {
                        "colorbar": {
                          "outlinewidth": 0,
                          "ticks": ""
                        },
                        "colorscale": [
                          [
                            0,
                            "#0d0887"
                          ],
                          [
                            0.1111111111111111,
                            "#46039f"
                          ],
                          [
                            0.2222222222222222,
                            "#7201a8"
                          ],
                          [
                            0.3333333333333333,
                            "#9c179e"
                          ],
                          [
                            0.4444444444444444,
                            "#bd3786"
                          ],
                          [
                            0.5555555555555556,
                            "#d8576b"
                          ],
                          [
                            0.6666666666666666,
                            "#ed7953"
                          ],
                          [
                            0.7777777777777778,
                            "#fb9f3a"
                          ],
                          [
                            0.8888888888888888,
                            "#fdca26"
                          ],
                          [
                            1,
                            "#f0f921"
                          ]
                        ],
                        "type": "heatmapgl"
                      }
                    ],
                    "histogram": [
                      {
                        "marker": {
                          "pattern": {
                            "fillmode": "overlay",
                            "size": 10,
                            "solidity": 0.2
                          }
                        },
                        "type": "histogram"
                      }
                    ],
                    "histogram2d": [
                      {
                        "colorbar": {
                          "outlinewidth": 0,
                          "ticks": ""
                        },
                        "colorscale": [
                          [
                            0,
                            "#0d0887"
                          ],
                          [
                            0.1111111111111111,
                            "#46039f"
                          ],
                          [
                            0.2222222222222222,
                            "#7201a8"
                          ],
                          [
                            0.3333333333333333,
                            "#9c179e"
                          ],
                          [
                            0.4444444444444444,
                            "#bd3786"
                          ],
                          [
                            0.5555555555555556,
                            "#d8576b"
                          ],
                          [
                            0.6666666666666666,
                            "#ed7953"
                          ],
                          [
                            0.7777777777777778,
                            "#fb9f3a"
                          ],
                          [
                            0.8888888888888888,
                            "#fdca26"
                          ],
                          [
                            1,
                            "#f0f921"
                          ]
                        ],
                        "type": "histogram2d"
                      }
                    ],
                    "histogram2dcontour": [
                      {
                        "colorbar": {
                          "outlinewidth": 0,
                          "ticks": ""
                        },
                        "colorscale": [
                          [
                            0,
                            "#0d0887"
                          ],
                          [
                            0.1111111111111111,
                            "#46039f"
                          ],
                          [
                            0.2222222222222222,
                            "#7201a8"
                          ],
                          [
                            0.3333333333333333,
                            "#9c179e"
                          ],
                          [
                            0.4444444444444444,
                            "#bd3786"
                          ],
                          [
                            0.5555555555555556,
                            "#d8576b"
                          ],
                          [
                            0.6666666666666666,
                            "#ed7953"
                          ],
                          [
                            0.7777777777777778,
                            "#fb9f3a"
                          ],
                          [
                            0.8888888888888888,
                            "#fdca26"
                          ],
                          [
                            1,
                            "#f0f921"
                          ]
                        ],
                        "type": "histogram2dcontour"
                      }
                    ],
                    "mesh3d": [
                      {
                        "colorbar": {
                          "outlinewidth": 0,
                          "ticks": ""
                        },
                        "type": "mesh3d"
                      }
                    ],
                    "parcoords": [
                      {
                        "line": {
                          "colorbar": {
                            "outlinewidth": 0,
                            "ticks": ""
                          }
                        },
                        "type": "parcoords"
                      }
                    ],
                    "pie": [
                      {
                        "automargin": true,
                        "type": "pie"
                      }
                    ],
                    "scatter": [
                      {
                        "fillpattern": {
                          "fillmode": "overlay",
                          "size": 10,
                          "solidity": 0.2
                        },
                        "type": "scatter"
                      }
                    ],
                    "scatter3d": [
                      {
                        "line": {
                          "colorbar": {
                            "outlinewidth": 0,
                            "ticks": ""
                          }
                        },
                        "marker": {
                          "colorbar": {
                            "outlinewidth": 0,
                            "ticks": ""
                          }
                        },
                        "type": "scatter3d"
                      }
                    ],
                    "scattercarpet": [
                      {
                        "marker": {
                          "colorbar": {
                            "outlinewidth": 0,
                            "ticks": ""
                          }
                        },
                        "type": "scattercarpet"
                      }
                    ],
                    "scattergeo": [
                      {
                        "marker": {
                          "colorbar": {
                            "outlinewidth": 0,
                            "ticks": ""
                          }
                        },
                        "type": "scattergeo"
                      }
                    ],
                    "scattergl": [
                      {
                        "marker": {
                          "colorbar": {
                            "outlinewidth": 0,
                            "ticks": ""
                          }
                        },
                        "type": "scattergl"
                      }
                    ],
                    "scattermapbox": [
                      {
                        "marker": {
                          "colorbar": {
                            "outlinewidth": 0,
                            "ticks": ""
                          }
                        },
                        "type": "scattermapbox"
                      }
                    ],
                    "scatterpolar": [
                      {
                        "marker": {
                          "colorbar": {
                            "outlinewidth": 0,
                            "ticks": ""
                          }
                        },
                        "type": "scatterpolar"
                      }
                    ],
                    "scatterpolargl": [
                      {
                        "marker": {
                          "colorbar": {
                            "outlinewidth": 0,
                            "ticks": ""
                          }
                        },
                        "type": "scatterpolargl"
                      }
                    ],
                    "scatterternary": [
                      {
                        "marker": {
                          "colorbar": {
                            "outlinewidth": 0,
                            "ticks": ""
                          }
                        },
                        "type": "scatterternary"
                      }
                    ],
                    "surface": [
                      {
                        "colorbar": {
                          "outlinewidth": 0,
                          "ticks": ""
                        },
                        "colorscale": [
                          [
                            0,
                            "#0d0887"
                          ],
                          [
                            0.1111111111111111,
                            "#46039f"
                          ],
                          [
                            0.2222222222222222,
                            "#7201a8"
                          ],
                          [
                            0.3333333333333333,
                            "#9c179e"
                          ],
                          [
                            0.4444444444444444,
                            "#bd3786"
                          ],
                          [
                            0.5555555555555556,
                            "#d8576b"
                          ],
                          [
                            0.6666666666666666,
                            "#ed7953"
                          ],
                          [
                            0.7777777777777778,
                            "#fb9f3a"
                          ],
                          [
                            0.8888888888888888,
                            "#fdca26"
                          ],
                          [
                            1,
                            "#f0f921"
                          ]
                        ],
                        "type": "surface"
                      }
                    ],
                    "table": [
                      {
                        "cells": {
                          "fill": {
                            "color": "#EBF0F8"
                          },
                          "line": {
                            "color": "white"
                          }
                        },
                        "header": {
                          "fill": {
                            "color": "#C8D4E3"
                          },
                          "line": {
                            "color": "white"
                          }
                        },
                        "type": "table"
                      }
                    ]
                  },
                  "layout": {
                    "annotationdefaults": {
                      "arrowcolor": "#2a3f5f",
                      "arrowhead": 0,
                      "arrowwidth": 1
                    },
                    "autotypenumbers": "strict",
                    "coloraxis": {
                      "colorbar": {
                        "outlinewidth": 0,
                        "ticks": ""
                      }
                    },
                    "colorscale": {
                      "diverging": [
                        [
                          0,
                          "#8e0152"
                        ],
                        [
                          0.1,
                          "#c51b7d"
                        ],
                        [
                          0.2,
                          "#de77ae"
                        ],
                        [
                          0.3,
                          "#f1b6da"
                        ],
                        [
                          0.4,
                          "#fde0ef"
                        ],
                        [
                          0.5,
                          "#f7f7f7"
                        ],
                        [
                          0.6,
                          "#e6f5d0"
                        ],
                        [
                          0.7,
                          "#b8e186"
                        ],
                        [
                          0.8,
                          "#7fbc41"
                        ],
                        [
                          0.9,
                          "#4d9221"
                        ],
                        [
                          1,
                          "#276419"
                        ]
                      ],
                      "sequential": [
                        [
                          0,
                          "#0d0887"
                        ],
                        [
                          0.1111111111111111,
                          "#46039f"
                        ],
                        [
                          0.2222222222222222,
                          "#7201a8"
                        ],
                        [
                          0.3333333333333333,
                          "#9c179e"
                        ],
                        [
                          0.4444444444444444,
                          "#bd3786"
                        ],
                        [
                          0.5555555555555556,
                          "#d8576b"
                        ],
                        [
                          0.6666666666666666,
                          "#ed7953"
                        ],
                        [
                          0.7777777777777778,
                          "#fb9f3a"
                        ],
                        [
                          0.8888888888888888,
                          "#fdca26"
                        ],
                        [
                          1,
                          "#f0f921"
                        ]
                      ],
                      "sequentialminus": [
                        [
                          0,
                          "#0d0887"
                        ],
                        [
                          0.1111111111111111,
                          "#46039f"
                        ],
                        [
                          0.2222222222222222,
                          "#7201a8"
                        ],
                        [
                          0.3333333333333333,
                          "#9c179e"
                        ],
                        [
                          0.4444444444444444,
                          "#bd3786"
                        ],
                        [
                          0.5555555555555556,
                          "#d8576b"
                        ],
                        [
                          0.6666666666666666,
                          "#ed7953"
                        ],
                        [
                          0.7777777777777778,
                          "#fb9f3a"
                        ],
                        [
                          0.8888888888888888,
                          "#fdca26"
                        ],
                        [
                          1,
                          "#f0f921"
                        ]
                      ]
                    },
                    "colorway": [
                      "#636efa",
                      "#EF553B",
                      "#00cc96",
                      "#ab63fa",
                      "#FFA15A",
                      "#19d3f3",
                      "#FF6692",
                      "#B6E880",
                      "#FF97FF",
                      "#FECB52"
                    ],
                    "font": {
                      "color": "#2a3f5f"
                    },
                    "geo": {
                      "bgcolor": "white",
                      "lakecolor": "white",
                      "landcolor": "#E5ECF6",
                      "showlakes": true,
                      "showland": true,
                      "subunitcolor": "white"
                    },
                    "hoverlabel": {
                      "align": "left"
                    },
                    "hovermode": "closest",
                    "mapbox": {
                      "style": "light"
                    },
                    "paper_bgcolor": "white",
                    "plot_bgcolor": "#E5ECF6",
                    "polar": {
                      "angularaxis": {
                        "gridcolor": "white",
                        "linecolor": "white",
                        "ticks": ""
                      },
                      "bgcolor": "#E5ECF6",
                      "radialaxis": {
                        "gridcolor": "white",
                        "linecolor": "white",
                        "ticks": ""
                      }
                    },
                    "scene": {
                      "xaxis": {
                        "backgroundcolor": "#E5ECF6",
                        "gridcolor": "white",
                        "gridwidth": 2,
                        "linecolor": "white",
                        "showbackground": true,
                        "ticks": "",
                        "zerolinecolor": "white"
                      },
                      "yaxis": {
                        "backgroundcolor": "#E5ECF6",
                        "gridcolor": "white",
                        "gridwidth": 2,
                        "linecolor": "white",
                        "showbackground": true,
                        "ticks": "",
                        "zerolinecolor": "white"
                      },
                      "zaxis": {
                        "backgroundcolor": "#E5ECF6",
                        "gridcolor": "white",
                        "gridwidth": 2,
                        "linecolor": "white",
                        "showbackground": true,
                        "ticks": "",
                        "zerolinecolor": "white"
                      }
                    },
                    "shapedefaults": {
                      "line": {
                        "color": "#2a3f5f"
                      }
                    },
                    "ternary": {
                      "aaxis": {
                        "gridcolor": "white",
                        "linecolor": "white",
                        "ticks": ""
                      },
                      "baxis": {
                        "gridcolor": "white",
                        "linecolor": "white",
                        "ticks": ""
                      },
                      "bgcolor": "#E5ECF6",
                      "caxis": {
                        "gridcolor": "white",
                        "linecolor": "white",
                        "ticks": ""
                      }
                    },
                    "title": {
                      "x": 0.05
                    },
                    "xaxis": {
                      "automargin": true,
                      "gridcolor": "white",
                      "linecolor": "white",
                      "ticks": "",
                      "title": {
                        "standoff": 15
                      },
                      "zerolinecolor": "white",
                      "zerolinewidth": 2
                    },
                    "yaxis": {
                      "automargin": true,
                      "gridcolor": "white",
                      "linecolor": "white",
                      "ticks": "",
                      "title": {
                        "standoff": 15
                      },
                      "zerolinecolor": "white",
                      "zerolinewidth": 2
                    }
                  }
                },
                "title": {
                  "text": "Algorithm Comparison"
                },
                "xaxis": {
                  "anchor": "y",
                  "domain": [
                    0,
                    1
                  ],
                  "title": {
                    "text": "variable"
                  }
                },
                "yaxis": {
                  "anchor": "x",
                  "domain": [
                    0,
                    1
                  ],
                  "title": {
                    "text": "value"
                  }
                }
              }
            }
          },
          "metadata": {},
          "output_type": "display_data"
        }
      ],
      "source": [
        "results_df = pd.DataFrame(results, index=names).T\n",
        "px.box(results_df,title = 'Algorithm Comparison')"
      ]
    },
    {
      "cell_type": "markdown",
      "metadata": {
        "id": "c_Der1TE5fRt"
      },
      "source": [
        "##Prueba con XTEST y yTEST"
      ]
    },
    {
      "cell_type": "code",
      "execution_count": 47,
      "metadata": {
        "colab": {
          "base_uri": "https://localhost:8080/"
        },
        "id": "Y-0IKAVGAx8N",
        "outputId": "5a51062a-3b4d-4b86-91fa-c802317d5ea3"
      },
      "outputs": [
        {
          "data": {
            "text/plain": [
              "27578    1\n",
              "16132    1\n",
              "25827    1\n",
              "4859     0\n",
              "17302    1\n",
              "        ..\n",
              "24554    1\n",
              "20416    1\n",
              "5626     0\n",
              "23928    1\n",
              "14831    0\n",
              "Name: fraudfound_p, Length: 8699, dtype: int64"
            ]
          },
          "execution_count": 47,
          "metadata": {},
          "output_type": "execute_result"
        }
      ],
      "source": [
        "y_test"
      ]
    },
    {
      "cell_type": "code",
      "execution_count": 48,
      "metadata": {
        "id": "yAhVF7sV5sri"
      },
      "outputs": [],
      "source": [
        "def imputacion(X_test):\n",
        "    for col in X_test.columns:\n",
        "        if X_test[col].dtype == 'object':\n",
        "            # Si la columna es categórica, imputar con la moda\n",
        "            X_test[col] = X_test[col].fillna(df[col].mode()[0])\n",
        "        else:\n",
        "            # Si la columna es numérica, imputar con el promedio\n",
        "            X_test[col] = X_test[col].fillna(X_test[col].mean())\n",
        "    return X_test"
      ]
    },
    {
      "cell_type": "code",
      "execution_count": 49,
      "metadata": {
        "colab": {
          "base_uri": "https://localhost:8080/",
          "height": 488
        },
        "id": "I0ZrsJ2F6RhN",
        "outputId": "3a06bad8-0c8b-46c7-a296-0371b95fc1df"
      },
      "outputs": [
        {
          "data": {
            "text/html": [
              "<div>\n",
              "<style scoped>\n",
              "    .dataframe tbody tr th:only-of-type {\n",
              "        vertical-align: middle;\n",
              "    }\n",
              "\n",
              "    .dataframe tbody tr th {\n",
              "        vertical-align: top;\n",
              "    }\n",
              "\n",
              "    .dataframe thead th {\n",
              "        text-align: right;\n",
              "    }\n",
              "</style>\n",
              "<table border=\"1\" class=\"dataframe\">\n",
              "  <thead>\n",
              "    <tr style=\"text-align: right;\">\n",
              "      <th></th>\n",
              "      <th>monthh</th>\n",
              "      <th>weekofmonth</th>\n",
              "      <th>dayofweek</th>\n",
              "      <th>make</th>\n",
              "      <th>accidentarea</th>\n",
              "      <th>dayofweekclaimed</th>\n",
              "      <th>monthclaimed</th>\n",
              "      <th>weekofmonthclaimed</th>\n",
              "      <th>sex</th>\n",
              "      <th>maritalstatus</th>\n",
              "      <th>...</th>\n",
              "      <th>ageofvehicle</th>\n",
              "      <th>ageofpolicyholder</th>\n",
              "      <th>policereportfiled</th>\n",
              "      <th>witnesspresent</th>\n",
              "      <th>agenttype</th>\n",
              "      <th>numberofsuppliments</th>\n",
              "      <th>addresschange_claim</th>\n",
              "      <th>numberofcars</th>\n",
              "      <th>yearr</th>\n",
              "      <th>basepolicy</th>\n",
              "    </tr>\n",
              "  </thead>\n",
              "  <tbody>\n",
              "    <tr>\n",
              "      <th>27578</th>\n",
              "      <td>Sep</td>\n",
              "      <td>1</td>\n",
              "      <td>Sunday</td>\n",
              "      <td>Pontiac</td>\n",
              "      <td>Urban</td>\n",
              "      <td>Thursday</td>\n",
              "      <td>Sep</td>\n",
              "      <td>2</td>\n",
              "      <td>Male</td>\n",
              "      <td>Single</td>\n",
              "      <td>...</td>\n",
              "      <td>6 years</td>\n",
              "      <td>31 to 35</td>\n",
              "      <td>0</td>\n",
              "      <td>0</td>\n",
              "      <td>External</td>\n",
              "      <td>0</td>\n",
              "      <td>no change</td>\n",
              "      <td>1 vehicle</td>\n",
              "      <td>1996</td>\n",
              "      <td>Collision</td>\n",
              "    </tr>\n",
              "    <tr>\n",
              "      <th>16132</th>\n",
              "      <td>Oct</td>\n",
              "      <td>2</td>\n",
              "      <td>Friday</td>\n",
              "      <td>Pontiac</td>\n",
              "      <td>Urban</td>\n",
              "      <td>Saturday</td>\n",
              "      <td>Oct</td>\n",
              "      <td>3</td>\n",
              "      <td>Male</td>\n",
              "      <td>Married</td>\n",
              "      <td>...</td>\n",
              "      <td>7 years</td>\n",
              "      <td>36 to 40</td>\n",
              "      <td>0</td>\n",
              "      <td>0</td>\n",
              "      <td>External</td>\n",
              "      <td>0</td>\n",
              "      <td>no change</td>\n",
              "      <td>1 vehicle</td>\n",
              "      <td>1996</td>\n",
              "      <td>Collision</td>\n",
              "    </tr>\n",
              "    <tr>\n",
              "      <th>25827</th>\n",
              "      <td>Aug</td>\n",
              "      <td>1</td>\n",
              "      <td>Friday</td>\n",
              "      <td>Chevrolet</td>\n",
              "      <td>Rural</td>\n",
              "      <td>Friday</td>\n",
              "      <td>Aug</td>\n",
              "      <td>1</td>\n",
              "      <td>Male</td>\n",
              "      <td>Single</td>\n",
              "      <td>...</td>\n",
              "      <td>more than 7</td>\n",
              "      <td>41 to 50</td>\n",
              "      <td>0</td>\n",
              "      <td>0</td>\n",
              "      <td>External</td>\n",
              "      <td>1 to 2</td>\n",
              "      <td>no change</td>\n",
              "      <td>1 vehicle</td>\n",
              "      <td>1994</td>\n",
              "      <td>Collision</td>\n",
              "    </tr>\n",
              "    <tr>\n",
              "      <th>4859</th>\n",
              "      <td>Sep</td>\n",
              "      <td>1</td>\n",
              "      <td>Monday</td>\n",
              "      <td>Honda</td>\n",
              "      <td>Rural</td>\n",
              "      <td>Tuesday</td>\n",
              "      <td>Sep</td>\n",
              "      <td>1</td>\n",
              "      <td>Male</td>\n",
              "      <td>Married</td>\n",
              "      <td>...</td>\n",
              "      <td>7 years</td>\n",
              "      <td>36 to 40</td>\n",
              "      <td>0</td>\n",
              "      <td>0</td>\n",
              "      <td>External</td>\n",
              "      <td>0</td>\n",
              "      <td>no change</td>\n",
              "      <td>1 vehicle</td>\n",
              "      <td>1994</td>\n",
              "      <td>Liability</td>\n",
              "    </tr>\n",
              "    <tr>\n",
              "      <th>17302</th>\n",
              "      <td>Feb</td>\n",
              "      <td>4</td>\n",
              "      <td>Monday</td>\n",
              "      <td>Honda</td>\n",
              "      <td>Urban</td>\n",
              "      <td>Tuesday</td>\n",
              "      <td>Feb</td>\n",
              "      <td>4</td>\n",
              "      <td>Male</td>\n",
              "      <td>Single</td>\n",
              "      <td>...</td>\n",
              "      <td>new</td>\n",
              "      <td>16 to 17</td>\n",
              "      <td>0</td>\n",
              "      <td>0</td>\n",
              "      <td>External</td>\n",
              "      <td>0</td>\n",
              "      <td>1 year</td>\n",
              "      <td>1 vehicle</td>\n",
              "      <td>1994</td>\n",
              "      <td>All Perils</td>\n",
              "    </tr>\n",
              "    <tr>\n",
              "      <th>...</th>\n",
              "      <td>...</td>\n",
              "      <td>...</td>\n",
              "      <td>...</td>\n",
              "      <td>...</td>\n",
              "      <td>...</td>\n",
              "      <td>...</td>\n",
              "      <td>...</td>\n",
              "      <td>...</td>\n",
              "      <td>...</td>\n",
              "      <td>...</td>\n",
              "      <td>...</td>\n",
              "      <td>...</td>\n",
              "      <td>...</td>\n",
              "      <td>...</td>\n",
              "      <td>...</td>\n",
              "      <td>...</td>\n",
              "      <td>...</td>\n",
              "      <td>...</td>\n",
              "      <td>...</td>\n",
              "      <td>...</td>\n",
              "      <td>...</td>\n",
              "    </tr>\n",
              "    <tr>\n",
              "      <th>24554</th>\n",
              "      <td>Apr</td>\n",
              "      <td>2</td>\n",
              "      <td>Wednesday</td>\n",
              "      <td>Mazda</td>\n",
              "      <td>Urban</td>\n",
              "      <td>Thursday</td>\n",
              "      <td>Apr</td>\n",
              "      <td>3</td>\n",
              "      <td>Male</td>\n",
              "      <td>Married</td>\n",
              "      <td>...</td>\n",
              "      <td>7 years</td>\n",
              "      <td>36 to 40</td>\n",
              "      <td>0</td>\n",
              "      <td>0</td>\n",
              "      <td>External</td>\n",
              "      <td>0</td>\n",
              "      <td>no change</td>\n",
              "      <td>1 vehicle</td>\n",
              "      <td>1996</td>\n",
              "      <td>All Perils</td>\n",
              "    </tr>\n",
              "    <tr>\n",
              "      <th>20416</th>\n",
              "      <td>Dec</td>\n",
              "      <td>4</td>\n",
              "      <td>Thursday</td>\n",
              "      <td>Chevrolet</td>\n",
              "      <td>Urban</td>\n",
              "      <td>Monday</td>\n",
              "      <td>Jan</td>\n",
              "      <td>1</td>\n",
              "      <td>Male</td>\n",
              "      <td>Married</td>\n",
              "      <td>...</td>\n",
              "      <td>7 years</td>\n",
              "      <td>31 to 35</td>\n",
              "      <td>0</td>\n",
              "      <td>0</td>\n",
              "      <td>External</td>\n",
              "      <td>0</td>\n",
              "      <td>no change</td>\n",
              "      <td>1 vehicle</td>\n",
              "      <td>1994</td>\n",
              "      <td>Collision</td>\n",
              "    </tr>\n",
              "    <tr>\n",
              "      <th>5626</th>\n",
              "      <td>Mar</td>\n",
              "      <td>4</td>\n",
              "      <td>Thursday</td>\n",
              "      <td>Toyota</td>\n",
              "      <td>Urban</td>\n",
              "      <td>Thursday</td>\n",
              "      <td>Apr</td>\n",
              "      <td>5</td>\n",
              "      <td>Male</td>\n",
              "      <td>Married</td>\n",
              "      <td>...</td>\n",
              "      <td>7 years</td>\n",
              "      <td>31 to 35</td>\n",
              "      <td>0</td>\n",
              "      <td>0</td>\n",
              "      <td>External</td>\n",
              "      <td>0</td>\n",
              "      <td>no change</td>\n",
              "      <td>1 vehicle</td>\n",
              "      <td>1996</td>\n",
              "      <td>All Perils</td>\n",
              "    </tr>\n",
              "    <tr>\n",
              "      <th>23928</th>\n",
              "      <td>Feb</td>\n",
              "      <td>2</td>\n",
              "      <td>Sunday</td>\n",
              "      <td>Mazda</td>\n",
              "      <td>Urban</td>\n",
              "      <td>Thursday</td>\n",
              "      <td>Feb</td>\n",
              "      <td>3</td>\n",
              "      <td>Male</td>\n",
              "      <td>Married</td>\n",
              "      <td>...</td>\n",
              "      <td>7 years</td>\n",
              "      <td>41 to 50</td>\n",
              "      <td>0</td>\n",
              "      <td>0</td>\n",
              "      <td>External</td>\n",
              "      <td>0</td>\n",
              "      <td>no change</td>\n",
              "      <td>1 vehicle</td>\n",
              "      <td>1994</td>\n",
              "      <td>All Perils</td>\n",
              "    </tr>\n",
              "    <tr>\n",
              "      <th>14831</th>\n",
              "      <td>May</td>\n",
              "      <td>4</td>\n",
              "      <td>Tuesday</td>\n",
              "      <td>Honda</td>\n",
              "      <td>Urban</td>\n",
              "      <td>Tuesday</td>\n",
              "      <td>May</td>\n",
              "      <td>4</td>\n",
              "      <td>Female</td>\n",
              "      <td>Single</td>\n",
              "      <td>...</td>\n",
              "      <td>6 years</td>\n",
              "      <td>31 to 35</td>\n",
              "      <td>0</td>\n",
              "      <td>0</td>\n",
              "      <td>External</td>\n",
              "      <td>0</td>\n",
              "      <td>no change</td>\n",
              "      <td>1 vehicle</td>\n",
              "      <td>1996</td>\n",
              "      <td>Liability</td>\n",
              "    </tr>\n",
              "  </tbody>\n",
              "</table>\n",
              "<p>8699 rows × 31 columns</p>\n",
              "</div>"
            ],
            "text/plain": [
              "      monthh  weekofmonth  dayofweek       make accidentarea dayofweekclaimed  \\\n",
              "27578    Sep            1     Sunday    Pontiac        Urban         Thursday   \n",
              "16132    Oct            2     Friday    Pontiac        Urban         Saturday   \n",
              "25827    Aug            1     Friday  Chevrolet        Rural           Friday   \n",
              "4859     Sep            1     Monday      Honda        Rural          Tuesday   \n",
              "17302    Feb            4     Monday      Honda        Urban          Tuesday   \n",
              "...      ...          ...        ...        ...          ...              ...   \n",
              "24554    Apr            2  Wednesday      Mazda        Urban         Thursday   \n",
              "20416    Dec            4   Thursday  Chevrolet        Urban           Monday   \n",
              "5626     Mar            4   Thursday     Toyota        Urban         Thursday   \n",
              "23928    Feb            2     Sunday      Mazda        Urban         Thursday   \n",
              "14831    May            4    Tuesday      Honda        Urban          Tuesday   \n",
              "\n",
              "      monthclaimed  weekofmonthclaimed     sex maritalstatus  ...  \\\n",
              "27578          Sep                   2    Male        Single  ...   \n",
              "16132          Oct                   3    Male       Married  ...   \n",
              "25827          Aug                   1    Male        Single  ...   \n",
              "4859           Sep                   1    Male       Married  ...   \n",
              "17302          Feb                   4    Male        Single  ...   \n",
              "...            ...                 ...     ...           ...  ...   \n",
              "24554          Apr                   3    Male       Married  ...   \n",
              "20416          Jan                   1    Male       Married  ...   \n",
              "5626           Apr                   5    Male       Married  ...   \n",
              "23928          Feb                   3    Male       Married  ...   \n",
              "14831          May                   4  Female        Single  ...   \n",
              "\n",
              "       ageofvehicle ageofpolicyholder policereportfiled witnesspresent  \\\n",
              "27578       6 years          31 to 35                 0              0   \n",
              "16132       7 years          36 to 40                 0              0   \n",
              "25827   more than 7          41 to 50                 0              0   \n",
              "4859        7 years          36 to 40                 0              0   \n",
              "17302           new          16 to 17                 0              0   \n",
              "...             ...               ...               ...            ...   \n",
              "24554       7 years          36 to 40                 0              0   \n",
              "20416       7 years          31 to 35                 0              0   \n",
              "5626        7 years          31 to 35                 0              0   \n",
              "23928       7 years          41 to 50                 0              0   \n",
              "14831       6 years          31 to 35                 0              0   \n",
              "\n",
              "      agenttype  numberofsuppliments  addresschange_claim  numberofcars yearr  \\\n",
              "27578  External                    0            no change     1 vehicle  1996   \n",
              "16132  External                    0            no change     1 vehicle  1996   \n",
              "25827  External               1 to 2            no change     1 vehicle  1994   \n",
              "4859   External                    0            no change     1 vehicle  1994   \n",
              "17302  External                    0               1 year     1 vehicle  1994   \n",
              "...         ...                  ...                  ...           ...   ...   \n",
              "24554  External                    0            no change     1 vehicle  1996   \n",
              "20416  External                    0            no change     1 vehicle  1994   \n",
              "5626   External                    0            no change     1 vehicle  1996   \n",
              "23928  External                    0            no change     1 vehicle  1994   \n",
              "14831  External                    0            no change     1 vehicle  1996   \n",
              "\n",
              "       basepolicy  \n",
              "27578   Collision  \n",
              "16132   Collision  \n",
              "25827   Collision  \n",
              "4859    Liability  \n",
              "17302  All Perils  \n",
              "...           ...  \n",
              "24554  All Perils  \n",
              "20416   Collision  \n",
              "5626   All Perils  \n",
              "23928  All Perils  \n",
              "14831   Liability  \n",
              "\n",
              "[8699 rows x 31 columns]"
            ]
          },
          "execution_count": 49,
          "metadata": {},
          "output_type": "execute_result"
        }
      ],
      "source": [
        "X_test = imputacion(X_test)\n",
        "X_test"
      ]
    },
    {
      "cell_type": "code",
      "execution_count": 50,
      "metadata": {
        "colab": {
          "base_uri": "https://localhost:8080/"
        },
        "id": "A1aTTMaO6dac",
        "outputId": "c6029524-dbe0-4c58-c202-0f472aeebb40"
      },
      "outputs": [
        {
          "data": {
            "text/plain": [
              "monthh                  12\n",
              "weekofmonth              5\n",
              "dayofweek                7\n",
              "make                    18\n",
              "accidentarea             2\n",
              "dayofweekclaimed         7\n",
              "monthclaimed            12\n",
              "weekofmonthclaimed       5\n",
              "sex                      2\n",
              "maritalstatus            4\n",
              "age                     66\n",
              "fault                    2\n",
              "policytype               8\n",
              "vehiclecategory          3\n",
              "vehicleprice             6\n",
              "repnumber               16\n",
              "deductible               4\n",
              "driverrating             4\n",
              "days_policy_accident     5\n",
              "days_policy_claim        3\n",
              "pastnumberofclaims       4\n",
              "ageofvehicle             8\n",
              "ageofpolicyholder        9\n",
              "policereportfiled        2\n",
              "witnesspresent           2\n",
              "agenttype                2\n",
              "numberofsuppliments      4\n",
              "addresschange_claim      5\n",
              "numberofcars             4\n",
              "yearr                    3\n",
              "basepolicy               3\n",
              "dtype: int64"
            ]
          },
          "execution_count": 50,
          "metadata": {},
          "output_type": "execute_result"
        }
      ],
      "source": [
        "X_test.nunique()\n"
      ]
    },
    {
      "cell_type": "code",
      "execution_count": 51,
      "metadata": {
        "colab": {
          "base_uri": "https://localhost:8080/"
        },
        "id": "gUmeEPa-6k2v",
        "outputId": "587af073-251e-4dd8-c701-fd32ad8f3737"
      },
      "outputs": [
        {
          "data": {
            "text/plain": [
              "monthh                  False\n",
              "weekofmonth             False\n",
              "dayofweek               False\n",
              "make                    False\n",
              "accidentarea            False\n",
              "dayofweekclaimed        False\n",
              "monthclaimed            False\n",
              "weekofmonthclaimed      False\n",
              "sex                     False\n",
              "maritalstatus           False\n",
              "age                     False\n",
              "fault                   False\n",
              "policytype              False\n",
              "vehiclecategory         False\n",
              "vehicleprice            False\n",
              "repnumber               False\n",
              "deductible              False\n",
              "driverrating            False\n",
              "days_policy_accident    False\n",
              "days_policy_claim       False\n",
              "pastnumberofclaims      False\n",
              "ageofvehicle            False\n",
              "ageofpolicyholder       False\n",
              "policereportfiled       False\n",
              "witnesspresent          False\n",
              "agenttype               False\n",
              "numberofsuppliments     False\n",
              "addresschange_claim     False\n",
              "numberofcars            False\n",
              "yearr                   False\n",
              "basepolicy              False\n",
              "dtype: bool"
            ]
          },
          "execution_count": 51,
          "metadata": {},
          "output_type": "execute_result"
        }
      ],
      "source": [
        "X_test.isnull().any()"
      ]
    },
    {
      "cell_type": "code",
      "execution_count": 52,
      "metadata": {
        "id": "lBHbxWhk6rXp"
      },
      "outputs": [],
      "source": [
        "X_test['weekofmonth'] = X_test['weekofmonth'].astype(object)\n",
        "X_test['weekofmonthclaimed'] = X_test['weekofmonthclaimed'].astype(object)\n",
        "X_test['repnumber'] = X_test['repnumber'].astype(object)\n",
        "X_test['deductible'] = X_test['deductible'].astype(object)\n",
        "X_test['driverrating'] = X_test['driverrating'].astype(object)\n",
        "X_test['policereportfiled'] = X_test['policereportfiled'].astype(object)\n",
        "X_test['witnesspresent'] = X_test['witnesspresent'].astype(object)\n",
        "X_test['yearr'] = X_test['yearr'].astype(object)"
      ]
    },
    {
      "cell_type": "code",
      "execution_count": 53,
      "metadata": {
        "colab": {
          "base_uri": "https://localhost:8080/"
        },
        "id": "C-MIzulm6nOm",
        "outputId": "b38cb9d6-5665-4fc1-fc1e-ba35aa534574"
      },
      "outputs": [
        {
          "data": {
            "text/plain": [
              "monthh                   object\n",
              "weekofmonth              object\n",
              "dayofweek                object\n",
              "make                     object\n",
              "accidentarea             object\n",
              "dayofweekclaimed         object\n",
              "monthclaimed             object\n",
              "weekofmonthclaimed       object\n",
              "sex                      object\n",
              "maritalstatus            object\n",
              "age                     float64\n",
              "fault                    object\n",
              "policytype               object\n",
              "vehiclecategory          object\n",
              "vehicleprice             object\n",
              "repnumber                object\n",
              "deductible               object\n",
              "driverrating             object\n",
              "days_policy_accident     object\n",
              "days_policy_claim        object\n",
              "pastnumberofclaims       object\n",
              "ageofvehicle             object\n",
              "ageofpolicyholder        object\n",
              "policereportfiled        object\n",
              "witnesspresent           object\n",
              "agenttype                object\n",
              "numberofsuppliments      object\n",
              "addresschange_claim      object\n",
              "numberofcars             object\n",
              "yearr                    object\n",
              "basepolicy               object\n",
              "dtype: object"
            ]
          },
          "execution_count": 53,
          "metadata": {},
          "output_type": "execute_result"
        }
      ],
      "source": [
        "X_test.dtypes"
      ]
    },
    {
      "cell_type": "code",
      "execution_count": 54,
      "metadata": {
        "id": "hHwOtMFz672H"
      },
      "outputs": [],
      "source": [
        "categorical_features = X_test.select_dtypes(include=\"object\").columns.tolist()\n",
        "numeric_features = X_test.select_dtypes(include='float64').columns.tolist()"
      ]
    },
    {
      "cell_type": "code",
      "execution_count": 55,
      "metadata": {
        "colab": {
          "base_uri": "https://localhost:8080/"
        },
        "id": "tkLvyzGP7CJ2",
        "outputId": "d770d5f5-1777-4c03-9e3b-a9e59da20998"
      },
      "outputs": [
        {
          "data": {
            "text/plain": [
              "['monthh',\n",
              " 'weekofmonth',\n",
              " 'dayofweek',\n",
              " 'make',\n",
              " 'accidentarea',\n",
              " 'dayofweekclaimed',\n",
              " 'monthclaimed',\n",
              " 'weekofmonthclaimed',\n",
              " 'sex',\n",
              " 'maritalstatus',\n",
              " 'fault',\n",
              " 'policytype',\n",
              " 'vehiclecategory',\n",
              " 'vehicleprice',\n",
              " 'repnumber',\n",
              " 'deductible',\n",
              " 'driverrating',\n",
              " 'days_policy_accident',\n",
              " 'days_policy_claim',\n",
              " 'pastnumberofclaims',\n",
              " 'ageofvehicle',\n",
              " 'ageofpolicyholder',\n",
              " 'policereportfiled',\n",
              " 'witnesspresent',\n",
              " 'agenttype',\n",
              " 'numberofsuppliments',\n",
              " 'addresschange_claim',\n",
              " 'numberofcars',\n",
              " 'yearr',\n",
              " 'basepolicy']"
            ]
          },
          "execution_count": 55,
          "metadata": {},
          "output_type": "execute_result"
        }
      ],
      "source": [
        "categorical_features"
      ]
    },
    {
      "cell_type": "code",
      "execution_count": 56,
      "metadata": {
        "colab": {
          "base_uri": "https://localhost:8080/"
        },
        "id": "r8ZUB2QX7DHF",
        "outputId": "c846c570-86c9-4873-b1bb-911730a0d682"
      },
      "outputs": [
        {
          "data": {
            "text/plain": [
              "['age']"
            ]
          },
          "execution_count": 56,
          "metadata": {},
          "output_type": "execute_result"
        }
      ],
      "source": [
        "numeric_features"
      ]
    },
    {
      "cell_type": "markdown",
      "metadata": {},
      "source": [
        "Aplicando una codificacion a las columna para el entrenamiento de los modelos. En ete caso se usa la funcion getdummies de pandas para codificar en numeros las variables categoricas."
      ]
    },
    {
      "cell_type": "code",
      "execution_count": 57,
      "metadata": {
        "colab": {
          "base_uri": "https://localhost:8080/"
        },
        "id": "ITnnI3Lm7FJJ",
        "outputId": "f1fc7c2c-f225-4d98-8cac-cd3b6df29882"
      },
      "outputs": [],
      "source": [
        "# Convertir las columnas categóricas a tipo de datos categóricos y asignarles los valores originales\n",
        "for col in categorical_features:\n",
        "    X_test[col] = pd.Categorical(X_test[col])\n",
        "\n",
        "# Codificar las columnas categóricas utilizando pd.get_dummies\n",
        "encoded_cols_df = pd.get_dummies(X_test[categorical_features], columns= categorical_features)\n",
        "\n",
        "# Reemplazar las columnas originales con las nuevas columnas codificadas en el DataFrame\n",
        "X_test_encoded = pd.concat([X_test.drop(categorical_features, axis=1), encoded_cols_df], axis=1)"
      ]
    },
    {
      "cell_type": "code",
      "execution_count": 58,
      "metadata": {
        "colab": {
          "base_uri": "https://localhost:8080/",
          "height": 505
        },
        "id": "DZQnEvSO7Px3",
        "outputId": "bec2f6f9-89b1-4a93-f800-0b14b008af86"
      },
      "outputs": [
        {
          "data": {
            "text/html": [
              "<div>\n",
              "<style scoped>\n",
              "    .dataframe tbody tr th:only-of-type {\n",
              "        vertical-align: middle;\n",
              "    }\n",
              "\n",
              "    .dataframe tbody tr th {\n",
              "        vertical-align: top;\n",
              "    }\n",
              "\n",
              "    .dataframe thead th {\n",
              "        text-align: right;\n",
              "    }\n",
              "</style>\n",
              "<table border=\"1\" class=\"dataframe\">\n",
              "  <thead>\n",
              "    <tr style=\"text-align: right;\">\n",
              "      <th></th>\n",
              "      <th>age</th>\n",
              "      <th>monthh_Apr</th>\n",
              "      <th>monthh_Aug</th>\n",
              "      <th>monthh_Dec</th>\n",
              "      <th>monthh_Feb</th>\n",
              "      <th>monthh_Jan</th>\n",
              "      <th>monthh_Jul</th>\n",
              "      <th>monthh_Jun</th>\n",
              "      <th>monthh_Mar</th>\n",
              "      <th>monthh_May</th>\n",
              "      <th>...</th>\n",
              "      <th>numberofcars_1 vehicle</th>\n",
              "      <th>numberofcars_2 vehicles</th>\n",
              "      <th>numberofcars_3 to 4</th>\n",
              "      <th>numberofcars_5 to 8</th>\n",
              "      <th>yearr_1994</th>\n",
              "      <th>yearr_1995</th>\n",
              "      <th>yearr_1996</th>\n",
              "      <th>basepolicy_All Perils</th>\n",
              "      <th>basepolicy_Collision</th>\n",
              "      <th>basepolicy_Liability</th>\n",
              "    </tr>\n",
              "  </thead>\n",
              "  <tbody>\n",
              "    <tr>\n",
              "      <th>27578</th>\n",
              "      <td>28.000000</td>\n",
              "      <td>False</td>\n",
              "      <td>False</td>\n",
              "      <td>False</td>\n",
              "      <td>False</td>\n",
              "      <td>False</td>\n",
              "      <td>False</td>\n",
              "      <td>False</td>\n",
              "      <td>False</td>\n",
              "      <td>False</td>\n",
              "      <td>...</td>\n",
              "      <td>True</td>\n",
              "      <td>False</td>\n",
              "      <td>False</td>\n",
              "      <td>False</td>\n",
              "      <td>False</td>\n",
              "      <td>False</td>\n",
              "      <td>True</td>\n",
              "      <td>False</td>\n",
              "      <td>True</td>\n",
              "      <td>False</td>\n",
              "    </tr>\n",
              "    <tr>\n",
              "      <th>16132</th>\n",
              "      <td>44.000000</td>\n",
              "      <td>False</td>\n",
              "      <td>False</td>\n",
              "      <td>False</td>\n",
              "      <td>False</td>\n",
              "      <td>False</td>\n",
              "      <td>False</td>\n",
              "      <td>False</td>\n",
              "      <td>False</td>\n",
              "      <td>False</td>\n",
              "      <td>...</td>\n",
              "      <td>True</td>\n",
              "      <td>False</td>\n",
              "      <td>False</td>\n",
              "      <td>False</td>\n",
              "      <td>False</td>\n",
              "      <td>False</td>\n",
              "      <td>True</td>\n",
              "      <td>False</td>\n",
              "      <td>True</td>\n",
              "      <td>False</td>\n",
              "    </tr>\n",
              "    <tr>\n",
              "      <th>25827</th>\n",
              "      <td>47.000000</td>\n",
              "      <td>False</td>\n",
              "      <td>True</td>\n",
              "      <td>False</td>\n",
              "      <td>False</td>\n",
              "      <td>False</td>\n",
              "      <td>False</td>\n",
              "      <td>False</td>\n",
              "      <td>False</td>\n",
              "      <td>False</td>\n",
              "      <td>...</td>\n",
              "      <td>True</td>\n",
              "      <td>False</td>\n",
              "      <td>False</td>\n",
              "      <td>False</td>\n",
              "      <td>True</td>\n",
              "      <td>False</td>\n",
              "      <td>False</td>\n",
              "      <td>False</td>\n",
              "      <td>True</td>\n",
              "      <td>False</td>\n",
              "    </tr>\n",
              "    <tr>\n",
              "      <th>4859</th>\n",
              "      <td>41.000000</td>\n",
              "      <td>False</td>\n",
              "      <td>False</td>\n",
              "      <td>False</td>\n",
              "      <td>False</td>\n",
              "      <td>False</td>\n",
              "      <td>False</td>\n",
              "      <td>False</td>\n",
              "      <td>False</td>\n",
              "      <td>False</td>\n",
              "      <td>...</td>\n",
              "      <td>True</td>\n",
              "      <td>False</td>\n",
              "      <td>False</td>\n",
              "      <td>False</td>\n",
              "      <td>True</td>\n",
              "      <td>False</td>\n",
              "      <td>False</td>\n",
              "      <td>False</td>\n",
              "      <td>False</td>\n",
              "      <td>True</td>\n",
              "    </tr>\n",
              "    <tr>\n",
              "      <th>17302</th>\n",
              "      <td>40.149049</td>\n",
              "      <td>False</td>\n",
              "      <td>False</td>\n",
              "      <td>False</td>\n",
              "      <td>True</td>\n",
              "      <td>False</td>\n",
              "      <td>False</td>\n",
              "      <td>False</td>\n",
              "      <td>False</td>\n",
              "      <td>False</td>\n",
              "      <td>...</td>\n",
              "      <td>True</td>\n",
              "      <td>False</td>\n",
              "      <td>False</td>\n",
              "      <td>False</td>\n",
              "      <td>True</td>\n",
              "      <td>False</td>\n",
              "      <td>False</td>\n",
              "      <td>True</td>\n",
              "      <td>False</td>\n",
              "      <td>False</td>\n",
              "    </tr>\n",
              "    <tr>\n",
              "      <th>...</th>\n",
              "      <td>...</td>\n",
              "      <td>...</td>\n",
              "      <td>...</td>\n",
              "      <td>...</td>\n",
              "      <td>...</td>\n",
              "      <td>...</td>\n",
              "      <td>...</td>\n",
              "      <td>...</td>\n",
              "      <td>...</td>\n",
              "      <td>...</td>\n",
              "      <td>...</td>\n",
              "      <td>...</td>\n",
              "      <td>...</td>\n",
              "      <td>...</td>\n",
              "      <td>...</td>\n",
              "      <td>...</td>\n",
              "      <td>...</td>\n",
              "      <td>...</td>\n",
              "      <td>...</td>\n",
              "      <td>...</td>\n",
              "      <td>...</td>\n",
              "    </tr>\n",
              "    <tr>\n",
              "      <th>24554</th>\n",
              "      <td>43.000000</td>\n",
              "      <td>True</td>\n",
              "      <td>False</td>\n",
              "      <td>False</td>\n",
              "      <td>False</td>\n",
              "      <td>False</td>\n",
              "      <td>False</td>\n",
              "      <td>False</td>\n",
              "      <td>False</td>\n",
              "      <td>False</td>\n",
              "      <td>...</td>\n",
              "      <td>True</td>\n",
              "      <td>False</td>\n",
              "      <td>False</td>\n",
              "      <td>False</td>\n",
              "      <td>False</td>\n",
              "      <td>False</td>\n",
              "      <td>True</td>\n",
              "      <td>True</td>\n",
              "      <td>False</td>\n",
              "      <td>False</td>\n",
              "    </tr>\n",
              "    <tr>\n",
              "      <th>20416</th>\n",
              "      <td>26.000000</td>\n",
              "      <td>False</td>\n",
              "      <td>False</td>\n",
              "      <td>True</td>\n",
              "      <td>False</td>\n",
              "      <td>False</td>\n",
              "      <td>False</td>\n",
              "      <td>False</td>\n",
              "      <td>False</td>\n",
              "      <td>False</td>\n",
              "      <td>...</td>\n",
              "      <td>True</td>\n",
              "      <td>False</td>\n",
              "      <td>False</td>\n",
              "      <td>False</td>\n",
              "      <td>True</td>\n",
              "      <td>False</td>\n",
              "      <td>False</td>\n",
              "      <td>False</td>\n",
              "      <td>True</td>\n",
              "      <td>False</td>\n",
              "    </tr>\n",
              "    <tr>\n",
              "      <th>5626</th>\n",
              "      <td>33.000000</td>\n",
              "      <td>False</td>\n",
              "      <td>False</td>\n",
              "      <td>False</td>\n",
              "      <td>False</td>\n",
              "      <td>False</td>\n",
              "      <td>False</td>\n",
              "      <td>False</td>\n",
              "      <td>True</td>\n",
              "      <td>False</td>\n",
              "      <td>...</td>\n",
              "      <td>True</td>\n",
              "      <td>False</td>\n",
              "      <td>False</td>\n",
              "      <td>False</td>\n",
              "      <td>False</td>\n",
              "      <td>False</td>\n",
              "      <td>True</td>\n",
              "      <td>True</td>\n",
              "      <td>False</td>\n",
              "      <td>False</td>\n",
              "    </tr>\n",
              "    <tr>\n",
              "      <th>23928</th>\n",
              "      <td>52.000000</td>\n",
              "      <td>False</td>\n",
              "      <td>False</td>\n",
              "      <td>False</td>\n",
              "      <td>True</td>\n",
              "      <td>False</td>\n",
              "      <td>False</td>\n",
              "      <td>False</td>\n",
              "      <td>False</td>\n",
              "      <td>False</td>\n",
              "      <td>...</td>\n",
              "      <td>True</td>\n",
              "      <td>False</td>\n",
              "      <td>False</td>\n",
              "      <td>False</td>\n",
              "      <td>True</td>\n",
              "      <td>False</td>\n",
              "      <td>False</td>\n",
              "      <td>True</td>\n",
              "      <td>False</td>\n",
              "      <td>False</td>\n",
              "    </tr>\n",
              "    <tr>\n",
              "      <th>14831</th>\n",
              "      <td>26.000000</td>\n",
              "      <td>False</td>\n",
              "      <td>False</td>\n",
              "      <td>False</td>\n",
              "      <td>False</td>\n",
              "      <td>False</td>\n",
              "      <td>False</td>\n",
              "      <td>False</td>\n",
              "      <td>False</td>\n",
              "      <td>True</td>\n",
              "      <td>...</td>\n",
              "      <td>True</td>\n",
              "      <td>False</td>\n",
              "      <td>False</td>\n",
              "      <td>False</td>\n",
              "      <td>False</td>\n",
              "      <td>False</td>\n",
              "      <td>True</td>\n",
              "      <td>False</td>\n",
              "      <td>False</td>\n",
              "      <td>True</td>\n",
              "    </tr>\n",
              "  </tbody>\n",
              "</table>\n",
              "<p>8699 rows × 172 columns</p>\n",
              "</div>"
            ],
            "text/plain": [
              "             age  monthh_Apr  monthh_Aug  monthh_Dec  monthh_Feb  monthh_Jan  \\\n",
              "27578  28.000000       False       False       False       False       False   \n",
              "16132  44.000000       False       False       False       False       False   \n",
              "25827  47.000000       False        True       False       False       False   \n",
              "4859   41.000000       False       False       False       False       False   \n",
              "17302  40.149049       False       False       False        True       False   \n",
              "...          ...         ...         ...         ...         ...         ...   \n",
              "24554  43.000000        True       False       False       False       False   \n",
              "20416  26.000000       False       False        True       False       False   \n",
              "5626   33.000000       False       False       False       False       False   \n",
              "23928  52.000000       False       False       False        True       False   \n",
              "14831  26.000000       False       False       False       False       False   \n",
              "\n",
              "       monthh_Jul  monthh_Jun  monthh_Mar  monthh_May  ...  \\\n",
              "27578       False       False       False       False  ...   \n",
              "16132       False       False       False       False  ...   \n",
              "25827       False       False       False       False  ...   \n",
              "4859        False       False       False       False  ...   \n",
              "17302       False       False       False       False  ...   \n",
              "...           ...         ...         ...         ...  ...   \n",
              "24554       False       False       False       False  ...   \n",
              "20416       False       False       False       False  ...   \n",
              "5626        False       False        True       False  ...   \n",
              "23928       False       False       False       False  ...   \n",
              "14831       False       False       False        True  ...   \n",
              "\n",
              "       numberofcars_1 vehicle  numberofcars_2 vehicles  numberofcars_3 to 4  \\\n",
              "27578                    True                    False                False   \n",
              "16132                    True                    False                False   \n",
              "25827                    True                    False                False   \n",
              "4859                     True                    False                False   \n",
              "17302                    True                    False                False   \n",
              "...                       ...                      ...                  ...   \n",
              "24554                    True                    False                False   \n",
              "20416                    True                    False                False   \n",
              "5626                     True                    False                False   \n",
              "23928                    True                    False                False   \n",
              "14831                    True                    False                False   \n",
              "\n",
              "       numberofcars_5 to 8  yearr_1994  yearr_1995  yearr_1996  \\\n",
              "27578                False       False       False        True   \n",
              "16132                False       False       False        True   \n",
              "25827                False        True       False       False   \n",
              "4859                 False        True       False       False   \n",
              "17302                False        True       False       False   \n",
              "...                    ...         ...         ...         ...   \n",
              "24554                False       False       False        True   \n",
              "20416                False        True       False       False   \n",
              "5626                 False       False       False        True   \n",
              "23928                False        True       False       False   \n",
              "14831                False       False       False        True   \n",
              "\n",
              "       basepolicy_All Perils  basepolicy_Collision  basepolicy_Liability  \n",
              "27578                  False                  True                 False  \n",
              "16132                  False                  True                 False  \n",
              "25827                  False                  True                 False  \n",
              "4859                   False                 False                  True  \n",
              "17302                   True                 False                 False  \n",
              "...                      ...                   ...                   ...  \n",
              "24554                   True                 False                 False  \n",
              "20416                  False                  True                 False  \n",
              "5626                    True                 False                 False  \n",
              "23928                   True                 False                 False  \n",
              "14831                  False                 False                  True  \n",
              "\n",
              "[8699 rows x 172 columns]"
            ]
          },
          "execution_count": 58,
          "metadata": {},
          "output_type": "execute_result"
        }
      ],
      "source": [
        "X_test_encoded"
      ]
    },
    {
      "cell_type": "markdown",
      "metadata": {},
      "source": [
        "Mostrando el dataset despues de codificar las variables necesarias y obtener las dummies."
      ]
    },
    {
      "cell_type": "code",
      "execution_count": 59,
      "metadata": {
        "colab": {
          "base_uri": "https://localhost:8080/",
          "height": 505
        },
        "id": "UWknI1j_7fiJ",
        "outputId": "cd9d35df-3876-4890-8aa9-7da1d65aefee"
      },
      "outputs": [
        {
          "data": {
            "text/html": [
              "<div>\n",
              "<style scoped>\n",
              "    .dataframe tbody tr th:only-of-type {\n",
              "        vertical-align: middle;\n",
              "    }\n",
              "\n",
              "    .dataframe tbody tr th {\n",
              "        vertical-align: top;\n",
              "    }\n",
              "\n",
              "    .dataframe thead th {\n",
              "        text-align: right;\n",
              "    }\n",
              "</style>\n",
              "<table border=\"1\" class=\"dataframe\">\n",
              "  <thead>\n",
              "    <tr style=\"text-align: right;\">\n",
              "      <th></th>\n",
              "      <th>age</th>\n",
              "      <th>monthh_Apr</th>\n",
              "      <th>monthh_Aug</th>\n",
              "      <th>monthh_Dec</th>\n",
              "      <th>monthh_Feb</th>\n",
              "      <th>monthh_Jan</th>\n",
              "      <th>monthh_Jul</th>\n",
              "      <th>monthh_Jun</th>\n",
              "      <th>monthh_Mar</th>\n",
              "      <th>monthh_May</th>\n",
              "      <th>...</th>\n",
              "      <th>numberofcars_1 vehicle</th>\n",
              "      <th>numberofcars_2 vehicles</th>\n",
              "      <th>numberofcars_3 to 4</th>\n",
              "      <th>numberofcars_5 to 8</th>\n",
              "      <th>yearr_1994</th>\n",
              "      <th>yearr_1995</th>\n",
              "      <th>yearr_1996</th>\n",
              "      <th>basepolicy_All Perils</th>\n",
              "      <th>basepolicy_Collision</th>\n",
              "      <th>basepolicy_Liability</th>\n",
              "    </tr>\n",
              "  </thead>\n",
              "  <tbody>\n",
              "    <tr>\n",
              "      <th>27578</th>\n",
              "      <td>-1.011662e+00</td>\n",
              "      <td>False</td>\n",
              "      <td>False</td>\n",
              "      <td>False</td>\n",
              "      <td>False</td>\n",
              "      <td>False</td>\n",
              "      <td>False</td>\n",
              "      <td>False</td>\n",
              "      <td>False</td>\n",
              "      <td>False</td>\n",
              "      <td>...</td>\n",
              "      <td>True</td>\n",
              "      <td>False</td>\n",
              "      <td>False</td>\n",
              "      <td>False</td>\n",
              "      <td>False</td>\n",
              "      <td>False</td>\n",
              "      <td>True</td>\n",
              "      <td>False</td>\n",
              "      <td>True</td>\n",
              "      <td>False</td>\n",
              "    </tr>\n",
              "    <tr>\n",
              "      <th>16132</th>\n",
              "      <td>3.206720e-01</td>\n",
              "      <td>False</td>\n",
              "      <td>False</td>\n",
              "      <td>False</td>\n",
              "      <td>False</td>\n",
              "      <td>False</td>\n",
              "      <td>False</td>\n",
              "      <td>False</td>\n",
              "      <td>False</td>\n",
              "      <td>False</td>\n",
              "      <td>...</td>\n",
              "      <td>True</td>\n",
              "      <td>False</td>\n",
              "      <td>False</td>\n",
              "      <td>False</td>\n",
              "      <td>False</td>\n",
              "      <td>False</td>\n",
              "      <td>True</td>\n",
              "      <td>False</td>\n",
              "      <td>True</td>\n",
              "      <td>False</td>\n",
              "    </tr>\n",
              "    <tr>\n",
              "      <th>25827</th>\n",
              "      <td>5.704847e-01</td>\n",
              "      <td>False</td>\n",
              "      <td>True</td>\n",
              "      <td>False</td>\n",
              "      <td>False</td>\n",
              "      <td>False</td>\n",
              "      <td>False</td>\n",
              "      <td>False</td>\n",
              "      <td>False</td>\n",
              "      <td>False</td>\n",
              "      <td>...</td>\n",
              "      <td>True</td>\n",
              "      <td>False</td>\n",
              "      <td>False</td>\n",
              "      <td>False</td>\n",
              "      <td>True</td>\n",
              "      <td>False</td>\n",
              "      <td>False</td>\n",
              "      <td>False</td>\n",
              "      <td>True</td>\n",
              "      <td>False</td>\n",
              "    </tr>\n",
              "    <tr>\n",
              "      <th>4859</th>\n",
              "      <td>7.085941e-02</td>\n",
              "      <td>False</td>\n",
              "      <td>False</td>\n",
              "      <td>False</td>\n",
              "      <td>False</td>\n",
              "      <td>False</td>\n",
              "      <td>False</td>\n",
              "      <td>False</td>\n",
              "      <td>False</td>\n",
              "      <td>False</td>\n",
              "      <td>...</td>\n",
              "      <td>True</td>\n",
              "      <td>False</td>\n",
              "      <td>False</td>\n",
              "      <td>False</td>\n",
              "      <td>True</td>\n",
              "      <td>False</td>\n",
              "      <td>False</td>\n",
              "      <td>False</td>\n",
              "      <td>False</td>\n",
              "      <td>True</td>\n",
              "    </tr>\n",
              "    <tr>\n",
              "      <th>17302</th>\n",
              "      <td>5.916751e-16</td>\n",
              "      <td>False</td>\n",
              "      <td>False</td>\n",
              "      <td>False</td>\n",
              "      <td>True</td>\n",
              "      <td>False</td>\n",
              "      <td>False</td>\n",
              "      <td>False</td>\n",
              "      <td>False</td>\n",
              "      <td>False</td>\n",
              "      <td>...</td>\n",
              "      <td>True</td>\n",
              "      <td>False</td>\n",
              "      <td>False</td>\n",
              "      <td>False</td>\n",
              "      <td>True</td>\n",
              "      <td>False</td>\n",
              "      <td>False</td>\n",
              "      <td>True</td>\n",
              "      <td>False</td>\n",
              "      <td>False</td>\n",
              "    </tr>\n",
              "    <tr>\n",
              "      <th>...</th>\n",
              "      <td>...</td>\n",
              "      <td>...</td>\n",
              "      <td>...</td>\n",
              "      <td>...</td>\n",
              "      <td>...</td>\n",
              "      <td>...</td>\n",
              "      <td>...</td>\n",
              "      <td>...</td>\n",
              "      <td>...</td>\n",
              "      <td>...</td>\n",
              "      <td>...</td>\n",
              "      <td>...</td>\n",
              "      <td>...</td>\n",
              "      <td>...</td>\n",
              "      <td>...</td>\n",
              "      <td>...</td>\n",
              "      <td>...</td>\n",
              "      <td>...</td>\n",
              "      <td>...</td>\n",
              "      <td>...</td>\n",
              "      <td>...</td>\n",
              "    </tr>\n",
              "    <tr>\n",
              "      <th>24554</th>\n",
              "      <td>2.374012e-01</td>\n",
              "      <td>True</td>\n",
              "      <td>False</td>\n",
              "      <td>False</td>\n",
              "      <td>False</td>\n",
              "      <td>False</td>\n",
              "      <td>False</td>\n",
              "      <td>False</td>\n",
              "      <td>False</td>\n",
              "      <td>False</td>\n",
              "      <td>...</td>\n",
              "      <td>True</td>\n",
              "      <td>False</td>\n",
              "      <td>False</td>\n",
              "      <td>False</td>\n",
              "      <td>False</td>\n",
              "      <td>False</td>\n",
              "      <td>True</td>\n",
              "      <td>True</td>\n",
              "      <td>False</td>\n",
              "      <td>False</td>\n",
              "    </tr>\n",
              "    <tr>\n",
              "      <th>20416</th>\n",
              "      <td>-1.178204e+00</td>\n",
              "      <td>False</td>\n",
              "      <td>False</td>\n",
              "      <td>True</td>\n",
              "      <td>False</td>\n",
              "      <td>False</td>\n",
              "      <td>False</td>\n",
              "      <td>False</td>\n",
              "      <td>False</td>\n",
              "      <td>False</td>\n",
              "      <td>...</td>\n",
              "      <td>True</td>\n",
              "      <td>False</td>\n",
              "      <td>False</td>\n",
              "      <td>False</td>\n",
              "      <td>True</td>\n",
              "      <td>False</td>\n",
              "      <td>False</td>\n",
              "      <td>False</td>\n",
              "      <td>True</td>\n",
              "      <td>False</td>\n",
              "    </tr>\n",
              "    <tr>\n",
              "      <th>5626</th>\n",
              "      <td>-5.953076e-01</td>\n",
              "      <td>False</td>\n",
              "      <td>False</td>\n",
              "      <td>False</td>\n",
              "      <td>False</td>\n",
              "      <td>False</td>\n",
              "      <td>False</td>\n",
              "      <td>False</td>\n",
              "      <td>True</td>\n",
              "      <td>False</td>\n",
              "      <td>...</td>\n",
              "      <td>True</td>\n",
              "      <td>False</td>\n",
              "      <td>False</td>\n",
              "      <td>False</td>\n",
              "      <td>False</td>\n",
              "      <td>False</td>\n",
              "      <td>True</td>\n",
              "      <td>True</td>\n",
              "      <td>False</td>\n",
              "      <td>False</td>\n",
              "    </tr>\n",
              "    <tr>\n",
              "      <th>23928</th>\n",
              "      <td>9.868390e-01</td>\n",
              "      <td>False</td>\n",
              "      <td>False</td>\n",
              "      <td>False</td>\n",
              "      <td>True</td>\n",
              "      <td>False</td>\n",
              "      <td>False</td>\n",
              "      <td>False</td>\n",
              "      <td>False</td>\n",
              "      <td>False</td>\n",
              "      <td>...</td>\n",
              "      <td>True</td>\n",
              "      <td>False</td>\n",
              "      <td>False</td>\n",
              "      <td>False</td>\n",
              "      <td>True</td>\n",
              "      <td>False</td>\n",
              "      <td>False</td>\n",
              "      <td>True</td>\n",
              "      <td>False</td>\n",
              "      <td>False</td>\n",
              "    </tr>\n",
              "    <tr>\n",
              "      <th>14831</th>\n",
              "      <td>-1.178204e+00</td>\n",
              "      <td>False</td>\n",
              "      <td>False</td>\n",
              "      <td>False</td>\n",
              "      <td>False</td>\n",
              "      <td>False</td>\n",
              "      <td>False</td>\n",
              "      <td>False</td>\n",
              "      <td>False</td>\n",
              "      <td>True</td>\n",
              "      <td>...</td>\n",
              "      <td>True</td>\n",
              "      <td>False</td>\n",
              "      <td>False</td>\n",
              "      <td>False</td>\n",
              "      <td>False</td>\n",
              "      <td>False</td>\n",
              "      <td>True</td>\n",
              "      <td>False</td>\n",
              "      <td>False</td>\n",
              "      <td>True</td>\n",
              "    </tr>\n",
              "  </tbody>\n",
              "</table>\n",
              "<p>8699 rows × 172 columns</p>\n",
              "</div>"
            ],
            "text/plain": [
              "                age  monthh_Apr  monthh_Aug  monthh_Dec  monthh_Feb  \\\n",
              "27578 -1.011662e+00       False       False       False       False   \n",
              "16132  3.206720e-01       False       False       False       False   \n",
              "25827  5.704847e-01       False        True       False       False   \n",
              "4859   7.085941e-02       False       False       False       False   \n",
              "17302  5.916751e-16       False       False       False        True   \n",
              "...             ...         ...         ...         ...         ...   \n",
              "24554  2.374012e-01        True       False       False       False   \n",
              "20416 -1.178204e+00       False       False        True       False   \n",
              "5626  -5.953076e-01       False       False       False       False   \n",
              "23928  9.868390e-01       False       False       False        True   \n",
              "14831 -1.178204e+00       False       False       False       False   \n",
              "\n",
              "       monthh_Jan  monthh_Jul  monthh_Jun  monthh_Mar  monthh_May  ...  \\\n",
              "27578       False       False       False       False       False  ...   \n",
              "16132       False       False       False       False       False  ...   \n",
              "25827       False       False       False       False       False  ...   \n",
              "4859        False       False       False       False       False  ...   \n",
              "17302       False       False       False       False       False  ...   \n",
              "...           ...         ...         ...         ...         ...  ...   \n",
              "24554       False       False       False       False       False  ...   \n",
              "20416       False       False       False       False       False  ...   \n",
              "5626        False       False       False        True       False  ...   \n",
              "23928       False       False       False       False       False  ...   \n",
              "14831       False       False       False       False        True  ...   \n",
              "\n",
              "       numberofcars_1 vehicle  numberofcars_2 vehicles  numberofcars_3 to 4  \\\n",
              "27578                    True                    False                False   \n",
              "16132                    True                    False                False   \n",
              "25827                    True                    False                False   \n",
              "4859                     True                    False                False   \n",
              "17302                    True                    False                False   \n",
              "...                       ...                      ...                  ...   \n",
              "24554                    True                    False                False   \n",
              "20416                    True                    False                False   \n",
              "5626                     True                    False                False   \n",
              "23928                    True                    False                False   \n",
              "14831                    True                    False                False   \n",
              "\n",
              "       numberofcars_5 to 8  yearr_1994  yearr_1995  yearr_1996  \\\n",
              "27578                False       False       False        True   \n",
              "16132                False       False       False        True   \n",
              "25827                False        True       False       False   \n",
              "4859                 False        True       False       False   \n",
              "17302                False        True       False       False   \n",
              "...                    ...         ...         ...         ...   \n",
              "24554                False       False       False        True   \n",
              "20416                False        True       False       False   \n",
              "5626                 False       False       False        True   \n",
              "23928                False        True       False       False   \n",
              "14831                False       False       False        True   \n",
              "\n",
              "       basepolicy_All Perils  basepolicy_Collision  basepolicy_Liability  \n",
              "27578                  False                  True                 False  \n",
              "16132                  False                  True                 False  \n",
              "25827                  False                  True                 False  \n",
              "4859                   False                 False                  True  \n",
              "17302                   True                 False                 False  \n",
              "...                      ...                   ...                   ...  \n",
              "24554                   True                 False                 False  \n",
              "20416                  False                  True                 False  \n",
              "5626                    True                 False                 False  \n",
              "23928                   True                 False                 False  \n",
              "14831                  False                 False                  True  \n",
              "\n",
              "[8699 rows x 172 columns]"
            ]
          },
          "execution_count": 59,
          "metadata": {},
          "output_type": "execute_result"
        }
      ],
      "source": [
        "# Crear un objeto de la clase StandardScaler\n",
        "scaler = StandardScaler()\n",
        "\n",
        "# Estandarizar la columna 'col'\n",
        "X_test_encoded['age'] = scaler.fit_transform(X_test_encoded[['age']])\n",
        "\n",
        "# Imprimir el dataset original con la columna estandarizada\n",
        "X_test_encoded\n"
      ]
    },
    {
      "cell_type": "code",
      "execution_count": 60,
      "metadata": {
        "id": "K-8QbZv28-EY"
      },
      "outputs": [],
      "source": [
        "X_test_best = X_test_encoded[['monthh_Dec', 'monthh_Jul', 'monthh_Nov', 'weekofmonth_1',\n",
        "       'weekofmonth_2', 'weekofmonth_3', 'weekofmonth_4', 'weekofmonth_5',\n",
        "       'dayofweek_Friday', 'dayofweek_Monday', 'dayofweek_Saturday',\n",
        "       'dayofweek_Thursday', 'dayofweek_Tuesday', 'dayofweek_Wednesday',\n",
        "       'make_Mazda', 'make_Pontiac', 'make_Toyota', 'dayofweekclaimed_Monday',\n",
        "       'dayofweekclaimed_Thursday', 'dayofweekclaimed_Tuesday',\n",
        "       'dayofweekclaimed_Wednesday', 'monthclaimed_Dec', 'monthclaimed_Jul',\n",
        "       'monthclaimed_Nov', 'weekofmonthclaimed_1', 'weekofmonthclaimed_2',\n",
        "       'weekofmonthclaimed_5', 'sex_Female', 'fault_Policy Holder',\n",
        "       'fault_Third Party', 'policytype_Sedan - Liability',\n",
        "       'vehiclecategory_Sedan', 'vehiclecategory_Sport',\n",
        "       'vehicleprice_20000 to 29000', 'vehicleprice_30000 to 39000',\n",
        "       'repnumber_11', 'driverrating_1', 'driverrating_2', 'driverrating_3',\n",
        "       'driverrating_4', 'pastnumberofclaims_1', 'pastnumberofclaims_2 to 4',\n",
        "       'pastnumberofclaims_more than 4', 'ageofvehicle_7 years',\n",
        "       'numberofsuppliments_1 to 2', 'numberofsuppliments_3 to 5',\n",
        "       'numberofsuppliments_more than 5', 'yearr_1995', 'yearr_1996',\n",
        "       'basepolicy_Liability']]"
      ]
    },
    {
      "cell_type": "markdown",
      "metadata": {
        "id": "YvPlhwmKLFMz"
      },
      "source": [
        "# CART EXPERIMENTO \n",
        "Probaremos ejecutar la clasificacion usando un arbol de clasificacion y regresión para ver que resultados obtenemos y como podemos mejorarlos."
      ]
    },
    {
      "cell_type": "code",
      "execution_count": 61,
      "metadata": {
        "id": "b-M0-fJS7_YE"
      },
      "outputs": [],
      "source": [
        "CART = DecisionTreeClassifier()"
      ]
    },
    {
      "cell_type": "code",
      "execution_count": 62,
      "metadata": {
        "id": "Czu4_BsG9wGl"
      },
      "outputs": [],
      "source": [
        "CART_trained = CART.fit(X_train_best, y_train)"
      ]
    },
    {
      "cell_type": "code",
      "execution_count": 63,
      "metadata": {
        "id": "r_6FahgC8lOG"
      },
      "outputs": [],
      "source": [
        "\n",
        "y__test_pred = CART_trained.predict(X_test_best)"
      ]
    },
    {
      "cell_type": "code",
      "execution_count": 64,
      "metadata": {
        "colab": {
          "base_uri": "https://localhost:8080/"
        },
        "id": "2h6aB2XD-7x5",
        "outputId": "f52dc5bf-e95c-42c7-8a44-f722b099ca73"
      },
      "outputs": [
        {
          "name": "stdout",
          "output_type": "stream",
          "text": [
            "              precision    recall  f1-score   support\n",
            "\n",
            "           0       1.00      0.92      0.96      4349\n",
            "           1       0.93      1.00      0.96      4350\n",
            "\n",
            "    accuracy                           0.96      8699\n",
            "   macro avg       0.96      0.96      0.96      8699\n",
            "weighted avg       0.96      0.96      0.96      8699\n",
            "\n"
          ]
        }
      ],
      "source": [
        "print(classification_report(y_test, y__test_pred))"
      ]
    },
    {
      "cell_type": "markdown",
      "metadata": {
        "id": "zYWGmsClLXPF"
      },
      "source": [
        "# NB EXPERIMENTO\n",
        "En segundo lugar usaremos el modelo de Naive Bayes para probar otra tecnica de clasificación y ver si los resultados mejoran con respecto al modelo anterior."
      ]
    },
    {
      "cell_type": "code",
      "execution_count": 65,
      "metadata": {
        "id": "OggDsK9kLZJE"
      },
      "outputs": [],
      "source": [
        "NB = GaussianNB()"
      ]
    },
    {
      "cell_type": "code",
      "execution_count": 66,
      "metadata": {
        "id": "soZGbBxhLoNQ"
      },
      "outputs": [],
      "source": [
        "NB_trained = NB.fit(X_train_best, y_train)"
      ]
    },
    {
      "cell_type": "code",
      "execution_count": 67,
      "metadata": {
        "id": "uFGpvKNOLxNO"
      },
      "outputs": [],
      "source": [
        "y__test_pred = NB_trained.predict(X_test_best)"
      ]
    },
    {
      "cell_type": "code",
      "execution_count": 68,
      "metadata": {
        "colab": {
          "base_uri": "https://localhost:8080/"
        },
        "id": "wjUZAlFZL34M",
        "outputId": "8975d7ae-e357-4e24-8d82-888eacf9b2fc"
      },
      "outputs": [
        {
          "name": "stdout",
          "output_type": "stream",
          "text": [
            "              precision    recall  f1-score   support\n",
            "\n",
            "           0       0.84      0.61      0.71      4349\n",
            "           1       0.69      0.88      0.78      4350\n",
            "\n",
            "    accuracy                           0.75      8699\n",
            "   macro avg       0.77      0.75      0.74      8699\n",
            "weighted avg       0.77      0.75      0.74      8699\n",
            "\n"
          ]
        }
      ],
      "source": [
        "print(classification_report(y_test, y__test_pred))"
      ]
    },
    {
      "cell_type": "markdown",
      "metadata": {
        "id": "XIy88TX3L8Dg"
      },
      "source": [
        "# LR EXPERIMENTO\n",
        "Por ultimo probaremos con la regresión logistica."
      ]
    },
    {
      "cell_type": "code",
      "execution_count": 69,
      "metadata": {
        "id": "yASSVb3ML_y0"
      },
      "outputs": [],
      "source": [
        "LR = LogisticRegression(solver='liblinear')"
      ]
    },
    {
      "cell_type": "code",
      "execution_count": 70,
      "metadata": {
        "id": "wAn64He9MFlq"
      },
      "outputs": [],
      "source": [
        "LR_trained = LR.fit(X_train_best, y_train)"
      ]
    },
    {
      "cell_type": "code",
      "execution_count": 71,
      "metadata": {
        "id": "uZl-eUWsMKUs"
      },
      "outputs": [],
      "source": [
        "y__test_pred = LR_trained.predict(X_test_best)"
      ]
    },
    {
      "cell_type": "code",
      "execution_count": 72,
      "metadata": {
        "colab": {
          "base_uri": "https://localhost:8080/"
        },
        "id": "VDZzw6eQMNJF",
        "outputId": "8abd0b23-fac3-48f0-ec84-1388e3f9ac63"
      },
      "outputs": [
        {
          "name": "stdout",
          "output_type": "stream",
          "text": [
            "              precision    recall  f1-score   support\n",
            "\n",
            "           0       0.87      0.59      0.70      4349\n",
            "           1       0.69      0.91      0.79      4350\n",
            "\n",
            "    accuracy                           0.75      8699\n",
            "   macro avg       0.78      0.75      0.75      8699\n",
            "weighted avg       0.78      0.75      0.75      8699\n",
            "\n"
          ]
        }
      ],
      "source": [
        "print(classification_report(y_test, y__test_pred))"
      ]
    },
    {
      "cell_type": "markdown",
      "metadata": {
        "id": "WRMbBsMIhn42"
      },
      "source": [
        "Hyperparametrizacion del mejor modelo CART\n"
      ]
    },
    {
      "cell_type": "code",
      "execution_count": 73,
      "metadata": {
        "colab": {
          "base_uri": "https://localhost:8080/"
        },
        "id": "k2CI0h3vhquU",
        "outputId": "003bc00d-3b54-42a9-dfe7-c6897f3c8998"
      },
      "outputs": [
        {
          "data": {
            "text/plain": [
              "{'criterion': 'gini', 'max_depth': 18}"
            ]
          },
          "execution_count": 73,
          "metadata": {},
          "output_type": "execute_result"
        }
      ],
      "source": [
        "parameters = {'max_depth': [10,12,13,14,15,16,17,18], 'criterion': [\"gini\", \"entropy\", \"log_loss\"]}\n",
        "\n",
        "grid_search = GridSearchCV(DecisionTreeClassifier(), parameters, cv=10, return_train_score=True)\n",
        "grid_search.fit(X_train_best, y_train)\n",
        "\n",
        "grid_search.best_params_"
      ]
    },
    {
      "cell_type": "code",
      "execution_count": 74,
      "metadata": {
        "id": "4A9vgJOsiZBV"
      },
      "outputs": [],
      "source": [
        "CART_best = grid_search.best_estimator_"
      ]
    },
    {
      "cell_type": "markdown",
      "metadata": {
        "id": "BdnhD1pCigLj"
      },
      "source": [
        "Predicción con el modelo hyperparametrizado"
      ]
    },
    {
      "cell_type": "code",
      "execution_count": 75,
      "metadata": {
        "id": "ki3-XvkuifM9"
      },
      "outputs": [],
      "source": [
        "CART_best.fit(X_train_best, y_train)\n",
        "y__test_pred = CART_best.predict(X_test_best)"
      ]
    },
    {
      "cell_type": "code",
      "execution_count": 76,
      "metadata": {
        "colab": {
          "base_uri": "https://localhost:8080/"
        },
        "id": "GUfmr82QjJt2",
        "outputId": "2d0aaa12-126f-408a-9677-73b9fe0d21db"
      },
      "outputs": [
        {
          "name": "stdout",
          "output_type": "stream",
          "text": [
            "              precision    recall  f1-score   support\n",
            "\n",
            "           0       0.99      0.82      0.90      4349\n",
            "           1       0.85      0.99      0.91      4350\n",
            "\n",
            "    accuracy                           0.91      8699\n",
            "   macro avg       0.92      0.91      0.91      8699\n",
            "weighted avg       0.92      0.91      0.91      8699\n",
            "\n"
          ]
        }
      ],
      "source": [
        "print(classification_report(y_test, y__test_pred))"
      ]
    },
    {
      "cell_type": "markdown",
      "metadata": {},
      "source": [
        "Guardando los modelos en formato joblib\n",
        "\n"
      ]
    },
    {
      "cell_type": "code",
      "execution_count": 79,
      "metadata": {},
      "outputs": [
        {
          "data": {
            "text/plain": [
              "['NiveBayes.pkl']"
            ]
          },
          "execution_count": 79,
          "metadata": {},
          "output_type": "execute_result"
        }
      ],
      "source": [
        "import joblib\n",
        "joblib.dump(CART_trained, 'CART1.pkl')\n",
        "joblib.dump(CART_best, 'CARTbest.pkl')\n",
        "joblib.dump(LR_trained, 'LogisticRegression.pkl')\n",
        "joblib.dump(NB_trained, 'NiveBayes.pkl')\n",
        "\n",
        "\n"
      ]
    },
    {
      "cell_type": "markdown",
      "metadata": {},
      "source": [
        "**Conclusiones**\n",
        "\n",
        "\n",
        "\n",
        "Con el objetivo de poder desarollar un ejercicio de machine learning satisfactorio, se preprocesaron los datos de las reclamaciones de seguros contra siniestros eliminando columnas innecesarias, se imputaron los valores faltantes por la media o la moda en el caso de las variables categoricas, se aplicó la tecnica de remuestreo conocida como random oversamplig para afrontar el problema de desbalance de datos a la hora de entrenar los modelos y  se codificaron las variables categoricas para obtener dummies con las que se entrena el modelo y se hace una seleccion mediante el metodo selec k best para acotar las mejores caracteristicas que aportan explicacion al modelo y asi evitar  el sobreajuste.\n",
        "\n",
        "Posteriormente se particiona el dataset en un set de entrenamiento y uno de pruebas para testear el modelo con datos desconocidos, se aplica la tecnica de cross validation estratificado para que en cada iteracion de la validacion cruzada se tome la misma cantidad de muestras de cada una de las clases objetivo y se observa el comportamiento del tradeoff sesgo varianza con el objetivo de ver como se comporta el modelo en muestras repetidas de datos para evitar el problema de sobreajuste conocido como 'overfitting' que puede ser problematico a la hora de poner el modelo en producción. Posteriormente se entrenan 3 modelos:\n",
        "\n",
        "La metrica relevante a estudiar en este caso sera la metrica de recall debido a que esta metrica es la apropiada cuando el costo a nivel de negocio de los falsos negativos es alto, en este caso, el costo de clasificar como no fraudulentos a reclamaciones que en realidad si lo son es la principal fuente de perdidas y el principal proble a abordar en este ejercicio.\n",
        "\n",
        "1. CART : Classification and regression tree- Se entrena un modelo CART sobre el set de datos para clasificar la variable fraudfound_p obteniendo las siguientes metricas de desempeño.\n",
        "\n",
        "                precision    recall  f1-score   support\n",
        "\n",
        "           0       1.00      0.92      0.96      4349\n",
        "           1       0.93      1.00      0.96      4350\n",
        "\n",
        "    accuracy                           0.96      8699\n",
        "   macro avg       0.96      0.96      0.96      8699\n",
        "weighted avg       0.96      0.96      0.96      8699\n",
        "\n",
        "Para este caso, es importante que el modelo nos ayude a capturar correctamente los casos que efectivamente fueron fraudulentos dentro del total de casos, teniendo en cuenta que esta es la clase minoritaria, y que lo importante es que desde el punto de vista de negocio, no se clasifiquen como casos no fraudulentos aquellos que en realidad si lo son . Este modelo presenta un recall de 1 para la clase minoritaria por lo cual podria considerarse que es un modelo que se sobreajusta a los datos, sin embargo este test se aplico sobre los datos de prueba que son desconocidos por el modelo. De esta manera podemos concluir que este es un potencial modelo a ser empleado por la empresa.\n",
        "\n",
        "2. Naive Bayes :  Para el modelo Naive Bayes se obtienen los siguientes resultados:\n",
        "\n",
        "            precision    recall  f1-score   support\n",
        "\n",
        "           0       0.84      0.61      0.71      4349\n",
        "           1       0.69      0.88      0.78      4350\n",
        "    accuracy                           0.75      8699\n",
        "   macro avg       0.77      0.75      0.74      8699\n",
        "weighted avg       0.77      0.75      0.74      8699\n",
        "\n",
        "\n",
        "\n",
        "Lo cual indica que con un 0.88 de recall para la clase minoritaria, este modelo tiene una buena capacidad para predecir casos de reclamaciones fraudulentas. Sin embargo tiene el costo asociado de que en muchas ocaciones puede clasificar como fraudulentas a reclamaciones que no lo son en realidad.\n",
        "\n",
        "3. Regresión logistica: para el modelo de regresión logistica obtenemos los siguiente resultados:\n",
        "\n",
        "\n",
        "              precision    recall  f1-score   support\n",
        "\n",
        "           0       0.87      0.59      0.70      4349\n",
        "           1       0.69      0.91      0.79      4350\n",
        "    accuracy                           0.75      8699\n",
        "   macro avg       0.78      0.75      0.75      8699\n",
        "weighted avg       0.78      0.75      0.75      8699\n",
        "\n",
        "\n",
        "\n",
        "Este modelo tiene una mejor capacidad de predecir la clase minoritaria que el modelo de naive bayes , sin embaro comete bastantes errores a la hora de clasificar las reclamaciones no fraudulentas.\n",
        "\n",
        "4. CART con ajuste de hiperparametros:\n",
        "\n",
        "Por ultimo observamos que las metricas del CART con ajuste de hiperparametros son:\n",
        "\n",
        "              precision    recall  f1-score   support\n",
        "\n",
        "           0       0.99      0.82      0.90      4349\n",
        "           1       0.85      0.99      0.92      4350\n",
        "    accuracy                           0.91      8699\n",
        "   macro avg       0.92      0.91      0.91      8699\n",
        "weighted avg       0.92      0.91      0.91      8699\n",
        "\n",
        "\n",
        "\n",
        "\n",
        " Como conclusion, se puede proponer el uso de los modelos CART con ajuste de hiperparametros y Naive Bayes con el objetivo de apoyar al departamento de ventas e investigaciones a la hora de vender seguros contra accidentes y desembolsar los mismos cuando se presenten reclamaciones. Estos modelos pueden apoyar en la identificación de casos fraudulentos y disminuir las perdidas que la empresa sufre como consecuencia de tener que hacer pagos a clientes que han mentido y declarado de manera falsa los daños sufridos en los accidentes, asi como tambien las condiciones bajo las cuales sucedieron los mismos."
      ]
    },
    {
      "cell_type": "markdown",
      "metadata": {},
      "source": []
    }
  ],
  "metadata": {
    "colab": {
      "provenance": []
    },
    "kernelspec": {
      "display_name": "Python 3",
      "name": "python3"
    },
    "language_info": {
      "codemirror_mode": {
        "name": "ipython",
        "version": 3
      },
      "file_extension": ".py",
      "mimetype": "text/x-python",
      "name": "python",
      "nbconvert_exporter": "python",
      "pygments_lexer": "ipython3",
      "version": "3.9.16"
    }
  },
  "nbformat": 4,
  "nbformat_minor": 0
}
